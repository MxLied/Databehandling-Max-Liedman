{
 "cells": [
  {
   "cell_type": "code",
   "execution_count": 2,
   "metadata": {},
   "outputs": [
    {
     "name": "stdout",
     "output_type": "stream",
     "text": [
      "v\n"
     ]
    }
   ],
   "source": [
    "frukter = [\"jordgubbe\", \"vindruva\"]\n",
    "godfrukt = frukter[1]\n",
    "print(godfrukt[0])"
   ]
  },
  {
   "cell_type": "code",
   "execution_count": 8,
   "metadata": {},
   "outputs": [
    {
     "name": "stdout",
     "output_type": "stream",
     "text": [
      "x x x x x \n",
      "x x x x \n",
      "x x x \n",
      "x x \n",
      "x \n"
     ]
    }
   ],
   "source": [
    "n =5\n",
    "\n",
    "for i in range(n):\n",
    "    print((n-i) *'x ')\n",
    "    \n"
   ]
  },
  {
   "cell_type": "code",
   "execution_count": 29,
   "metadata": {},
   "outputs": [
    {
     "name": "stdout",
     "output_type": "stream",
     "text": [
      "tusenlappar =  3\n",
      "tvåhundralappar =  1\n",
      "tiokrona =  1\n",
      "enkrona =  4\n"
     ]
    }
   ],
   "source": [
    "def converter(x):\n",
    "\n",
    "    tussenlappar    =  int(x/1000)\n",
    "    temp_sum            = x-tussenlappar*1000\n",
    "    tvåhundralappar =  int(temp_sum/200)\n",
    "    temp_sum            = temp_sum-tvåhundralappar*200\n",
    "    tiokrona        = int(temp_sum/10)\n",
    "    enkrona         = temp_sum-tiokrona*10\n",
    " \n",
    "\n",
    "    print(\"tusenlappar = \", tussenlappar)\n",
    "    print(\"tvåhundralappar = \", tvåhundralappar)\n",
    "    print(\"tiokrona = \", tiokrona)\n",
    "    print(\"enkrona = \", enkrona)\n",
    "\n",
    "\n",
    "    # temp_sum_str= str(x)\n",
    "    # for i in range(0,len(temp_sum_str)):\n",
    "    #     print(i)\n",
    "\n",
    "\n",
    "\n",
    "\n",
    "converter(3214)   "
   ]
  }
 ],
 "metadata": {
  "kernelspec": {
   "display_name": "Python 3.9.13 64-bit",
   "language": "python",
   "name": "python3"
  },
  "language_info": {
   "codemirror_mode": {
    "name": "ipython",
    "version": 3
   },
   "file_extension": ".py",
   "mimetype": "text/x-python",
   "name": "python",
   "nbconvert_exporter": "python",
   "pygments_lexer": "ipython3",
   "version": "3.9.13"
  },
  "orig_nbformat": 4,
  "vscode": {
   "interpreter": {
    "hash": "0dcd1d2511816899a74ba735f0586ad2a5252297c95097d38969d839b5b7443a"
   }
  }
 },
 "nbformat": 4,
 "nbformat_minor": 2
}
