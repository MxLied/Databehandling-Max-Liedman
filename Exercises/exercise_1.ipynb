{
 "cells": [
  {
   "cell_type": "markdown",
   "metadata": {},
   "source": [
    "## 1. Find missing values (*)"
   ]
  },
  {
   "cell_type": "code",
   "execution_count": 2,
   "metadata": {},
   "outputs": [
    {
     "data": {
      "text/html": [
       "<div>\n",
       "<style scoped>\n",
       "    .dataframe tbody tr th:only-of-type {\n",
       "        vertical-align: middle;\n",
       "    }\n",
       "\n",
       "    .dataframe tbody tr th {\n",
       "        vertical-align: top;\n",
       "    }\n",
       "\n",
       "    .dataframe thead th {\n",
       "        text-align: right;\n",
       "    }\n",
       "</style>\n",
       "<table border=\"1\" class=\"dataframe\">\n",
       "  <thead>\n",
       "    <tr style=\"text-align: right;\">\n",
       "      <th></th>\n",
       "      <th>Unnamed: 0</th>\n",
       "      <th>school</th>\n",
       "      <th>sex</th>\n",
       "      <th>age</th>\n",
       "      <th>address</th>\n",
       "      <th>famsize</th>\n",
       "      <th>Pstatus</th>\n",
       "      <th>Medu</th>\n",
       "      <th>Fedu</th>\n",
       "      <th>Mjob</th>\n",
       "      <th>...</th>\n",
       "      <th>famrel</th>\n",
       "      <th>freetime</th>\n",
       "      <th>goout</th>\n",
       "      <th>Dalc</th>\n",
       "      <th>Walc</th>\n",
       "      <th>health</th>\n",
       "      <th>absences</th>\n",
       "      <th>G1</th>\n",
       "      <th>G2</th>\n",
       "      <th>G3</th>\n",
       "    </tr>\n",
       "  </thead>\n",
       "  <tbody>\n",
       "    <tr>\n",
       "      <th>0</th>\n",
       "      <td>0</td>\n",
       "      <td>GP</td>\n",
       "      <td>F</td>\n",
       "      <td>18.0</td>\n",
       "      <td>U</td>\n",
       "      <td>GT3</td>\n",
       "      <td>A</td>\n",
       "      <td>4</td>\n",
       "      <td>4</td>\n",
       "      <td>at_home</td>\n",
       "      <td>...</td>\n",
       "      <td>4.0</td>\n",
       "      <td>3.0</td>\n",
       "      <td>4.0</td>\n",
       "      <td>1</td>\n",
       "      <td>1</td>\n",
       "      <td>3.0</td>\n",
       "      <td>6.0</td>\n",
       "      <td>5</td>\n",
       "      <td>6</td>\n",
       "      <td>6</td>\n",
       "    </tr>\n",
       "    <tr>\n",
       "      <th>1</th>\n",
       "      <td>1</td>\n",
       "      <td>GP</td>\n",
       "      <td>F</td>\n",
       "      <td>17.0</td>\n",
       "      <td>U</td>\n",
       "      <td>GT3</td>\n",
       "      <td>T</td>\n",
       "      <td>1</td>\n",
       "      <td>1</td>\n",
       "      <td>at_home</td>\n",
       "      <td>...</td>\n",
       "      <td>5.0</td>\n",
       "      <td>3.0</td>\n",
       "      <td>3.0</td>\n",
       "      <td>1</td>\n",
       "      <td>1</td>\n",
       "      <td>3.0</td>\n",
       "      <td>4.0</td>\n",
       "      <td>5</td>\n",
       "      <td>5</td>\n",
       "      <td>6</td>\n",
       "    </tr>\n",
       "    <tr>\n",
       "      <th>2</th>\n",
       "      <td>2</td>\n",
       "      <td>GP</td>\n",
       "      <td>F</td>\n",
       "      <td>15.0</td>\n",
       "      <td>U</td>\n",
       "      <td>LE3</td>\n",
       "      <td>T</td>\n",
       "      <td>1</td>\n",
       "      <td>1</td>\n",
       "      <td>at_home</td>\n",
       "      <td>...</td>\n",
       "      <td>4.0</td>\n",
       "      <td>3.0</td>\n",
       "      <td>2.0</td>\n",
       "      <td>2</td>\n",
       "      <td>3</td>\n",
       "      <td>3.0</td>\n",
       "      <td>10.0</td>\n",
       "      <td>7</td>\n",
       "      <td>8</td>\n",
       "      <td>10</td>\n",
       "    </tr>\n",
       "    <tr>\n",
       "      <th>3</th>\n",
       "      <td>3</td>\n",
       "      <td>GP</td>\n",
       "      <td>F</td>\n",
       "      <td>15.0</td>\n",
       "      <td>U</td>\n",
       "      <td>GT3</td>\n",
       "      <td>T</td>\n",
       "      <td>4</td>\n",
       "      <td>2</td>\n",
       "      <td>health</td>\n",
       "      <td>...</td>\n",
       "      <td>3.0</td>\n",
       "      <td>2.0</td>\n",
       "      <td>2.0</td>\n",
       "      <td>1</td>\n",
       "      <td>1</td>\n",
       "      <td>5.0</td>\n",
       "      <td>2.0</td>\n",
       "      <td>15</td>\n",
       "      <td>14</td>\n",
       "      <td>15</td>\n",
       "    </tr>\n",
       "    <tr>\n",
       "      <th>4</th>\n",
       "      <td>4</td>\n",
       "      <td>GP</td>\n",
       "      <td>F</td>\n",
       "      <td>16.0</td>\n",
       "      <td>U</td>\n",
       "      <td>GT3</td>\n",
       "      <td>T</td>\n",
       "      <td>3</td>\n",
       "      <td>3</td>\n",
       "      <td>other</td>\n",
       "      <td>...</td>\n",
       "      <td>4.0</td>\n",
       "      <td>3.0</td>\n",
       "      <td>2.0</td>\n",
       "      <td>1</td>\n",
       "      <td>2</td>\n",
       "      <td>5.0</td>\n",
       "      <td>4.0</td>\n",
       "      <td>6</td>\n",
       "      <td>10</td>\n",
       "      <td>10</td>\n",
       "    </tr>\n",
       "    <tr>\n",
       "      <th>...</th>\n",
       "      <td>...</td>\n",
       "      <td>...</td>\n",
       "      <td>...</td>\n",
       "      <td>...</td>\n",
       "      <td>...</td>\n",
       "      <td>...</td>\n",
       "      <td>...</td>\n",
       "      <td>...</td>\n",
       "      <td>...</td>\n",
       "      <td>...</td>\n",
       "      <td>...</td>\n",
       "      <td>...</td>\n",
       "      <td>...</td>\n",
       "      <td>...</td>\n",
       "      <td>...</td>\n",
       "      <td>...</td>\n",
       "      <td>...</td>\n",
       "      <td>...</td>\n",
       "      <td>...</td>\n",
       "      <td>...</td>\n",
       "      <td>...</td>\n",
       "    </tr>\n",
       "    <tr>\n",
       "      <th>390</th>\n",
       "      <td>390</td>\n",
       "      <td>MS</td>\n",
       "      <td>M</td>\n",
       "      <td>20.0</td>\n",
       "      <td>U</td>\n",
       "      <td>LE3</td>\n",
       "      <td>A</td>\n",
       "      <td>2</td>\n",
       "      <td>2</td>\n",
       "      <td>services</td>\n",
       "      <td>...</td>\n",
       "      <td>5.0</td>\n",
       "      <td>5.0</td>\n",
       "      <td>4.0</td>\n",
       "      <td>4</td>\n",
       "      <td>5</td>\n",
       "      <td>4.0</td>\n",
       "      <td>11.0</td>\n",
       "      <td>9</td>\n",
       "      <td>9</td>\n",
       "      <td>9</td>\n",
       "    </tr>\n",
       "    <tr>\n",
       "      <th>391</th>\n",
       "      <td>391</td>\n",
       "      <td>MS</td>\n",
       "      <td>M</td>\n",
       "      <td>17.0</td>\n",
       "      <td>U</td>\n",
       "      <td>LE3</td>\n",
       "      <td>T</td>\n",
       "      <td>3</td>\n",
       "      <td>1</td>\n",
       "      <td>services</td>\n",
       "      <td>...</td>\n",
       "      <td>2.0</td>\n",
       "      <td>4.0</td>\n",
       "      <td>5.0</td>\n",
       "      <td>3</td>\n",
       "      <td>4</td>\n",
       "      <td>2.0</td>\n",
       "      <td>3.0</td>\n",
       "      <td>14</td>\n",
       "      <td>16</td>\n",
       "      <td>16</td>\n",
       "    </tr>\n",
       "    <tr>\n",
       "      <th>392</th>\n",
       "      <td>392</td>\n",
       "      <td>MS</td>\n",
       "      <td>M</td>\n",
       "      <td>21.0</td>\n",
       "      <td>R</td>\n",
       "      <td>GT3</td>\n",
       "      <td>T</td>\n",
       "      <td>1</td>\n",
       "      <td>1</td>\n",
       "      <td>other</td>\n",
       "      <td>...</td>\n",
       "      <td>5.0</td>\n",
       "      <td>5.0</td>\n",
       "      <td>3.0</td>\n",
       "      <td>3</td>\n",
       "      <td>3</td>\n",
       "      <td>3.0</td>\n",
       "      <td>3.0</td>\n",
       "      <td>10</td>\n",
       "      <td>8</td>\n",
       "      <td>7</td>\n",
       "    </tr>\n",
       "    <tr>\n",
       "      <th>393</th>\n",
       "      <td>393</td>\n",
       "      <td>MS</td>\n",
       "      <td>M</td>\n",
       "      <td>18.0</td>\n",
       "      <td>R</td>\n",
       "      <td>LE3</td>\n",
       "      <td>T</td>\n",
       "      <td>3</td>\n",
       "      <td>2</td>\n",
       "      <td>services</td>\n",
       "      <td>...</td>\n",
       "      <td>4.0</td>\n",
       "      <td>4.0</td>\n",
       "      <td>1.0</td>\n",
       "      <td>3</td>\n",
       "      <td>4</td>\n",
       "      <td>5.0</td>\n",
       "      <td>0.0</td>\n",
       "      <td>11</td>\n",
       "      <td>12</td>\n",
       "      <td>10</td>\n",
       "    </tr>\n",
       "    <tr>\n",
       "      <th>394</th>\n",
       "      <td>394</td>\n",
       "      <td>MS</td>\n",
       "      <td>M</td>\n",
       "      <td>19.0</td>\n",
       "      <td>U</td>\n",
       "      <td>LE3</td>\n",
       "      <td>T</td>\n",
       "      <td>1</td>\n",
       "      <td>1</td>\n",
       "      <td>other</td>\n",
       "      <td>...</td>\n",
       "      <td>3.0</td>\n",
       "      <td>2.0</td>\n",
       "      <td>3.0</td>\n",
       "      <td>3</td>\n",
       "      <td>3</td>\n",
       "      <td>5.0</td>\n",
       "      <td>5.0</td>\n",
       "      <td>8</td>\n",
       "      <td>9</td>\n",
       "      <td>9</td>\n",
       "    </tr>\n",
       "  </tbody>\n",
       "</table>\n",
       "<p>395 rows × 34 columns</p>\n",
       "</div>"
      ],
      "text/plain": [
       "     Unnamed: 0 school sex   age address famsize Pstatus  Medu  Fedu  \\\n",
       "0             0     GP   F  18.0       U     GT3       A     4     4   \n",
       "1             1     GP   F  17.0       U     GT3       T     1     1   \n",
       "2             2     GP   F  15.0       U     LE3       T     1     1   \n",
       "3             3     GP   F  15.0       U     GT3       T     4     2   \n",
       "4             4     GP   F  16.0       U     GT3       T     3     3   \n",
       "..          ...    ...  ..   ...     ...     ...     ...   ...   ...   \n",
       "390         390     MS   M  20.0       U     LE3       A     2     2   \n",
       "391         391     MS   M  17.0       U     LE3       T     3     1   \n",
       "392         392     MS   M  21.0       R     GT3       T     1     1   \n",
       "393         393     MS   M  18.0       R     LE3       T     3     2   \n",
       "394         394     MS   M  19.0       U     LE3       T     1     1   \n",
       "\n",
       "         Mjob  ... famrel freetime goout  Dalc  Walc  health absences  G1  G2  \\\n",
       "0     at_home  ...    4.0      3.0   4.0     1     1     3.0      6.0   5   6   \n",
       "1     at_home  ...    5.0      3.0   3.0     1     1     3.0      4.0   5   5   \n",
       "2     at_home  ...    4.0      3.0   2.0     2     3     3.0     10.0   7   8   \n",
       "3      health  ...    3.0      2.0   2.0     1     1     5.0      2.0  15  14   \n",
       "4       other  ...    4.0      3.0   2.0     1     2     5.0      4.0   6  10   \n",
       "..        ...  ...    ...      ...   ...   ...   ...     ...      ...  ..  ..   \n",
       "390  services  ...    5.0      5.0   4.0     4     5     4.0     11.0   9   9   \n",
       "391  services  ...    2.0      4.0   5.0     3     4     2.0      3.0  14  16   \n",
       "392     other  ...    5.0      5.0   3.0     3     3     3.0      3.0  10   8   \n",
       "393  services  ...    4.0      4.0   1.0     3     4     5.0      0.0  11  12   \n",
       "394     other  ...    3.0      2.0   3.0     3     3     5.0      5.0   8   9   \n",
       "\n",
       "     G3  \n",
       "0     6  \n",
       "1     6  \n",
       "2    10  \n",
       "3    15  \n",
       "4    10  \n",
       "..   ..  \n",
       "390   9  \n",
       "391  16  \n",
       "392   7  \n",
       "393  10  \n",
       "394   9  \n",
       "\n",
       "[395 rows x 34 columns]"
      ]
     },
     "execution_count": 2,
     "metadata": {},
     "output_type": "execute_result"
    }
   ],
   "source": [
    "import seaborn as sns\n",
    "import pandas as pd\n",
    "\n",
    "student_file = \"../Data/student-mat-missing-data.csv\"\n",
    "\n",
    "student_info = pd.read_csv(student_file)\n",
    "\n",
    "student_info"
   ]
  },
  {
   "cell_type": "code",
   "execution_count": 3,
   "metadata": {},
   "outputs": [
    {
     "name": "stdout",
     "output_type": "stream",
     "text": [
      "<class 'pandas.core.frame.DataFrame'>\n",
      "RangeIndex: 395 entries, 0 to 394\n",
      "Data columns (total 34 columns):\n",
      " #   Column      Non-Null Count  Dtype  \n",
      "---  ------      --------------  -----  \n",
      " 0   Unnamed: 0  395 non-null    int64  \n",
      " 1   school      395 non-null    object \n",
      " 2   sex         395 non-null    object \n",
      " 3   age         381 non-null    float64\n",
      " 4   address     390 non-null    object \n",
      " 5   famsize     395 non-null    object \n",
      " 6   Pstatus     395 non-null    object \n",
      " 7   Medu        395 non-null    int64  \n",
      " 8   Fedu        395 non-null    int64  \n",
      " 9   Mjob        395 non-null    object \n",
      " 10  Fjob        395 non-null    object \n",
      " 11  reason      395 non-null    object \n",
      " 12  guardian    395 non-null    object \n",
      " 13  traveltime  395 non-null    int64  \n",
      " 14  studytime   395 non-null    int64  \n",
      " 15  failures    395 non-null    int64  \n",
      " 16  schoolsup   395 non-null    object \n",
      " 17  famsup      395 non-null    object \n",
      " 18  paid        395 non-null    object \n",
      " 19  activities  395 non-null    object \n",
      " 20  nursery     395 non-null    object \n",
      " 21  higher      395 non-null    object \n",
      " 22  internet    395 non-null    object \n",
      " 23  romantic    395 non-null    object \n",
      " 24  famrel      390 non-null    float64\n",
      " 25  freetime    379 non-null    float64\n",
      " 26  goout       390 non-null    float64\n",
      " 27  Dalc        395 non-null    int64  \n",
      " 28  Walc        395 non-null    int64  \n",
      " 29  health      390 non-null    float64\n",
      " 30  absences    390 non-null    float64\n",
      " 31  G1          395 non-null    int64  \n",
      " 32  G2          395 non-null    int64  \n",
      " 33  G3          395 non-null    int64  \n",
      "dtypes: float64(6), int64(11), object(17)\n",
      "memory usage: 105.0+ KB\n"
     ]
    }
   ],
   "source": [
    "student_info.info()"
   ]
  },
  {
   "cell_type": "code",
   "execution_count": 4,
   "metadata": {},
   "outputs": [
    {
     "data": {
      "text/html": [
       "<div>\n",
       "<style scoped>\n",
       "    .dataframe tbody tr th:only-of-type {\n",
       "        vertical-align: middle;\n",
       "    }\n",
       "\n",
       "    .dataframe tbody tr th {\n",
       "        vertical-align: top;\n",
       "    }\n",
       "\n",
       "    .dataframe thead th {\n",
       "        text-align: right;\n",
       "    }\n",
       "</style>\n",
       "<table border=\"1\" class=\"dataframe\">\n",
       "  <thead>\n",
       "    <tr style=\"text-align: right;\">\n",
       "      <th></th>\n",
       "      <th>Unnamed: 0</th>\n",
       "      <th>school</th>\n",
       "      <th>sex</th>\n",
       "      <th>age</th>\n",
       "      <th>address</th>\n",
       "      <th>famsize</th>\n",
       "      <th>Pstatus</th>\n",
       "      <th>Medu</th>\n",
       "      <th>Fedu</th>\n",
       "      <th>Mjob</th>\n",
       "      <th>...</th>\n",
       "      <th>famrel</th>\n",
       "      <th>freetime</th>\n",
       "      <th>goout</th>\n",
       "      <th>Dalc</th>\n",
       "      <th>Walc</th>\n",
       "      <th>health</th>\n",
       "      <th>absences</th>\n",
       "      <th>G1</th>\n",
       "      <th>G2</th>\n",
       "      <th>G3</th>\n",
       "    </tr>\n",
       "  </thead>\n",
       "  <tbody>\n",
       "    <tr>\n",
       "      <th>0</th>\n",
       "      <td>0</td>\n",
       "      <td>GP</td>\n",
       "      <td>F</td>\n",
       "      <td>18.0</td>\n",
       "      <td>U</td>\n",
       "      <td>GT3</td>\n",
       "      <td>A</td>\n",
       "      <td>4</td>\n",
       "      <td>4</td>\n",
       "      <td>at_home</td>\n",
       "      <td>...</td>\n",
       "      <td>4.0</td>\n",
       "      <td>3.0</td>\n",
       "      <td>4.0</td>\n",
       "      <td>1</td>\n",
       "      <td>1</td>\n",
       "      <td>3.0</td>\n",
       "      <td>6.0</td>\n",
       "      <td>5</td>\n",
       "      <td>6</td>\n",
       "      <td>6</td>\n",
       "    </tr>\n",
       "    <tr>\n",
       "      <th>1</th>\n",
       "      <td>1</td>\n",
       "      <td>GP</td>\n",
       "      <td>F</td>\n",
       "      <td>17.0</td>\n",
       "      <td>U</td>\n",
       "      <td>GT3</td>\n",
       "      <td>T</td>\n",
       "      <td>1</td>\n",
       "      <td>1</td>\n",
       "      <td>at_home</td>\n",
       "      <td>...</td>\n",
       "      <td>5.0</td>\n",
       "      <td>3.0</td>\n",
       "      <td>3.0</td>\n",
       "      <td>1</td>\n",
       "      <td>1</td>\n",
       "      <td>3.0</td>\n",
       "      <td>4.0</td>\n",
       "      <td>5</td>\n",
       "      <td>5</td>\n",
       "      <td>6</td>\n",
       "    </tr>\n",
       "    <tr>\n",
       "      <th>2</th>\n",
       "      <td>2</td>\n",
       "      <td>GP</td>\n",
       "      <td>F</td>\n",
       "      <td>15.0</td>\n",
       "      <td>U</td>\n",
       "      <td>LE3</td>\n",
       "      <td>T</td>\n",
       "      <td>1</td>\n",
       "      <td>1</td>\n",
       "      <td>at_home</td>\n",
       "      <td>...</td>\n",
       "      <td>4.0</td>\n",
       "      <td>3.0</td>\n",
       "      <td>2.0</td>\n",
       "      <td>2</td>\n",
       "      <td>3</td>\n",
       "      <td>3.0</td>\n",
       "      <td>10.0</td>\n",
       "      <td>7</td>\n",
       "      <td>8</td>\n",
       "      <td>10</td>\n",
       "    </tr>\n",
       "    <tr>\n",
       "      <th>3</th>\n",
       "      <td>3</td>\n",
       "      <td>GP</td>\n",
       "      <td>F</td>\n",
       "      <td>15.0</td>\n",
       "      <td>U</td>\n",
       "      <td>GT3</td>\n",
       "      <td>T</td>\n",
       "      <td>4</td>\n",
       "      <td>2</td>\n",
       "      <td>health</td>\n",
       "      <td>...</td>\n",
       "      <td>3.0</td>\n",
       "      <td>2.0</td>\n",
       "      <td>2.0</td>\n",
       "      <td>1</td>\n",
       "      <td>1</td>\n",
       "      <td>5.0</td>\n",
       "      <td>2.0</td>\n",
       "      <td>15</td>\n",
       "      <td>14</td>\n",
       "      <td>15</td>\n",
       "    </tr>\n",
       "    <tr>\n",
       "      <th>4</th>\n",
       "      <td>4</td>\n",
       "      <td>GP</td>\n",
       "      <td>F</td>\n",
       "      <td>16.0</td>\n",
       "      <td>U</td>\n",
       "      <td>GT3</td>\n",
       "      <td>T</td>\n",
       "      <td>3</td>\n",
       "      <td>3</td>\n",
       "      <td>other</td>\n",
       "      <td>...</td>\n",
       "      <td>4.0</td>\n",
       "      <td>3.0</td>\n",
       "      <td>2.0</td>\n",
       "      <td>1</td>\n",
       "      <td>2</td>\n",
       "      <td>5.0</td>\n",
       "      <td>4.0</td>\n",
       "      <td>6</td>\n",
       "      <td>10</td>\n",
       "      <td>10</td>\n",
       "    </tr>\n",
       "  </tbody>\n",
       "</table>\n",
       "<p>5 rows × 34 columns</p>\n",
       "</div>"
      ],
      "text/plain": [
       "   Unnamed: 0 school sex   age address famsize Pstatus  Medu  Fedu     Mjob  \\\n",
       "0           0     GP   F  18.0       U     GT3       A     4     4  at_home   \n",
       "1           1     GP   F  17.0       U     GT3       T     1     1  at_home   \n",
       "2           2     GP   F  15.0       U     LE3       T     1     1  at_home   \n",
       "3           3     GP   F  15.0       U     GT3       T     4     2   health   \n",
       "4           4     GP   F  16.0       U     GT3       T     3     3    other   \n",
       "\n",
       "   ... famrel freetime goout  Dalc  Walc  health absences  G1  G2  G3  \n",
       "0  ...    4.0      3.0   4.0     1     1     3.0      6.0   5   6   6  \n",
       "1  ...    5.0      3.0   3.0     1     1     3.0      4.0   5   5   6  \n",
       "2  ...    4.0      3.0   2.0     2     3     3.0     10.0   7   8  10  \n",
       "3  ...    3.0      2.0   2.0     1     1     5.0      2.0  15  14  15  \n",
       "4  ...    4.0      3.0   2.0     1     2     5.0      4.0   6  10  10  \n",
       "\n",
       "[5 rows x 34 columns]"
      ]
     },
     "execution_count": 4,
     "metadata": {},
     "output_type": "execute_result"
    }
   ],
   "source": [
    "\n",
    "student_info.head()"
   ]
  },
  {
   "cell_type": "code",
   "execution_count": 5,
   "metadata": {},
   "outputs": [
    {
     "data": {
      "text/plain": [
       "Unnamed: 0  school  sex  age   address  famsize  Pstatus  Medu  Fedu  Mjob      Fjob      reason      guardian  traveltime  studytime  failures  schoolsup  famsup  paid  activities  nursery  higher  internet  romantic  famrel  freetime  goout  Dalc  Walc  health  absences  G1  G2  G3\n",
       "0           GP      F    18.0  U        GT3      A        4     4     at_home   teacher   course      mother    2           2          0         yes        no      no    no          yes      yes     no        no        4.0     3.0       4.0    1     1     3.0     6.0       5   6   6     1\n",
       "258         GP      M    18.0  U        GT3      T        2     1     other     other     home        mother    1           2          0         no         no      no    yes         yes      yes     yes       no        5.0     2.0       4.0    1     2     4.0     8.0       15  14  14    1\n",
       "267         GP      F    18.0  R        GT3      T        4     4     teacher   other     reputation  mother    2           2          0         no         no      yes   yes         yes      yes     yes       no        4.0     3.0       4.0    2     2     4.0     8.0       12  10  11    1\n",
       "266         GP      M    17.0  U        GT3      T        3     1     services  other     other       mother    1           2          0         no         no      yes   yes         yes      yes     yes       yes       5.0     4.0       4.0    3     4     5.0     2.0       9   9   10    1\n",
       "265         GP      M    18.0  R        LE3      A        3     4     other     other     reputation  mother    2           2          0         no         yes     yes   yes         yes      yes     yes       no        4.0     2.0       5.0    3     4     1.0     13.0      17  17  17    1\n",
       "                                                                                                                                                                                                                                                                                               ..\n",
       "128         GP      M    18.0  R        GT3      T        2     2     services  other     reputation  mother    1           1          2         no         yes     no    yes         yes      yes     yes       no        3.0     3.0       3.0    1     2     4.0     0.0       7   4   0     1\n",
       "127         GP      F    19.0  U        GT3      T        0     1     at_home   other     course      other     1           2          3         no         yes     no    no          no       no      no        no        3.0     4.0       2.0    1     1     5.0     2.0       7   8   9     1\n",
       "126         GP      F    15.0  U        LE3      A        3     4     other     other     home        mother    1           2          0         yes        no      no    yes         yes      yes     yes       yes       5.0     3.0       2.0    1     1     1.0     0.0       7   10  11    1\n",
       "125         GP      M    15.0  U        GT3      T        3     4     services  services  home        father    1           1          0         yes        no      no    no          yes      yes     yes       no        5.0     5.0       5.0    3     2     5.0     0.0       13  13  12    1\n",
       "394         MS      M    19.0  U        LE3      T        1     1     other     at_home   course      father    1           1          0         no         no      no    no          yes      yes     yes       no        3.0     2.0       3.0    3     3     5.0     5.0       8   9   9     1\n",
       "Length: 370, dtype: int64"
      ]
     },
     "execution_count": 5,
     "metadata": {},
     "output_type": "execute_result"
    }
   ],
   "source": [
    "student_info.value_counts()"
   ]
  },
  {
   "cell_type": "code",
   "execution_count": 6,
   "metadata": {},
   "outputs": [
    {
     "name": "stdout",
     "output_type": "stream",
     "text": [
      "[ 4.  3.  2.  1.  5. nan]\n"
     ]
    }
   ],
   "source": [
    "\n",
    "\n",
    "print(student_info['goout'].unique())"
   ]
  },
  {
   "cell_type": "code",
   "execution_count": 7,
   "metadata": {},
   "outputs": [
    {
     "data": {
      "text/plain": [
       "55"
      ]
     },
     "execution_count": 7,
     "metadata": {},
     "output_type": "execute_result"
    }
   ],
   "source": [
    "\n",
    "studet_value_miss = student_info.isnull().values.sum()\n",
    "studet_value_miss"
   ]
  },
  {
   "cell_type": "code",
   "execution_count": 8,
   "metadata": {},
   "outputs": [
    {
     "name": "stdout",
     "output_type": "stream",
     "text": [
      "(5, 16)\n"
     ]
    }
   ],
   "source": [
    "# Create a function that takes in a DataFrame as input parameter and plots a barplot with the columns that have missing values\n",
    "#  Put this function into a file called data_utils.py. When you come across more useful functions, \n",
    "# you can store them in your data_utils module.\n",
    "import seaborn as sns \n",
    "import matplotlib as plt\n",
    "\n",
    "\n",
    "studet_value_miss = student_info.isnull().values.sum() # creates varibale checks nan value in entire doc\n",
    "\n",
    "student_info.isnull().values.sum() #checks nan value in entire doc\n",
    "\n",
    "\n",
    "studet_value_miss\n",
    "\n",
    "student_freetime_miss = student_info['freetime'].isnull().sum() ## checks nan value in freee time\n",
    "student_adress_miss= student_info['address'].isnull().sum()\n",
    "\n",
    "studentnull =(student_adress_miss, student_freetime_miss) \n",
    "\n",
    "print(studentnull)\n",
    "\n",
    "\n",
    "\n"
   ]
  },
  {
   "cell_type": "code",
   "execution_count": 9,
   "metadata": {},
   "outputs": [
    {
     "data": {
      "text/plain": [
       "<AxesSubplot: >"
      ]
     },
     "execution_count": 9,
     "metadata": {},
     "output_type": "execute_result"
    },
    {
     "data": {
      "image/png": "[encoded data removed]",
      "text/plain": [
       "<Figure size 640x480 with 1 Axes>"
      ]
     },
     "metadata": {},
     "output_type": "display_data"
    }
   ],
   "source": [
    "\n",
    "student_null = student_info.isnull().sum()\n",
    "\n",
    "sea_graph_null = student_null.loc[lambda x : x > 0]\n",
    "sea_graph_null\n",
    "\n",
    "sns.barplot(x = sea_graph_null.index, y = sea_graph_null.values)"
   ]
  },
  {
   "cell_type": "code",
   "execution_count": 10,
   "metadata": {},
   "outputs": [
    {
     "data": {
      "text/plain": [
       "Index(['age', 'address', 'famrel', 'freetime', 'goout', 'health', 'absences'], dtype='object')"
      ]
     },
     "execution_count": 10,
     "metadata": {},
     "output_type": "execute_result"
    }
   ],
   "source": [
    "sea_graph_null.index\n",
    "\n"
   ]
  },
  {
   "cell_type": "code",
   "execution_count": 11,
   "metadata": {},
   "outputs": [
    {
     "name": "stdout",
     "output_type": "stream",
     "text": [
      "<class 'pandas.core.series.Series'>\n",
      "Index: 7 entries, age to absences\n",
      "Series name: None\n",
      "Non-Null Count  Dtype\n",
      "--------------  -----\n",
      "7 non-null      int64\n",
      "dtypes: int64(1)\n",
      "memory usage: 412.0+ bytes\n"
     ]
    }
   ],
   "source": [
    "# sea_graph_null.values\n",
    "# sea_graph_null.value_counts()\n",
    "sea_graph_null.info()"
   ]
  },
  {
   "cell_type": "code",
   "execution_count": 12,
   "metadata": {},
   "outputs": [
    {
     "data": {
      "text/plain": [
       "<BarContainer object of 2 artists>"
      ]
     },
     "execution_count": 12,
     "metadata": {},
     "output_type": "execute_result"
    },
    {
     "data": {
      "image/png": "[encoded data removed]",
      "text/plain": [
       "<Figure size 640x480 with 1 Axes>"
      ]
     },
     "metadata": {},
     "output_type": "display_data"
    }
   ],
   "source": [
    "import matplotlib.pyplot as plt \n",
    "\n",
    "plt.bar(['adress','freetime'],[student_adress_miss, student_freetime_miss])\n",
    "\n",
    "# x_columns = ['test', 'test']\n",
    "# null_data = student_info.isnull().sum()\n",
    "# # print(null_data)\n",
    "# fig, axes = plt.subplots(1, 2, figsize=(16, 4))\n",
    "\n",
    "# title[\"address\"], [\"freetime\"]\n",
    "\n",
    "# for i, (data, title) in enumerate(zip(studentnull, title)):\n",
    "#     sns.barplot(data= null_data, x = x_columns[i], ax = axes[i])"
   ]
  },
  {
   "cell_type": "code",
   "execution_count": 13,
   "metadata": {},
   "outputs": [
    {
     "data": {
      "text/plain": [
       "55"
      ]
     },
     "execution_count": 13,
     "metadata": {},
     "output_type": "execute_result"
    }
   ],
   "source": [
    "\n",
    "# student_info.isnull.sum()\n",
    "\n",
    "# student_freetime_miss = student_info['freetime'].isnull().value_counts()\n",
    "# student_adress_miss= student_info['address'].isnull().value_counts()\n",
    "\n",
    "# studentnull =(student_adress_miss, student_freetime_miss)\n",
    "\n",
    "# print(student_freetime_miss)\n",
    "# print(student_adress_miss)\n",
    "\n",
    "# sns.barplot(data = student_freetime_miss)\n",
    "\n",
    "\n",
    "student_info.isnull().values.sum()\n"
   ]
  },
  {
   "cell_type": "code",
   "execution_count": 14,
   "metadata": {},
   "outputs": [
    {
     "name": "stdout",
     "output_type": "stream",
     "text": [
      "Int64Index([87, 99, 130, 149, 151, 160, 191, 257, 276, 293, 308, 330, 343, 359,\n",
      "            372, 385],\n",
      "           dtype='int64')\n",
      "Int64Index([20, 71, 102, 106, 121, 160, 188, 191, 214, 270, 276, 293, 348,\n",
      "            385],\n",
      "           dtype='int64')\n"
     ]
    }
   ],
   "source": [
    "count_row = (student_info.loc[student_info['freetime'].isna()])\n",
    "\n",
    "count_row1 = (student_info.loc[student_info['age'].isna()])\n",
    "\n",
    "print(count_row.index)  \n",
    "print(count_row1.index)\n",
    "\n",
    "# df.loc[df['column_name'] == some_value]\n",
    "# df.loc[df['column_name'].isin(some_values)]\n"
   ]
  },
  {
   "cell_type": "code",
   "execution_count": 15,
   "metadata": {},
   "outputs": [
    {
     "name": "stderr",
     "output_type": "stream",
     "text": [
      "C:\\Users\\maxim\\AppData\\Local\\Temp\\ipykernel_18524\\2305229358.py:2: FutureWarning: In a future version of pandas all arguments of DataFrame.any and Series.any will be keyword-only.\n",
      "  b = student_info[student_info.isnull().any(1)]\n"
     ]
    },
    {
     "data": {
      "text/plain": [
       "Int64Index([ 20,  71,  87,  99, 102, 106, 121, 130, 149, 151, 160, 188, 191,\n",
       "            214, 257, 270, 276, 293, 308, 330, 343, 348, 359, 372, 385],\n",
       "           dtype='int64')"
      ]
     },
     "execution_count": 15,
     "metadata": {},
     "output_type": "execute_result"
    }
   ],
   "source": [
    "# student_info.index[student_info.isnull().all(1)]\n",
    "b = student_info[student_info.isnull().any(1)]\n",
    "b.index"
   ]
  },
  {
   "cell_type": "code",
   "execution_count": 16,
   "metadata": {},
   "outputs": [
    {
     "data": {
      "text/plain": [
       "<bound method NDFrame._add_numeric_operations.<locals>.sum of      Unnamed: 0 school sex   age address famsize Pstatus  Medu  Fedu  \\\n",
       "87           87     GP   F  15.0       U     GT3       T     4     2   \n",
       "99           99     GP   F  16.0       U     GT3       T     4     3   \n",
       "130         130     GP   F  15.0       R     GT3       T     3     4   \n",
       "149         149     GP   M  15.0       U     LE3       A     2     1   \n",
       "151         151     GP   M  16.0       U     LE3       T     2     1   \n",
       "160         160     GP   M   NaN     NaN     LE3       T     2     1   \n",
       "191         191     GP   F   NaN     NaN     GT3       T     1     1   \n",
       "257         257     GP   M  19.0       U     LE3       A     4     3   \n",
       "276         276     GP   F   NaN     NaN     GT3       A     3     2   \n",
       "293         293     GP   F   NaN     NaN     LE3       T     3     1   \n",
       "308         308     GP   M  19.0       R     GT3       T     3     3   \n",
       "330         330     GP   M  18.0       U     LE3       T     2     2   \n",
       "343         343     GP   F  17.0       U     GT3       A     2     2   \n",
       "359         359     MS   F  18.0       U     LE3       T     1     1   \n",
       "372         372     MS   F  17.0       U     GT3       T     2     2   \n",
       "385         385     MS   F   NaN     NaN     GT3       T     2     2   \n",
       "\n",
       "         Mjob  ... famrel freetime goout  Dalc  Walc  health absences  G1  G2  \\\n",
       "87      other  ...    5.0      NaN   3.0     1     3     1.0      4.0  13  14   \n",
       "99      other  ...    5.0      NaN   5.0     1     1     3.0      0.0   7   9   \n",
       "130  services  ...    4.0      NaN   2.0     2     2     5.0      0.0  12   0   \n",
       "149  services  ...    4.0      NaN   5.0     2     5     5.0      0.0   8   9   \n",
       "151   at_home  ...    4.0      NaN   4.0     3     5     5.0      6.0  12  13   \n",
       "160   at_home  ...    NaN      NaN   NaN     2     2     NaN      NaN   7   6   \n",
       "191   at_home  ...    NaN      NaN   NaN     1     1     NaN      NaN   8   8   \n",
       "257  services  ...    4.0      NaN   1.0     1     1     1.0     12.0  11  11   \n",
       "276     other  ...    NaN      NaN   NaN     1     1     NaN      NaN  10   9   \n",
       "293  services  ...    NaN      NaN   NaN     1     1     NaN      NaN  18  18   \n",
       "308     other  ...    4.0      NaN   3.0     1     2     5.0      0.0  15  12   \n",
       "330     other  ...    4.0      NaN   5.0     2     4     5.0      2.0   9   8   \n",
       "343   at_home  ...    3.0      NaN   1.0     1     2     4.0      0.0   9   8   \n",
       "359   at_home  ...    5.0      NaN   2.0     1     1     4.0      0.0  18  16   \n",
       "372     other  ...    3.0      NaN   3.0     1     1     3.0      8.0  13  11   \n",
       "385   at_home  ...    NaN      NaN   NaN     1     3     NaN      NaN  10   9   \n",
       "\n",
       "     G3  \n",
       "87   14  \n",
       "99    8  \n",
       "130   0  \n",
       "149  10  \n",
       "151  14  \n",
       "160   0  \n",
       "191   9  \n",
       "257  11  \n",
       "276   9  \n",
       "293  18  \n",
       "308  12  \n",
       "330   8  \n",
       "343   0  \n",
       "359  16  \n",
       "372  11  \n",
       "385  10  \n",
       "\n",
       "[16 rows x 34 columns]>"
      ]
     },
     "execution_count": 16,
     "metadata": {},
     "output_type": "execute_result"
    }
   ],
   "source": [
    "# student_info[student_info['freetime']]\n",
    "count_row.sum\n"
   ]
  },
  {
   "cell_type": "code",
   "execution_count": 24,
   "metadata": {},
   "outputs": [
    {
     "name": "stderr",
     "output_type": "stream",
     "text": [
      "C:\\Users\\maxim\\AppData\\Local\\Temp\\ipykernel_18524\\3704419603.py:3: FutureWarning: In a future version of pandas all arguments of DataFrame.any and Series.any will be keyword-only.\n",
      "  checking_nan_freetime_age = student_info[student_info[['freetime','age']].isna().any(1)]\n"
     ]
    },
    {
     "data": {
      "text/plain": [
       "<AxesSubplot: >"
      ]
     },
     "execution_count": 24,
     "metadata": {},
     "output_type": "execute_result"
    },
    {
     "data": {
      "image/png": "[encoded data removed]",
      "text/plain": [
       "<Figure size 640x480 with 1 Axes>"
      ]
     },
     "metadata": {},
     "output_type": "display_data"
    }
   ],
   "source": [
    "# df[df[['a','b']].isna().all(1)]\n",
    "\n",
    "checking_nan_freetime_age = student_info[student_info[['freetime','age']].isna().any(1)]\n",
    "\n",
    "checking_nan_freetime_age.index\n",
    "\n",
    "sns.barplot(x= checking_nan_freetime_age.index, y= checking_nan_freetime_age.index)"
   ]
  },
  {
   "cell_type": "code",
   "execution_count": 18,
   "metadata": {},
   "outputs": [],
   "source": [
    "# student_info.count()\n",
    "\n",
    "# student_info.isnull().sum().sum()\n",
    "# data.isnull().sum().sum()/len(data)\n",
    "\n",
    "# percent_missing = df.isnull().sum() * 100 / len(df)\n",
    "\n",
    "percent = student_info.isnull().sum()* 100/ len(student_info)\n"
   ]
  },
  {
   "cell_type": "code",
   "execution_count": 19,
   "metadata": {},
   "outputs": [
    {
     "data": {
      "text/plain": [
       "0.13924050632911392"
      ]
     },
     "execution_count": 19,
     "metadata": {},
     "output_type": "execute_result"
    }
   ],
   "source": [
    "# data.isnull().sum().sum()/len(data)\n",
    "\n",
    "student_info.isnull().sum().sum()/len(student_info)"
   ]
  },
  {
   "cell_type": "code",
   "execution_count": 20,
   "metadata": {},
   "outputs": [
    {
     "data": {
      "text/plain": [
       "13.940000000000001"
      ]
     },
     "execution_count": 20,
     "metadata": {},
     "output_type": "execute_result"
    }
   ],
   "source": [
    "xd = student_info.isna().mean().round(4) * 100\n",
    "xd.sum()"
   ]
  },
  {
   "cell_type": "code",
   "execution_count": 22,
   "metadata": {},
   "outputs": [
    {
     "data": {
      "text/plain": [
       "0.06329113924050633"
      ]
     },
     "execution_count": 22,
     "metadata": {},
     "output_type": "execute_result"
    }
   ],
   "source": [
    "len(checking_nan_freetime_age)/len(student_info)"
   ]
  },
  {
   "cell_type": "code",
   "execution_count": null,
   "metadata": {},
   "outputs": [],
   "source": []
  }
 ],
 "metadata": {
  "kernelspec": {
   "display_name": "Python 3.9.13 ('Databehandling-Max-Liedman-7Jl1bF7R')",
   "language": "python",
   "name": "python3"
  },
  "language_info": {
   "codemirror_mode": {
    "name": "ipython",
    "version": 3
   },
   "file_extension": ".py",
   "mimetype": "text/x-python",
   "name": "python",
   "nbconvert_exporter": "python",
   "pygments_lexer": "ipython3",
   "version": "3.9.13"
  },
  "orig_nbformat": 4,
  "vscode": {
   "interpreter": {
    "hash": "6de4419a5dddb9886455a8609ea1b3eb28113ef39a6755243e4145f47265e7c2"
   }
  }
 },
 "nbformat": 4,
 "nbformat_minor": 2
}
