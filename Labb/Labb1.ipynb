{
 "cells": [
  {
   "cell_type": "code",
   "execution_count": 29,
   "metadata": {},
   "outputs": [],
   "source": [
    "import pandas as pd\n",
    "\n",
    "# Folkhalso_myndigheten  = \"../Data/Folkhalsomyndigheten_Covid19.xlsx\"\n",
    "# pd.read_excel('tmp.xlsx', index_col=0)  \n",
    "\n",
    "folkhalsovecka = pd.read_excel(\"../Data/Folkhalsomyndigheten_Covid19.xlsx\" , sheet_name = \"Veckodata Riket\")\n",
    "\n",
    "df1 = pd.DataFrame(folkhalsovecka)\n",
    "# df['New Column Name'] = df['1st Column Name'] + df['2nd Column Name'] + ...\n",
    "\n",
    "# df['Full Date'] = df['Day'].map(str) + '-' + df['Month'].map(str) + '-' + df['Year'].map(str)\n",
    "\n",
    "# df1['år'] \n",
    "df1['år,vecka'] = df1['år'].map(str) + '-' + df1['veckonummer'].map(str)"
   ]
  },
  {
   "cell_type": "code",
   "execution_count": 26,
   "metadata": {},
   "outputs": [
    {
     "data": {
      "text/plain": [
       "0       2020-6\n",
       "1       2020-7\n",
       "2       2020-8\n",
       "3       2020-9\n",
       "4      2020-10\n",
       "        ...   \n",
       "137    2022-38\n",
       "138    2022-39\n",
       "139    2022-40\n",
       "140    2022-41\n",
       "141    2022-42\n",
       "Name: år,vecka, Length: 142, dtype: object"
      ]
     },
     "execution_count": 26,
     "metadata": {},
     "output_type": "execute_result"
    }
   ],
   "source": [
    "df1['år,vecka']"
   ]
  }
 ],
 "metadata": {
  "kernelspec": {
   "display_name": "Python 3.9.13 ('Databehandling-Max-Liedman-dGQzJz8R')",
   "language": "python",
   "name": "python3"
  },
  "language_info": {
   "codemirror_mode": {
    "name": "ipython",
    "version": 3
   },
   "file_extension": ".py",
   "mimetype": "text/x-python",
   "name": "python",
   "nbconvert_exporter": "python",
   "pygments_lexer": "ipython3",
   "version": "3.9.13"
  },
  "orig_nbformat": 4,
  "vscode": {
   "interpreter": {
    "hash": "d1f771e16673ae90a376cdf93621655a7e2d67be3bd7b9b5d2d679e367e80788"
   }
  }
 },
 "nbformat": 4,
 "nbformat_minor": 2
}
