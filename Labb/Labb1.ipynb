{
 "cells": [
  {
   "cell_type": "code",
   "execution_count": 970,
   "metadata": {},
   "outputs": [],
   "source": [
    "import pandas as pd\n",
    "import numpy as np \n",
    "import seaborn as sns \n",
    "import matplotlib.pyplot as plt\n",
    "import plotly.express as px\n"
   ]
  },
  {
   "cell_type": "markdown",
   "metadata": {},
   "source": [
    "______________\n",
    "______________"
   ]
  },
  {
   "cell_type": "markdown",
   "metadata": {},
   "source": [
    "# Uppgift 1\n",
    "________________\n"
   ]
  },
  {
   "cell_type": "markdown",
   "metadata": {},
   "source": [
    "## A)\n",
    "Gör initial dataanalys för att snabbt få en överblick över datasetet. Använd metoder som ex. info(),\n",
    "describe(), value_counts(), head(), columns, index för att snabbt få en överblick.\n"
   ]
  },
  {
   "cell_type": "code",
   "execution_count": null,
   "metadata": {},
   "outputs": [],
   "source": [
    "folkhalsovecka = pd.read_excel(\"../Data/Folkhalsomyndigheten_Covid19.xlsx\" , sheet_name = \"Veckodata Riket\")\n",
    "\n",
    "df_veckodata_riket = pd.DataFrame(folkhalsovecka)"
   ]
  },
  {
   "cell_type": "markdown",
   "metadata": {},
   "source": [
    "__________"
   ]
  },
  {
   "cell_type": "code",
   "execution_count": 971,
   "metadata": {},
   "outputs": [
    {
     "name": "stdout",
     "output_type": "stream",
     "text": [
      "<class 'pandas.core.frame.DataFrame'>\n",
      "RangeIndex: 142 entries, 0 to 141\n",
      "Data columns (total 13 columns):\n",
      " #   Column                          Non-Null Count  Dtype  \n",
      "---  ------                          --------------  -----  \n",
      " 0   år                              142 non-null    int64  \n",
      " 1   veckonummer                     142 non-null    int64  \n",
      " 2   Antal_fall_vecka                142 non-null    int64  \n",
      " 3   Antal_fall_100000inv_vecka      142 non-null    int64  \n",
      " 4   Antal_fall_100000inv_14dagar    142 non-null    int64  \n",
      " 5   Kum_antal_fall                  142 non-null    int64  \n",
      " 6   Kum_fall_100000inv              142 non-null    int64  \n",
      " 7   Antal_nyaintensivvårdade_vecka  142 non-null    int64  \n",
      " 8   Kum_antal_intensivvårdade       142 non-null    int64  \n",
      " 9   Antal_avlidna_vecka             142 non-null    int64  \n",
      " 10  Antal_avlidna_milj_inv_vecka    142 non-null    float64\n",
      " 11  Kum_antal_avlidna               142 non-null    int64  \n",
      " 12  Kum_antal_avlidna_milj_inv      142 non-null    float64\n",
      "dtypes: float64(2), int64(11)\n",
      "memory usage: 14.5 KB\n"
     ]
    }
   ],
   "source": [
    "df_veckodata_riket.info()  #exploartion"
   ]
  },
  {
   "cell_type": "markdown",
   "metadata": {},
   "source": [
    "__________________"
   ]
  },
  {
   "cell_type": "code",
   "execution_count": 972,
   "metadata": {},
   "outputs": [
    {
     "data": {
      "text/plain": [
       "år                                142\n",
       "veckonummer                       142\n",
       "Antal_fall_vecka                  142\n",
       "Antal_fall_100000inv_vecka        142\n",
       "Antal_fall_100000inv_14dagar      142\n",
       "Kum_antal_fall                    142\n",
       "Kum_fall_100000inv                142\n",
       "Antal_nyaintensivvårdade_vecka    142\n",
       "Kum_antal_intensivvårdade         142\n",
       "Antal_avlidna_vecka               142\n",
       "Antal_avlidna_milj_inv_vecka      142\n",
       "Kum_antal_avlidna                 142\n",
       "Kum_antal_avlidna_milj_inv        142\n",
       "dtype: int64"
      ]
     },
     "execution_count": 972,
     "metadata": {},
     "output_type": "execute_result"
    }
   ],
   "source": [
    "df_veckodata_riket.count() # #exploartion"
   ]
  },
  {
   "cell_type": "markdown",
   "metadata": {},
   "source": [
    "_______________________"
   ]
  },
  {
   "cell_type": "code",
   "execution_count": 973,
   "metadata": {},
   "outputs": [
    {
     "data": {
      "text/html": [
       "<div>\n",
       "<style scoped>\n",
       "    .dataframe tbody tr th:only-of-type {\n",
       "        vertical-align: middle;\n",
       "    }\n",
       "\n",
       "    .dataframe tbody tr th {\n",
       "        vertical-align: top;\n",
       "    }\n",
       "\n",
       "    .dataframe thead th {\n",
       "        text-align: right;\n",
       "    }\n",
       "</style>\n",
       "<table border=\"1\" class=\"dataframe\">\n",
       "  <thead>\n",
       "    <tr style=\"text-align: right;\">\n",
       "      <th></th>\n",
       "      <th>år</th>\n",
       "      <th>veckonummer</th>\n",
       "      <th>Antal_fall_vecka</th>\n",
       "      <th>Antal_fall_100000inv_vecka</th>\n",
       "      <th>Antal_fall_100000inv_14dagar</th>\n",
       "      <th>Kum_antal_fall</th>\n",
       "      <th>Kum_fall_100000inv</th>\n",
       "      <th>Antal_nyaintensivvårdade_vecka</th>\n",
       "      <th>Kum_antal_intensivvårdade</th>\n",
       "      <th>Antal_avlidna_vecka</th>\n",
       "      <th>Antal_avlidna_milj_inv_vecka</th>\n",
       "      <th>Kum_antal_avlidna</th>\n",
       "      <th>Kum_antal_avlidna_milj_inv</th>\n",
       "    </tr>\n",
       "  </thead>\n",
       "  <tbody>\n",
       "    <tr>\n",
       "      <th>count</th>\n",
       "      <td>142.000000</td>\n",
       "      <td>142.000000</td>\n",
       "      <td>142.000000</td>\n",
       "      <td>142.000000</td>\n",
       "      <td>142.000000</td>\n",
       "      <td>1.420000e+02</td>\n",
       "      <td>142.000000</td>\n",
       "      <td>142.000000</td>\n",
       "      <td>142.000000</td>\n",
       "      <td>142.000000</td>\n",
       "      <td>142.000000</td>\n",
       "      <td>142.000000</td>\n",
       "      <td>142.000000</td>\n",
       "    </tr>\n",
       "    <tr>\n",
       "      <th>mean</th>\n",
       "      <td>2020.957746</td>\n",
       "      <td>26.035211</td>\n",
       "      <td>18378.345070</td>\n",
       "      <td>177.197183</td>\n",
       "      <td>354.169014</td>\n",
       "      <td>1.125288e+06</td>\n",
       "      <td>10843.281690</td>\n",
       "      <td>67.176056</td>\n",
       "      <td>6000.464789</td>\n",
       "      <td>144.936620</td>\n",
       "      <td>14.000000</td>\n",
       "      <td>12321.154930</td>\n",
       "      <td>1187.840841</td>\n",
       "    </tr>\n",
       "    <tr>\n",
       "      <th>std</th>\n",
       "      <td>0.797809</td>\n",
       "      <td>14.228835</td>\n",
       "      <td>38569.455753</td>\n",
       "      <td>371.689114</td>\n",
       "      <td>725.677174</td>\n",
       "      <td>9.618084e+05</td>\n",
       "      <td>9265.100705</td>\n",
       "      <td>73.435000</td>\n",
       "      <td>3076.853993</td>\n",
       "      <td>173.659331</td>\n",
       "      <td>16.796551</td>\n",
       "      <td>6103.235009</td>\n",
       "      <td>587.255605</td>\n",
       "    </tr>\n",
       "    <tr>\n",
       "      <th>min</th>\n",
       "      <td>2020.000000</td>\n",
       "      <td>1.000000</td>\n",
       "      <td>0.000000</td>\n",
       "      <td>0.000000</td>\n",
       "      <td>0.000000</td>\n",
       "      <td>1.000000e+00</td>\n",
       "      <td>0.000000</td>\n",
       "      <td>0.000000</td>\n",
       "      <td>0.000000</td>\n",
       "      <td>0.000000</td>\n",
       "      <td>0.000000</td>\n",
       "      <td>0.000000</td>\n",
       "      <td>0.000000</td>\n",
       "    </tr>\n",
       "    <tr>\n",
       "      <th>25%</th>\n",
       "      <td>2020.000000</td>\n",
       "      <td>14.000000</td>\n",
       "      <td>3075.000000</td>\n",
       "      <td>30.000000</td>\n",
       "      <td>59.750000</td>\n",
       "      <td>1.014860e+05</td>\n",
       "      <td>982.500000</td>\n",
       "      <td>14.000000</td>\n",
       "      <td>2643.750000</td>\n",
       "      <td>25.250000</td>\n",
       "      <td>2.425000</td>\n",
       "      <td>5880.000000</td>\n",
       "      <td>569.375000</td>\n",
       "    </tr>\n",
       "    <tr>\n",
       "      <th>50%</th>\n",
       "      <td>2021.000000</td>\n",
       "      <td>26.000000</td>\n",
       "      <td>5531.000000</td>\n",
       "      <td>53.000000</td>\n",
       "      <td>107.500000</td>\n",
       "      <td>1.085848e+06</td>\n",
       "      <td>10461.500000</td>\n",
       "      <td>27.500000</td>\n",
       "      <td>7559.500000</td>\n",
       "      <td>77.500000</td>\n",
       "      <td>7.450000</td>\n",
       "      <td>14610.500000</td>\n",
       "      <td>1407.650024</td>\n",
       "    </tr>\n",
       "    <tr>\n",
       "      <th>75%</th>\n",
       "      <td>2022.000000</td>\n",
       "      <td>37.750000</td>\n",
       "      <td>21125.000000</td>\n",
       "      <td>203.500000</td>\n",
       "      <td>421.250000</td>\n",
       "      <td>2.423603e+06</td>\n",
       "      <td>23350.500000</td>\n",
       "      <td>109.000000</td>\n",
       "      <td>8863.250000</td>\n",
       "      <td>185.500000</td>\n",
       "      <td>17.950000</td>\n",
       "      <td>17177.750000</td>\n",
       "      <td>1654.999969</td>\n",
       "    </tr>\n",
       "    <tr>\n",
       "      <th>max</th>\n",
       "      <td>2022.000000</td>\n",
       "      <td>53.000000</td>\n",
       "      <td>265043.000000</td>\n",
       "      <td>2554.000000</td>\n",
       "      <td>5024.000000</td>\n",
       "      <td>2.609725e+06</td>\n",
       "      <td>25144.000000</td>\n",
       "      <td>289.000000</td>\n",
       "      <td>9539.000000</td>\n",
       "      <td>664.000000</td>\n",
       "      <td>64.300003</td>\n",
       "      <td>20581.000000</td>\n",
       "      <td>1982.900024</td>\n",
       "    </tr>\n",
       "  </tbody>\n",
       "</table>\n",
       "</div>"
      ],
      "text/plain": [
       "                år  veckonummer  Antal_fall_vecka  Antal_fall_100000inv_vecka  \\\n",
       "count   142.000000   142.000000        142.000000                  142.000000   \n",
       "mean   2020.957746    26.035211      18378.345070                  177.197183   \n",
       "std       0.797809    14.228835      38569.455753                  371.689114   \n",
       "min    2020.000000     1.000000          0.000000                    0.000000   \n",
       "25%    2020.000000    14.000000       3075.000000                   30.000000   \n",
       "50%    2021.000000    26.000000       5531.000000                   53.000000   \n",
       "75%    2022.000000    37.750000      21125.000000                  203.500000   \n",
       "max    2022.000000    53.000000     265043.000000                 2554.000000   \n",
       "\n",
       "       Antal_fall_100000inv_14dagar  Kum_antal_fall  Kum_fall_100000inv  \\\n",
       "count                    142.000000    1.420000e+02          142.000000   \n",
       "mean                     354.169014    1.125288e+06        10843.281690   \n",
       "std                      725.677174    9.618084e+05         9265.100705   \n",
       "min                        0.000000    1.000000e+00            0.000000   \n",
       "25%                       59.750000    1.014860e+05          982.500000   \n",
       "50%                      107.500000    1.085848e+06        10461.500000   \n",
       "75%                      421.250000    2.423603e+06        23350.500000   \n",
       "max                     5024.000000    2.609725e+06        25144.000000   \n",
       "\n",
       "       Antal_nyaintensivvårdade_vecka  Kum_antal_intensivvårdade  \\\n",
       "count                      142.000000                 142.000000   \n",
       "mean                        67.176056                6000.464789   \n",
       "std                         73.435000                3076.853993   \n",
       "min                          0.000000                   0.000000   \n",
       "25%                         14.000000                2643.750000   \n",
       "50%                         27.500000                7559.500000   \n",
       "75%                        109.000000                8863.250000   \n",
       "max                        289.000000                9539.000000   \n",
       "\n",
       "       Antal_avlidna_vecka  Antal_avlidna_milj_inv_vecka  Kum_antal_avlidna  \\\n",
       "count           142.000000                    142.000000         142.000000   \n",
       "mean            144.936620                     14.000000       12321.154930   \n",
       "std             173.659331                     16.796551        6103.235009   \n",
       "min               0.000000                      0.000000           0.000000   \n",
       "25%              25.250000                      2.425000        5880.000000   \n",
       "50%              77.500000                      7.450000       14610.500000   \n",
       "75%             185.500000                     17.950000       17177.750000   \n",
       "max             664.000000                     64.300003       20581.000000   \n",
       "\n",
       "       Kum_antal_avlidna_milj_inv  \n",
       "count                  142.000000  \n",
       "mean                  1187.840841  \n",
       "std                    587.255605  \n",
       "min                      0.000000  \n",
       "25%                    569.375000  \n",
       "50%                   1407.650024  \n",
       "75%                   1654.999969  \n",
       "max                   1982.900024  "
      ]
     },
     "execution_count": 973,
     "metadata": {},
     "output_type": "execute_result"
    }
   ],
   "source": [
    "df_veckodata_riket.describe() # #exploartion"
   ]
  },
  {
   "cell_type": "markdown",
   "metadata": {},
   "source": [
    "_________________________"
   ]
  },
  {
   "cell_type": "code",
   "execution_count": 974,
   "metadata": {},
   "outputs": [
    {
     "data": {
      "text/plain": [
       "Index(['år', 'veckonummer', 'Antal_fall_vecka', 'Antal_fall_100000inv_vecka',\n",
       "       'Antal_fall_100000inv_14dagar', 'Kum_antal_fall', 'Kum_fall_100000inv',\n",
       "       'Antal_nyaintensivvårdade_vecka', 'Kum_antal_intensivvårdade',\n",
       "       'Antal_avlidna_vecka', 'Antal_avlidna_milj_inv_vecka',\n",
       "       'Kum_antal_avlidna', 'Kum_antal_avlidna_milj_inv'],\n",
       "      dtype='object')"
      ]
     },
     "execution_count": 974,
     "metadata": {},
     "output_type": "execute_result"
    }
   ],
   "source": [
    "df_veckodata_riket.columns"
   ]
  },
  {
   "cell_type": "markdown",
   "metadata": {},
   "source": [
    "___________________________________"
   ]
  },
  {
   "cell_type": "markdown",
   "metadata": {},
   "source": [
    "___________________________________________________"
   ]
  },
  {
   "cell_type": "markdown",
   "metadata": {},
   "source": [
    "## B) \n",
    "Slå ihop kolumnerna \"år\" och \"veckonummer\" till en kolumn med namn \"Vecka\" med följande format:"
   ]
  },
  {
   "cell_type": "code",
   "execution_count": 975,
   "metadata": {},
   "outputs": [
    {
     "data": {
      "text/plain": [
       "0       2020v6\n",
       "1       2020v7\n",
       "2       2020v8\n",
       "3       2020v9\n",
       "4      2020v10\n",
       "        ...   \n",
       "137    2022v38\n",
       "138    2022v39\n",
       "139    2022v40\n",
       "140    2022v41\n",
       "141    2022v42\n",
       "Name: år,vecka, Length: 142, dtype: object"
      ]
     },
     "execution_count": 975,
     "metadata": {},
     "output_type": "execute_result"
    }
   ],
   "source": [
    "\n",
    "## slår ihop veckodata och veckkonummer och skriver till ett 'v'\n",
    "df_veckodata_riket ['år,vecka'] = df_veckodata_riket['år'].map(str) + 'v' + df_veckodata_riket['veckonummer'].map(str)\n",
    "\n",
    "df_veckodata_riket['år,vecka']"
   ]
  },
  {
   "cell_type": "code",
   "execution_count": 976,
   "metadata": {},
   "outputs": [
    {
     "data": {
      "text/html": [
       "<div>\n",
       "<style scoped>\n",
       "    .dataframe tbody tr th:only-of-type {\n",
       "        vertical-align: middle;\n",
       "    }\n",
       "\n",
       "    .dataframe tbody tr th {\n",
       "        vertical-align: top;\n",
       "    }\n",
       "\n",
       "    .dataframe thead th {\n",
       "        text-align: right;\n",
       "    }\n",
       "</style>\n",
       "<table border=\"1\" class=\"dataframe\">\n",
       "  <thead>\n",
       "    <tr style=\"text-align: right;\">\n",
       "      <th></th>\n",
       "      <th>år,vecka</th>\n",
       "      <th>Antal_fall_vecka</th>\n",
       "      <th>Antal_fall_100000inv_14dagar</th>\n",
       "      <th>Antal_fall_100000inv_14dagar</th>\n",
       "      <th>Kum_antal_fall</th>\n",
       "      <th>Kum_fall_100000inv</th>\n",
       "      <th>Antal_nyaintensivvårdade_vecka</th>\n",
       "      <th>Kum_antal_intensivvårdade</th>\n",
       "      <th>Antal_avlidna_vecka</th>\n",
       "      <th>Antal_avlidna_milj_inv_vecka</th>\n",
       "      <th>Kum_antal_avlidna</th>\n",
       "      <th>Kum_antal_avlidna_milj_inv</th>\n",
       "    </tr>\n",
       "  </thead>\n",
       "  <tbody>\n",
       "    <tr>\n",
       "      <th>0</th>\n",
       "      <td>2020v6</td>\n",
       "      <td>1</td>\n",
       "      <td>0</td>\n",
       "      <td>0</td>\n",
       "      <td>1</td>\n",
       "      <td>0</td>\n",
       "      <td>0</td>\n",
       "      <td>0</td>\n",
       "      <td>0</td>\n",
       "      <td>0.0</td>\n",
       "      <td>0</td>\n",
       "      <td>0.000000</td>\n",
       "    </tr>\n",
       "    <tr>\n",
       "      <th>1</th>\n",
       "      <td>2020v7</td>\n",
       "      <td>0</td>\n",
       "      <td>0</td>\n",
       "      <td>0</td>\n",
       "      <td>1</td>\n",
       "      <td>0</td>\n",
       "      <td>0</td>\n",
       "      <td>0</td>\n",
       "      <td>0</td>\n",
       "      <td>0.0</td>\n",
       "      <td>0</td>\n",
       "      <td>0.000000</td>\n",
       "    </tr>\n",
       "    <tr>\n",
       "      <th>2</th>\n",
       "      <td>2020v8</td>\n",
       "      <td>0</td>\n",
       "      <td>0</td>\n",
       "      <td>0</td>\n",
       "      <td>1</td>\n",
       "      <td>0</td>\n",
       "      <td>0</td>\n",
       "      <td>0</td>\n",
       "      <td>0</td>\n",
       "      <td>0.0</td>\n",
       "      <td>0</td>\n",
       "      <td>0.000000</td>\n",
       "    </tr>\n",
       "    <tr>\n",
       "      <th>3</th>\n",
       "      <td>2020v9</td>\n",
       "      <td>13</td>\n",
       "      <td>0</td>\n",
       "      <td>0</td>\n",
       "      <td>14</td>\n",
       "      <td>0</td>\n",
       "      <td>0</td>\n",
       "      <td>0</td>\n",
       "      <td>0</td>\n",
       "      <td>0.0</td>\n",
       "      <td>0</td>\n",
       "      <td>0.000000</td>\n",
       "    </tr>\n",
       "    <tr>\n",
       "      <th>4</th>\n",
       "      <td>2020v10</td>\n",
       "      <td>211</td>\n",
       "      <td>2</td>\n",
       "      <td>2</td>\n",
       "      <td>225</td>\n",
       "      <td>2</td>\n",
       "      <td>3</td>\n",
       "      <td>3</td>\n",
       "      <td>0</td>\n",
       "      <td>0.0</td>\n",
       "      <td>0</td>\n",
       "      <td>0.000000</td>\n",
       "    </tr>\n",
       "    <tr>\n",
       "      <th>...</th>\n",
       "      <td>...</td>\n",
       "      <td>...</td>\n",
       "      <td>...</td>\n",
       "      <td>...</td>\n",
       "      <td>...</td>\n",
       "      <td>...</td>\n",
       "      <td>...</td>\n",
       "      <td>...</td>\n",
       "      <td>...</td>\n",
       "      <td>...</td>\n",
       "      <td>...</td>\n",
       "      <td>...</td>\n",
       "    </tr>\n",
       "    <tr>\n",
       "      <th>137</th>\n",
       "      <td>2022v38</td>\n",
       "      <td>4669</td>\n",
       "      <td>93</td>\n",
       "      <td>93</td>\n",
       "      <td>2585507</td>\n",
       "      <td>24910</td>\n",
       "      <td>22</td>\n",
       "      <td>9475</td>\n",
       "      <td>88</td>\n",
       "      <td>8.5</td>\n",
       "      <td>20303</td>\n",
       "      <td>1956.099976</td>\n",
       "    </tr>\n",
       "    <tr>\n",
       "      <th>138</th>\n",
       "      <td>2022v39</td>\n",
       "      <td>13532</td>\n",
       "      <td>175</td>\n",
       "      <td>175</td>\n",
       "      <td>2599039</td>\n",
       "      <td>25041</td>\n",
       "      <td>15</td>\n",
       "      <td>9490</td>\n",
       "      <td>92</td>\n",
       "      <td>8.9</td>\n",
       "      <td>20395</td>\n",
       "      <td>1965.000000</td>\n",
       "    </tr>\n",
       "    <tr>\n",
       "      <th>139</th>\n",
       "      <td>2022v40</td>\n",
       "      <td>3999</td>\n",
       "      <td>169</td>\n",
       "      <td>169</td>\n",
       "      <td>2603038</td>\n",
       "      <td>25079</td>\n",
       "      <td>19</td>\n",
       "      <td>9509</td>\n",
       "      <td>88</td>\n",
       "      <td>8.5</td>\n",
       "      <td>20483</td>\n",
       "      <td>1973.400024</td>\n",
       "    </tr>\n",
       "    <tr>\n",
       "      <th>140</th>\n",
       "      <td>2022v41</td>\n",
       "      <td>3408</td>\n",
       "      <td>72</td>\n",
       "      <td>72</td>\n",
       "      <td>2606446</td>\n",
       "      <td>25112</td>\n",
       "      <td>13</td>\n",
       "      <td>9522</td>\n",
       "      <td>73</td>\n",
       "      <td>7.0</td>\n",
       "      <td>20556</td>\n",
       "      <td>1980.500000</td>\n",
       "    </tr>\n",
       "    <tr>\n",
       "      <th>141</th>\n",
       "      <td>2022v42</td>\n",
       "      <td>3279</td>\n",
       "      <td>65</td>\n",
       "      <td>65</td>\n",
       "      <td>2609725</td>\n",
       "      <td>25144</td>\n",
       "      <td>17</td>\n",
       "      <td>9539</td>\n",
       "      <td>25</td>\n",
       "      <td>2.4</td>\n",
       "      <td>20581</td>\n",
       "      <td>1982.900024</td>\n",
       "    </tr>\n",
       "  </tbody>\n",
       "</table>\n",
       "<p>142 rows × 12 columns</p>\n",
       "</div>"
      ],
      "text/plain": [
       "    år,vecka  Antal_fall_vecka  Antal_fall_100000inv_14dagar  \\\n",
       "0     2020v6                 1                             0   \n",
       "1     2020v7                 0                             0   \n",
       "2     2020v8                 0                             0   \n",
       "3     2020v9                13                             0   \n",
       "4    2020v10               211                             2   \n",
       "..       ...               ...                           ...   \n",
       "137  2022v38              4669                            93   \n",
       "138  2022v39             13532                           175   \n",
       "139  2022v40              3999                           169   \n",
       "140  2022v41              3408                            72   \n",
       "141  2022v42              3279                            65   \n",
       "\n",
       "     Antal_fall_100000inv_14dagar  Kum_antal_fall  Kum_fall_100000inv  \\\n",
       "0                               0               1                   0   \n",
       "1                               0               1                   0   \n",
       "2                               0               1                   0   \n",
       "3                               0              14                   0   \n",
       "4                               2             225                   2   \n",
       "..                            ...             ...                 ...   \n",
       "137                            93         2585507               24910   \n",
       "138                           175         2599039               25041   \n",
       "139                           169         2603038               25079   \n",
       "140                            72         2606446               25112   \n",
       "141                            65         2609725               25144   \n",
       "\n",
       "     Antal_nyaintensivvårdade_vecka  Kum_antal_intensivvårdade  \\\n",
       "0                                 0                          0   \n",
       "1                                 0                          0   \n",
       "2                                 0                          0   \n",
       "3                                 0                          0   \n",
       "4                                 3                          3   \n",
       "..                              ...                        ...   \n",
       "137                              22                       9475   \n",
       "138                              15                       9490   \n",
       "139                              19                       9509   \n",
       "140                              13                       9522   \n",
       "141                              17                       9539   \n",
       "\n",
       "     Antal_avlidna_vecka  Antal_avlidna_milj_inv_vecka  Kum_antal_avlidna  \\\n",
       "0                      0                           0.0                  0   \n",
       "1                      0                           0.0                  0   \n",
       "2                      0                           0.0                  0   \n",
       "3                      0                           0.0                  0   \n",
       "4                      0                           0.0                  0   \n",
       "..                   ...                           ...                ...   \n",
       "137                   88                           8.5              20303   \n",
       "138                   92                           8.9              20395   \n",
       "139                   88                           8.5              20483   \n",
       "140                   73                           7.0              20556   \n",
       "141                   25                           2.4              20581   \n",
       "\n",
       "     Kum_antal_avlidna_milj_inv  \n",
       "0                      0.000000  \n",
       "1                      0.000000  \n",
       "2                      0.000000  \n",
       "3                      0.000000  \n",
       "4                      0.000000  \n",
       "..                          ...  \n",
       "137                 1956.099976  \n",
       "138                 1965.000000  \n",
       "139                 1973.400024  \n",
       "140                 1980.500000  \n",
       "141                 1982.900024  \n",
       "\n",
       "[142 rows x 12 columns]"
      ]
     },
     "execution_count": 976,
     "metadata": {},
     "output_type": "execute_result"
    }
   ],
   "source": [
    "\n",
    "### deletes 'år and 'veckonummer'\n",
    "df_veckodata_riket.drop(['år', 'veckonummer'], axis=1, inplace=True) \n",
    "\n",
    "\n",
    "## reorders the coulmn names\n",
    "df_veckodata_riket_REORDER = [ \n",
    "                    'år,vecka', \n",
    "                    'Antal_fall_vecka', \n",
    "                    'Antal_fall_100000inv_14dagar',\n",
    "                    'Antal_fall_100000inv_14dagar',\n",
    "                    'Kum_antal_fall',\n",
    "                    'Kum_fall_100000inv',\n",
    "                    'Antal_nyaintensivvårdade_vecka',\n",
    "                    'Kum_antal_intensivvårdade',\n",
    "                    'Antal_avlidna_vecka',\n",
    "                    'Antal_avlidna_milj_inv_vecka',\n",
    "                    'Kum_antal_avlidna',\n",
    "                    'Kum_antal_avlidna_milj_inv',\n",
    "                    ]\n",
    "\n",
    "\n",
    "df_veckodata_riket = (df_veckodata_riket[df_veckodata_riket_REORDER])\n",
    "\n",
    "df_veckodata_riket    \n"
   ]
  },
  {
   "cell_type": "markdown",
   "metadata": {},
   "source": [
    "________________\n"
   ]
  },
  {
   "cell_type": "markdown",
   "metadata": {},
   "source": [
    "__________________"
   ]
  },
  {
   "cell_type": "markdown",
   "metadata": {},
   "source": [
    "## C)\n",
    "\n",
    "Rita linjediagram av både avlidna fall per vecka och nya fall per vecka i samma fönster från 2020v6 till\n",
    "nu.\n"
   ]
  },
  {
   "cell_type": "code",
   "execution_count": 977,
   "metadata": {},
   "outputs": [
    {
     "data": {
      "image/png": "[encoded data removed]",
      "text/plain": [
       "<Figure size 640x480 with 1 Axes>"
      ]
     },
     "metadata": {},
     "output_type": "display_data"
    }
   ],
   "source": [
    "\n",
    "\n",
    "\n",
    "year_V_riket = df_veckodata_riket[\"år,vecka\"]\n",
    "dead_per_week = df_veckodata_riket['Antal_avlidna_vecka']\n",
    "\n",
    "\n",
    "\n",
    "## tog av kokchun\n",
    "\n",
    "ax = plt.axes() # sätter grid\n",
    "\n",
    "weeks = [i for i in year_V_riket] # list comperhension i vilket i går igenom df_year_v_riket\n",
    "dead_per_week\n",
    "\n",
    "sns.lineplot( x=weeks, y= dead_per_week, ax = ax)\n",
    "ax.set(title= \"Antal döda per vecka\")\n",
    "ax.xaxis.set_major_locator(plt.MaxNLocator(7)) ## listar ut 2020v6 och framåt \n",
    "\n"
   ]
  },
  {
   "cell_type": "markdown",
   "metadata": {},
   "source": [
    "_________"
   ]
  },
  {
   "cell_type": "markdown",
   "metadata": {},
   "source": [
    "__________________"
   ]
  },
  {
   "cell_type": "markdown",
   "metadata": {},
   "source": [
    "## D)\n",
    "Rita en linjediagram som visar nya fall per vecka från 2020v6 till nu."
   ]
  },
  {
   "cell_type": "code",
   "execution_count": 978,
   "metadata": {},
   "outputs": [
    {
     "data": {
      "image/png": "[encoded data removed]",
      "text/plain": [
       "<Figure size 640x480 with 1 Axes>"
      ]
     },
     "metadata": {},
     "output_type": "display_data"
    }
   ],
   "source": [
    "weekly_cases = df_veckodata_riket['Antal_fall_vecka']\n",
    "\n",
    "ax = plt.axes()\n",
    "\n",
    "sns.lineplot(x = weeks, y = weekly_cases, ax = ax)\n",
    "ax.set(title= \"Nya fall per vecka\")\n",
    "ax.xaxis.set_major_locator(plt.MaxNLocator(7)) ## listar ut 2020v6 och framåt \n"
   ]
  },
  {
   "cell_type": "markdown",
   "metadata": {},
   "source": [
    "________"
   ]
  },
  {
   "cell_type": "markdown",
   "metadata": {},
   "source": [
    "_____"
   ]
  },
  {
   "cell_type": "markdown",
   "metadata": {},
   "source": [
    "## E)\n",
    "Rita linjediagram av både avlidna fall per vecka och nya fall per vecka i samma fönster från 2020v6 till\n",
    "nu."
   ]
  },
  {
   "cell_type": "code",
   "execution_count": 979,
   "metadata": {},
   "outputs": [
    {
     "data": {
      "image/png": "[encoded data removed]",
      "text/plain": [
       "<Figure size 640x480 with 1 Axes>"
      ]
     },
     "metadata": {},
     "output_type": "display_data"
    }
   ],
   "source": [
    "ax = plt.axes()\n",
    "sns.lineplot(x = weeks, y = weekly_cases, ax = ax, label=\"Antal sjuka per vecka\")\n",
    "sns.lineplot(x = weeks, y = dead_per_week, ax = ax, label =\"Antal döda per vecka\")\n",
    "ax.set(title = \"Avlidna / antal sjuka per vecka\")\n",
    "ax.set_yscale(\"log\")\n",
    "\n",
    "ax.xaxis.set_major_locator(plt.MaxNLocator(5))"
   ]
  },
  {
   "cell_type": "code",
   "execution_count": 980,
   "metadata": {},
   "outputs": [
    {
     "data": {
      "text/plain": [
       "100000"
      ]
     },
     "execution_count": 980,
     "metadata": {},
     "output_type": "execute_result"
    }
   ],
   "source": [
    "10**5"
   ]
  },
  {
   "cell_type": "markdown",
   "metadata": {},
   "source": [
    "____________"
   ]
  },
  {
   "cell_type": "code",
   "execution_count": 981,
   "metadata": {},
   "outputs": [
    {
     "data": {
      "application/vnd.plotly.v1+json": {
       "config": {
        "plotlyServerURL": "https://plot.ly"
       },
       "data": [
        {
         "hovertemplate": "variable=wide_variable_0<br>År/vecka=%{x}<br>value=%{y}<extra></extra>",
         "legendgroup": "wide_variable_0",
         "line": {
          "color": "#636efa",
          "dash": "solid"
         },
         "marker": {
          "symbol": "circle"
         },
         "mode": "lines",
         "name": "New Cases",
         "orientation": "v",
         "showlegend": true,
         "type": "scatter",
         "x": [
          "2020v6",
          "2020v7",
          "2020v8",
          "2020v9",
          "2020v10",
          "2020v11",
          "2020v12",
          "2020v13",
          "2020v14",
          "2020v15",
          "2020v16",
          "2020v17",
          "2020v18",
          "2020v19",
          "2020v20",
          "2020v21",
          "2020v22",
          "2020v23",
          "2020v24",
          "2020v25",
          "2020v26",
          "2020v27",
          "2020v28",
          "2020v29",
          "2020v30",
          "2020v31",
          "2020v32",
          "2020v33",
          "2020v34",
          "2020v35",
          "2020v36",
          "2020v37",
          "2020v38",
          "2020v39",
          "2020v40",
          "2020v41",
          "2020v42",
          "2020v43",
          "2020v44",
          "2020v45",
          "2020v46",
          "2020v47",
          "2020v48",
          "2020v49",
          "2020v50",
          "2020v51",
          "2020v52",
          "2020v53",
          "2021v1",
          "2021v2",
          "2021v3",
          "2021v4",
          "2021v5",
          "2021v6",
          "2021v7",
          "2021v8",
          "2021v9",
          "2021v10",
          "2021v11",
          "2021v12",
          "2021v13",
          "2021v14",
          "2021v15",
          "2021v16",
          "2021v17",
          "2021v18",
          "2021v19",
          "2021v20",
          "2021v21",
          "2021v22",
          "2021v23",
          "2021v24",
          "2021v25",
          "2021v26",
          "2021v27",
          "2021v28",
          "2021v29",
          "2021v30",
          "2021v31",
          "2021v32",
          "2021v33",
          "2021v34",
          "2021v35",
          "2021v36",
          "2021v37",
          "2021v38",
          "2021v39",
          "2021v40",
          "2021v41",
          "2021v42",
          "2021v43",
          "2021v44",
          "2021v45",
          "2021v46",
          "2021v47",
          "2021v48",
          "2021v49",
          "2021v50",
          "2021v51",
          "2021v52",
          "2022v1",
          "2022v2",
          "2022v3",
          "2022v4",
          "2022v5",
          "2022v6",
          "2022v7",
          "2022v8",
          "2022v9",
          "2022v10",
          "2022v11",
          "2022v12",
          "2022v13",
          "2022v14",
          "2022v15",
          "2022v16",
          "2022v17",
          "2022v18",
          "2022v19",
          "2022v20",
          "2022v21",
          "2022v22",
          "2022v23",
          "2022v24",
          "2022v25",
          "2022v26",
          "2022v27",
          "2022v28",
          "2022v29",
          "2022v30",
          "2022v31",
          "2022v32",
          "2022v33",
          "2022v34",
          "2022v35",
          "2022v36",
          "2022v37",
          "2022v38",
          "2022v39",
          "2022v40",
          "2022v41",
          "2022v42"
         ],
         "xaxis": "x",
         "y": [
          1,
          0,
          0,
          13,
          211,
          838,
          924,
          1957,
          3229,
          3740,
          3752,
          4203,
          3832,
          4153,
          3869,
          3659,
          4280,
          6021,
          7123,
          7073,
          7455,
          4279,
          2179,
          1622,
          1316,
          1556,
          2014,
          2052,
          1687,
          1200,
          1332,
          1592,
          2080,
          2919,
          3642,
          4278,
          5620,
          9155,
          18474,
          25405,
          31319,
          31944,
          35560,
          36837,
          43631,
          46177,
          37134,
          41323,
          39446,
          28935,
          23222,
          20654,
          19604,
          21282,
          23613,
          26680,
          27739,
          28555,
          33032,
          37880,
          38384,
          41142,
          41036,
          36030,
          35306,
          33678,
          25914,
          18170,
          7974,
          9094,
          4394,
          2848,
          1983,
          1870,
          1514,
          1883,
          2661,
          3460,
          4609,
          5817,
          6463,
          6685,
          7236,
          7968,
          6259,
          4305,
          4231,
          4137,
          4069,
          5194,
          5910,
          5060,
          5819,
          7093,
          11915,
          13801,
          18649,
          24485,
          27907,
          59341,
          125275,
          164692,
          256323,
          265043,
          185716,
          62338,
          22160,
          17676,
          12587,
          10110,
          8502,
          7040,
          4952,
          4091,
          3070,
          2525,
          2319,
          1940,
          1656,
          1817,
          1316,
          1255,
          1896,
          2165,
          3090,
          4118,
          4236,
          5442,
          5951,
          5705,
          6235,
          6638,
          6320,
          4868,
          4485,
          4712,
          4978,
          4669,
          13532,
          3999,
          3408,
          3279
         ],
         "yaxis": "y"
        },
        {
         "hovertemplate": "variable=wide_variable_1<br>År/vecka=%{x}<br>value=%{y}<extra></extra>",
         "legendgroup": "wide_variable_1",
         "line": {
          "color": "#EF553B",
          "dash": "solid"
         },
         "marker": {
          "symbol": "circle"
         },
         "mode": "lines",
         "name": "Dead",
         "orientation": "v",
         "showlegend": true,
         "type": "scatter",
         "x": [
          "2020v6",
          "2020v7",
          "2020v8",
          "2020v9",
          "2020v10",
          "2020v11",
          "2020v12",
          "2020v13",
          "2020v14",
          "2020v15",
          "2020v16",
          "2020v17",
          "2020v18",
          "2020v19",
          "2020v20",
          "2020v21",
          "2020v22",
          "2020v23",
          "2020v24",
          "2020v25",
          "2020v26",
          "2020v27",
          "2020v28",
          "2020v29",
          "2020v30",
          "2020v31",
          "2020v32",
          "2020v33",
          "2020v34",
          "2020v35",
          "2020v36",
          "2020v37",
          "2020v38",
          "2020v39",
          "2020v40",
          "2020v41",
          "2020v42",
          "2020v43",
          "2020v44",
          "2020v45",
          "2020v46",
          "2020v47",
          "2020v48",
          "2020v49",
          "2020v50",
          "2020v51",
          "2020v52",
          "2020v53",
          "2021v1",
          "2021v2",
          "2021v3",
          "2021v4",
          "2021v5",
          "2021v6",
          "2021v7",
          "2021v8",
          "2021v9",
          "2021v10",
          "2021v11",
          "2021v12",
          "2021v13",
          "2021v14",
          "2021v15",
          "2021v16",
          "2021v17",
          "2021v18",
          "2021v19",
          "2021v20",
          "2021v21",
          "2021v22",
          "2021v23",
          "2021v24",
          "2021v25",
          "2021v26",
          "2021v27",
          "2021v28",
          "2021v29",
          "2021v30",
          "2021v31",
          "2021v32",
          "2021v33",
          "2021v34",
          "2021v35",
          "2021v36",
          "2021v37",
          "2021v38",
          "2021v39",
          "2021v40",
          "2021v41",
          "2021v42",
          "2021v43",
          "2021v44",
          "2021v45",
          "2021v46",
          "2021v47",
          "2021v48",
          "2021v49",
          "2021v50",
          "2021v51",
          "2021v52",
          "2022v1",
          "2022v2",
          "2022v3",
          "2022v4",
          "2022v5",
          "2022v6",
          "2022v7",
          "2022v8",
          "2022v9",
          "2022v10",
          "2022v11",
          "2022v12",
          "2022v13",
          "2022v14",
          "2022v15",
          "2022v16",
          "2022v17",
          "2022v18",
          "2022v19",
          "2022v20",
          "2022v21",
          "2022v22",
          "2022v23",
          "2022v24",
          "2022v25",
          "2022v26",
          "2022v27",
          "2022v28",
          "2022v29",
          "2022v30",
          "2022v31",
          "2022v32",
          "2022v33",
          "2022v34",
          "2022v35",
          "2022v36",
          "2022v37",
          "2022v38",
          "2022v39",
          "2022v40",
          "2022v41",
          "2022v42"
         ],
         "xaxis": "x",
         "y": [
          0,
          0,
          0,
          0,
          0,
          5,
          44,
          190,
          451,
          664,
          657,
          546,
          543,
          509,
          380,
          360,
          272,
          246,
          234,
          200,
          138,
          98,
          84,
          57,
          30,
          18,
          18,
          16,
          19,
          10,
          12,
          13,
          12,
          11,
          17,
          22,
          16,
          43,
          82,
          157,
          235,
          332,
          417,
          476,
          500,
          645,
          643,
          663,
          644,
          598,
          513,
          389,
          269,
          205,
          172,
          146,
          129,
          141,
          127,
          126,
          142,
          133,
          141,
          131,
          115,
          107,
          111,
          70,
          47,
          39,
          22,
          17,
          9,
          8,
          3,
          2,
          3,
          4,
          7,
          7,
          11,
          20,
          25,
          49,
          51,
          43,
          39,
          49,
          32,
          23,
          30,
          33,
          31,
          30,
          15,
          29,
          38,
          49,
          44,
          70,
          130,
          172,
          243,
          301,
          359,
          329,
          361,
          319,
          273,
          204,
          195,
          157,
          122,
          120,
          71,
          70,
          51,
          52,
          42,
          41,
          26,
          23,
          28,
          22,
          36,
          42,
          59,
          62,
          114,
          95,
          110,
          119,
          133,
          85,
          96,
          85,
          95,
          88,
          92,
          88,
          73,
          25
         ],
         "yaxis": "y"
        }
       ],
       "layout": {
        "legend": {
         "title": {
          "text": "variable"
         },
         "tracegroupgap": 0
        },
        "template": {
         "data": {
          "bar": [
           {
            "error_x": {
             "color": "#2a3f5f"
            },
            "error_y": {
             "color": "#2a3f5f"
            },
            "marker": {
             "line": {
              "color": "#E5ECF6",
              "width": 0.5
             },
             "pattern": {
              "fillmode": "overlay",
              "size": 10,
              "solidity": 0.2
             }
            },
            "type": "bar"
           }
          ],
          "barpolar": [
           {
            "marker": {
             "line": {
              "color": "#E5ECF6",
              "width": 0.5
             },
             "pattern": {
              "fillmode": "overlay",
              "size": 10,
              "solidity": 0.2
             }
            },
            "type": "barpolar"
           }
          ],
          "carpet": [
           {
            "aaxis": {
             "endlinecolor": "#2a3f5f",
             "gridcolor": "white",
             "linecolor": "white",
             "minorgridcolor": "white",
             "startlinecolor": "#2a3f5f"
            },
            "baxis": {
             "endlinecolor": "#2a3f5f",
             "gridcolor": "white",
             "linecolor": "white",
             "minorgridcolor": "white",
             "startlinecolor": "#2a3f5f"
            },
            "type": "carpet"
           }
          ],
          "choropleth": [
           {
            "colorbar": {
             "outlinewidth": 0,
             "ticks": ""
            },
            "type": "choropleth"
           }
          ],
          "contour": [
           {
            "colorbar": {
             "outlinewidth": 0,
             "ticks": ""
            },
            "colorscale": [
             [
              0,
              "#0d0887"
             ],
             [
              0.1111111111111111,
              "#46039f"
             ],
             [
              0.2222222222222222,
              "#7201a8"
             ],
             [
              0.3333333333333333,
              "#9c179e"
             ],
             [
              0.4444444444444444,
              "#bd3786"
             ],
             [
              0.5555555555555556,
              "#d8576b"
             ],
             [
              0.6666666666666666,
              "#ed7953"
             ],
             [
              0.7777777777777778,
              "#fb9f3a"
             ],
             [
              0.8888888888888888,
              "#fdca26"
             ],
             [
              1,
              "#f0f921"
             ]
            ],
            "type": "contour"
           }
          ],
          "contourcarpet": [
           {
            "colorbar": {
             "outlinewidth": 0,
             "ticks": ""
            },
            "type": "contourcarpet"
           }
          ],
          "heatmap": [
           {
            "colorbar": {
             "outlinewidth": 0,
             "ticks": ""
            },
            "colorscale": [
             [
              0,
              "#0d0887"
             ],
             [
              0.1111111111111111,
              "#46039f"
             ],
             [
              0.2222222222222222,
              "#7201a8"
             ],
             [
              0.3333333333333333,
              "#9c179e"
             ],
             [
              0.4444444444444444,
              "#bd3786"
             ],
             [
              0.5555555555555556,
              "#d8576b"
             ],
             [
              0.6666666666666666,
              "#ed7953"
             ],
             [
              0.7777777777777778,
              "#fb9f3a"
             ],
             [
              0.8888888888888888,
              "#fdca26"
             ],
             [
              1,
              "#f0f921"
             ]
            ],
            "type": "heatmap"
           }
          ],
          "heatmapgl": [
           {
            "colorbar": {
             "outlinewidth": 0,
             "ticks": ""
            },
            "colorscale": [
             [
              0,
              "#0d0887"
             ],
             [
              0.1111111111111111,
              "#46039f"
             ],
             [
              0.2222222222222222,
              "#7201a8"
             ],
             [
              0.3333333333333333,
              "#9c179e"
             ],
             [
              0.4444444444444444,
              "#bd3786"
             ],
             [
              0.5555555555555556,
              "#d8576b"
             ],
             [
              0.6666666666666666,
              "#ed7953"
             ],
             [
              0.7777777777777778,
              "#fb9f3a"
             ],
             [
              0.8888888888888888,
              "#fdca26"
             ],
             [
              1,
              "#f0f921"
             ]
            ],
            "type": "heatmapgl"
           }
          ],
          "histogram": [
           {
            "marker": {
             "pattern": {
              "fillmode": "overlay",
              "size": 10,
              "solidity": 0.2
             }
            },
            "type": "histogram"
           }
          ],
          "histogram2d": [
           {
            "colorbar": {
             "outlinewidth": 0,
             "ticks": ""
            },
            "colorscale": [
             [
              0,
              "#0d0887"
             ],
             [
              0.1111111111111111,
              "#46039f"
             ],
             [
              0.2222222222222222,
              "#7201a8"
             ],
             [
              0.3333333333333333,
              "#9c179e"
             ],
             [
              0.4444444444444444,
              "#bd3786"
             ],
             [
              0.5555555555555556,
              "#d8576b"
             ],
             [
              0.6666666666666666,
              "#ed7953"
             ],
             [
              0.7777777777777778,
              "#fb9f3a"
             ],
             [
              0.8888888888888888,
              "#fdca26"
             ],
             [
              1,
              "#f0f921"
             ]
            ],
            "type": "histogram2d"
           }
          ],
          "histogram2dcontour": [
           {
            "colorbar": {
             "outlinewidth": 0,
             "ticks": ""
            },
            "colorscale": [
             [
              0,
              "#0d0887"
             ],
             [
              0.1111111111111111,
              "#46039f"
             ],
             [
              0.2222222222222222,
              "#7201a8"
             ],
             [
              0.3333333333333333,
              "#9c179e"
             ],
             [
              0.4444444444444444,
              "#bd3786"
             ],
             [
              0.5555555555555556,
              "#d8576b"
             ],
             [
              0.6666666666666666,
              "#ed7953"
             ],
             [
              0.7777777777777778,
              "#fb9f3a"
             ],
             [
              0.8888888888888888,
              "#fdca26"
             ],
             [
              1,
              "#f0f921"
             ]
            ],
            "type": "histogram2dcontour"
           }
          ],
          "mesh3d": [
           {
            "colorbar": {
             "outlinewidth": 0,
             "ticks": ""
            },
            "type": "mesh3d"
           }
          ],
          "parcoords": [
           {
            "line": {
             "colorbar": {
              "outlinewidth": 0,
              "ticks": ""
             }
            },
            "type": "parcoords"
           }
          ],
          "pie": [
           {
            "automargin": true,
            "type": "pie"
           }
          ],
          "scatter": [
           {
            "fillpattern": {
             "fillmode": "overlay",
             "size": 10,
             "solidity": 0.2
            },
            "type": "scatter"
           }
          ],
          "scatter3d": [
           {
            "line": {
             "colorbar": {
              "outlinewidth": 0,
              "ticks": ""
             }
            },
            "marker": {
             "colorbar": {
              "outlinewidth": 0,
              "ticks": ""
             }
            },
            "type": "scatter3d"
           }
          ],
          "scattercarpet": [
           {
            "marker": {
             "colorbar": {
              "outlinewidth": 0,
              "ticks": ""
             }
            },
            "type": "scattercarpet"
           }
          ],
          "scattergeo": [
           {
            "marker": {
             "colorbar": {
              "outlinewidth": 0,
              "ticks": ""
             }
            },
            "type": "scattergeo"
           }
          ],
          "scattergl": [
           {
            "marker": {
             "colorbar": {
              "outlinewidth": 0,
              "ticks": ""
             }
            },
            "type": "scattergl"
           }
          ],
          "scattermapbox": [
           {
            "marker": {
             "colorbar": {
              "outlinewidth": 0,
              "ticks": ""
             }
            },
            "type": "scattermapbox"
           }
          ],
          "scatterpolar": [
           {
            "marker": {
             "colorbar": {
              "outlinewidth": 0,
              "ticks": ""
             }
            },
            "type": "scatterpolar"
           }
          ],
          "scatterpolargl": [
           {
            "marker": {
             "colorbar": {
              "outlinewidth": 0,
              "ticks": ""
             }
            },
            "type": "scatterpolargl"
           }
          ],
          "scatterternary": [
           {
            "marker": {
             "colorbar": {
              "outlinewidth": 0,
              "ticks": ""
             }
            },
            "type": "scatterternary"
           }
          ],
          "surface": [
           {
            "colorbar": {
             "outlinewidth": 0,
             "ticks": ""
            },
            "colorscale": [
             [
              0,
              "#0d0887"
             ],
             [
              0.1111111111111111,
              "#46039f"
             ],
             [
              0.2222222222222222,
              "#7201a8"
             ],
             [
              0.3333333333333333,
              "#9c179e"
             ],
             [
              0.4444444444444444,
              "#bd3786"
             ],
             [
              0.5555555555555556,
              "#d8576b"
             ],
             [
              0.6666666666666666,
              "#ed7953"
             ],
             [
              0.7777777777777778,
              "#fb9f3a"
             ],
             [
              0.8888888888888888,
              "#fdca26"
             ],
             [
              1,
              "#f0f921"
             ]
            ],
            "type": "surface"
           }
          ],
          "table": [
           {
            "cells": {
             "fill": {
              "color": "#EBF0F8"
             },
             "line": {
              "color": "white"
             }
            },
            "header": {
             "fill": {
              "color": "#C8D4E3"
             },
             "line": {
              "color": "white"
             }
            },
            "type": "table"
           }
          ]
         },
         "layout": {
          "annotationdefaults": {
           "arrowcolor": "#2a3f5f",
           "arrowhead": 0,
           "arrowwidth": 1
          },
          "autotypenumbers": "strict",
          "coloraxis": {
           "colorbar": {
            "outlinewidth": 0,
            "ticks": ""
           }
          },
          "colorscale": {
           "diverging": [
            [
             0,
             "#8e0152"
            ],
            [
             0.1,
             "#c51b7d"
            ],
            [
             0.2,
             "#de77ae"
            ],
            [
             0.3,
             "#f1b6da"
            ],
            [
             0.4,
             "#fde0ef"
            ],
            [
             0.5,
             "#f7f7f7"
            ],
            [
             0.6,
             "#e6f5d0"
            ],
            [
             0.7,
             "#b8e186"
            ],
            [
             0.8,
             "#7fbc41"
            ],
            [
             0.9,
             "#4d9221"
            ],
            [
             1,
             "#276419"
            ]
           ],
           "sequential": [
            [
             0,
             "#0d0887"
            ],
            [
             0.1111111111111111,
             "#46039f"
            ],
            [
             0.2222222222222222,
             "#7201a8"
            ],
            [
             0.3333333333333333,
             "#9c179e"
            ],
            [
             0.4444444444444444,
             "#bd3786"
            ],
            [
             0.5555555555555556,
             "#d8576b"
            ],
            [
             0.6666666666666666,
             "#ed7953"
            ],
            [
             0.7777777777777778,
             "#fb9f3a"
            ],
            [
             0.8888888888888888,
             "#fdca26"
            ],
            [
             1,
             "#f0f921"
            ]
           ],
           "sequentialminus": [
            [
             0,
             "#0d0887"
            ],
            [
             0.1111111111111111,
             "#46039f"
            ],
            [
             0.2222222222222222,
             "#7201a8"
            ],
            [
             0.3333333333333333,
             "#9c179e"
            ],
            [
             0.4444444444444444,
             "#bd3786"
            ],
            [
             0.5555555555555556,
             "#d8576b"
            ],
            [
             0.6666666666666666,
             "#ed7953"
            ],
            [
             0.7777777777777778,
             "#fb9f3a"
            ],
            [
             0.8888888888888888,
             "#fdca26"
            ],
            [
             1,
             "#f0f921"
            ]
           ]
          },
          "colorway": [
           "#636efa",
           "#EF553B",
           "#00cc96",
           "#ab63fa",
           "#FFA15A",
           "#19d3f3",
           "#FF6692",
           "#B6E880",
           "#FF97FF",
           "#FECB52"
          ],
          "font": {
           "color": "#2a3f5f"
          },
          "geo": {
           "bgcolor": "white",
           "lakecolor": "white",
           "landcolor": "#E5ECF6",
           "showlakes": true,
           "showland": true,
           "subunitcolor": "white"
          },
          "hoverlabel": {
           "align": "left"
          },
          "hovermode": "closest",
          "mapbox": {
           "style": "light"
          },
          "paper_bgcolor": "white",
          "plot_bgcolor": "#E5ECF6",
          "polar": {
           "angularaxis": {
            "gridcolor": "white",
            "linecolor": "white",
            "ticks": ""
           },
           "bgcolor": "#E5ECF6",
           "radialaxis": {
            "gridcolor": "white",
            "linecolor": "white",
            "ticks": ""
           }
          },
          "scene": {
           "xaxis": {
            "backgroundcolor": "#E5ECF6",
            "gridcolor": "white",
            "gridwidth": 2,
            "linecolor": "white",
            "showbackground": true,
            "ticks": "",
            "zerolinecolor": "white"
           },
           "yaxis": {
            "backgroundcolor": "#E5ECF6",
            "gridcolor": "white",
            "gridwidth": 2,
            "linecolor": "white",
            "showbackground": true,
            "ticks": "",
            "zerolinecolor": "white"
           },
           "zaxis": {
            "backgroundcolor": "#E5ECF6",
            "gridcolor": "white",
            "gridwidth": 2,
            "linecolor": "white",
            "showbackground": true,
            "ticks": "",
            "zerolinecolor": "white"
           }
          },
          "shapedefaults": {
           "line": {
            "color": "#2a3f5f"
           }
          },
          "ternary": {
           "aaxis": {
            "gridcolor": "white",
            "linecolor": "white",
            "ticks": ""
           },
           "baxis": {
            "gridcolor": "white",
            "linecolor": "white",
            "ticks": ""
           },
           "bgcolor": "#E5ECF6",
           "caxis": {
            "gridcolor": "white",
            "linecolor": "white",
            "ticks": ""
           }
          },
          "title": {
           "x": 0.05
          },
          "xaxis": {
           "automargin": true,
           "gridcolor": "white",
           "linecolor": "white",
           "ticks": "",
           "title": {
            "standoff": 15
           },
           "zerolinecolor": "white",
           "zerolinewidth": 2
          },
          "yaxis": {
           "automargin": true,
           "gridcolor": "white",
           "linecolor": "white",
           "ticks": "",
           "title": {
            "standoff": 15
           },
           "zerolinecolor": "white",
           "zerolinewidth": 2
          }
         }
        },
        "title": {
         "text": "Dead and new cases per week"
        },
        "xaxis": {
         "anchor": "y",
         "domain": [
          0,
          1
         ],
         "title": {
          "text": "År/vecka"
         }
        },
        "yaxis": {
         "anchor": "x",
         "domain": [
          0,
          1
         ],
         "title": {
          "text": "value"
         }
        }
       }
      }
     },
     "metadata": {},
     "output_type": "display_data"
    }
   ],
   "source": [
    "import plotly.express as px\n",
    "\n",
    "\n",
    "fig = px.line( x=weeks,\n",
    "               y=[weekly_cases, dead_per_week], \n",
    "               title=\"Dead and new cases per week\",\n",
    "               labels={'x': 'År/vecka'},\n",
    "\n",
    ")\n",
    "was = {\n",
    "\"wide_variable_0\": \"New Cases\",\n",
    "\"wide_variable_1\": \"Dead\",     \n",
    "}\n",
    "            \n",
    "fig.for_each_trace(lambda t: t.update(name=was[t.name]))       \n",
    "fig.write_html(\"Visualiseringar/dead_and_new_cases_per_week.html\")     \n",
    "fig.show()\n",
    "\n",
    "\n",
    "\n",
    "\n",
    "\n",
    "\n"
   ]
  },
  {
   "cell_type": "markdown",
   "metadata": {},
   "source": [
    "____________"
   ]
  },
  {
   "cell_type": "markdown",
   "metadata": {},
   "source": [
    "_________________________________________"
   ]
  },
  {
   "cell_type": "markdown",
   "metadata": {},
   "source": [
    "## F)\n",
    "Rita linjediagram av kumulativt antal fall från 2020v6 till nu."
   ]
  },
  {
   "cell_type": "code",
   "execution_count": 982,
   "metadata": {},
   "outputs": [
    {
     "data": {
      "image/png": "[encoded data removed]",
      "text/plain": [
       "<Figure size 640x480 with 1 Axes>"
      ]
     },
     "metadata": {},
     "output_type": "display_data"
    }
   ],
   "source": [
    "ax = plt.axes() \n",
    "graph= sns.lineplot(x = weeks, y = df_veckodata_riket[\"Kum_antal_fall\"], ax = ax) \n",
    "ax.set(title = \"Kumulativt antal fall\")\n",
    "ax.xaxis.set_major_locator(plt.MaxNLocator(7))\n"
   ]
  },
  {
   "cell_type": "markdown",
   "metadata": {},
   "source": [
    "_____"
   ]
  },
  {
   "cell_type": "markdown",
   "metadata": {},
   "source": [
    "____\n",
    "___________"
   ]
  },
  {
   "cell_type": "markdown",
   "metadata": {},
   "source": [
    "# Uppgift 2 - uppvärmning vaccindata\n",
    "___________"
   ]
  },
  {
   "cell_type": "code",
   "execution_count": 983,
   "metadata": {},
   "outputs": [],
   "source": [
    "vaccinerade_kommun = pd.read_excel(\"../Data/Folkhalsomyndigheten_Covid19_Vaccine.xlsx\" , sheet_name = 'Vaccinerade kommun och ålder')\n",
    "\n",
    "\n",
    "df_vaccin_data = pd.DataFrame(vaccinerade_kommun)"
   ]
  },
  {
   "cell_type": "code",
   "execution_count": 984,
   "metadata": {},
   "outputs": [
    {
     "name": "stdout",
     "output_type": "stream",
     "text": [
      "<class 'pandas.core.frame.DataFrame'>\n",
      "RangeIndex: 2900 entries, 0 to 2899\n",
      "Data columns (total 14 columns):\n",
      " #   Column               Non-Null Count  Dtype  \n",
      "---  ------               --------------  -----  \n",
      " 0   Län                  2900 non-null   int64  \n",
      " 1   Län_namn             2900 non-null   object \n",
      " 2   Kommun               2900 non-null   int64  \n",
      " 3   Kommun_namn          2900 non-null   object \n",
      " 4   Ålder                2900 non-null   object \n",
      " 5   Befolkning           2900 non-null   int64  \n",
      " 6   Antal minst 1 dos    2900 non-null   int64  \n",
      " 7   Antal minst 2 doser  2900 non-null   int64  \n",
      " 8   Antal 3 doser        2320 non-null   float64\n",
      " 9   Antal 4 doser        870 non-null    float64\n",
      " 10  Andel minst 1 dos    2900 non-null   float64\n",
      " 11  Andel minst 2 doser  2900 non-null   float64\n",
      " 12  Andel 3 doser        2320 non-null   float64\n",
      " 13  Andel 4 doser        870 non-null    float64\n",
      "dtypes: float64(6), int64(5), object(3)\n",
      "memory usage: 317.3+ KB\n"
     ]
    }
   ],
   "source": [
    "df_vaccin_data.info()  #exploartion"
   ]
  },
  {
   "cell_type": "code",
   "execution_count": 985,
   "metadata": {},
   "outputs": [
    {
     "data": {
      "text/html": [
       "<div>\n",
       "<style scoped>\n",
       "    .dataframe tbody tr th:only-of-type {\n",
       "        vertical-align: middle;\n",
       "    }\n",
       "\n",
       "    .dataframe tbody tr th {\n",
       "        vertical-align: top;\n",
       "    }\n",
       "\n",
       "    .dataframe thead th {\n",
       "        text-align: right;\n",
       "    }\n",
       "</style>\n",
       "<table border=\"1\" class=\"dataframe\">\n",
       "  <thead>\n",
       "    <tr style=\"text-align: right;\">\n",
       "      <th></th>\n",
       "      <th>Län</th>\n",
       "      <th>Kommun</th>\n",
       "      <th>Befolkning</th>\n",
       "      <th>Antal minst 1 dos</th>\n",
       "      <th>Antal minst 2 doser</th>\n",
       "      <th>Antal 3 doser</th>\n",
       "      <th>Antal 4 doser</th>\n",
       "      <th>Andel minst 1 dos</th>\n",
       "      <th>Andel minst 2 doser</th>\n",
       "      <th>Andel 3 doser</th>\n",
       "      <th>Andel 4 doser</th>\n",
       "    </tr>\n",
       "  </thead>\n",
       "  <tbody>\n",
       "    <tr>\n",
       "      <th>count</th>\n",
       "      <td>2900.000000</td>\n",
       "      <td>2900.000000</td>\n",
       "      <td>2900.000000</td>\n",
       "      <td>2900.000000</td>\n",
       "      <td>2900.000000</td>\n",
       "      <td>2320.000000</td>\n",
       "      <td>870.000000</td>\n",
       "      <td>2900.000000</td>\n",
       "      <td>2900.000000</td>\n",
       "      <td>2320.000000</td>\n",
       "      <td>870.000000</td>\n",
       "    </tr>\n",
       "    <tr>\n",
       "      <th>mean</th>\n",
       "      <td>13.227586</td>\n",
       "      <td>1382.089655</td>\n",
       "      <td>3135.444828</td>\n",
       "      <td>2693.233103</td>\n",
       "      <td>2630.201724</td>\n",
       "      <td>2384.159483</td>\n",
       "      <td>1557.318391</td>\n",
       "      <td>0.857080</td>\n",
       "      <td>0.839366</td>\n",
       "      <td>0.735081</td>\n",
       "      <td>0.850132</td>\n",
       "    </tr>\n",
       "    <tr>\n",
       "      <th>std</th>\n",
       "      <td>7.180466</td>\n",
       "      <td>714.442489</td>\n",
       "      <td>8015.433872</td>\n",
       "      <td>6762.997211</td>\n",
       "      <td>6542.139951</td>\n",
       "      <td>5245.058003</td>\n",
       "      <td>3013.031626</td>\n",
       "      <td>0.125466</td>\n",
       "      <td>0.139245</td>\n",
       "      <td>0.220354</td>\n",
       "      <td>0.056377</td>\n",
       "    </tr>\n",
       "    <tr>\n",
       "      <th>min</th>\n",
       "      <td>1.000000</td>\n",
       "      <td>114.000000</td>\n",
       "      <td>40.000000</td>\n",
       "      <td>31.000000</td>\n",
       "      <td>30.000000</td>\n",
       "      <td>41.000000</td>\n",
       "      <td>40.000000</td>\n",
       "      <td>0.334446</td>\n",
       "      <td>0.278083</td>\n",
       "      <td>0.179839</td>\n",
       "      <td>0.626261</td>\n",
       "    </tr>\n",
       "    <tr>\n",
       "      <th>25%</th>\n",
       "      <td>7.000000</td>\n",
       "      <td>764.000000</td>\n",
       "      <td>608.000000</td>\n",
       "      <td>486.500000</td>\n",
       "      <td>469.750000</td>\n",
       "      <td>520.500000</td>\n",
       "      <td>294.500000</td>\n",
       "      <td>0.807322</td>\n",
       "      <td>0.775852</td>\n",
       "      <td>0.546598</td>\n",
       "      <td>0.816791</td>\n",
       "    </tr>\n",
       "    <tr>\n",
       "      <th>50%</th>\n",
       "      <td>14.000000</td>\n",
       "      <td>1439.500000</td>\n",
       "      <td>1367.500000</td>\n",
       "      <td>1184.500000</td>\n",
       "      <td>1154.000000</td>\n",
       "      <td>1114.000000</td>\n",
       "      <td>759.000000</td>\n",
       "      <td>0.893450</td>\n",
       "      <td>0.879834</td>\n",
       "      <td>0.815425</td>\n",
       "      <td>0.857143</td>\n",
       "    </tr>\n",
       "    <tr>\n",
       "      <th>75%</th>\n",
       "      <td>19.000000</td>\n",
       "      <td>1981.000000</td>\n",
       "      <td>3007.500000</td>\n",
       "      <td>2603.000000</td>\n",
       "      <td>2537.750000</td>\n",
       "      <td>2440.250000</td>\n",
       "      <td>1650.000000</td>\n",
       "      <td>0.954395</td>\n",
       "      <td>0.950997</td>\n",
       "      <td>0.931945</td>\n",
       "      <td>0.891028</td>\n",
       "    </tr>\n",
       "    <tr>\n",
       "      <th>max</th>\n",
       "      <td>25.000000</td>\n",
       "      <td>2584.000000</td>\n",
       "      <td>178611.000000</td>\n",
       "      <td>146396.000000</td>\n",
       "      <td>140077.000000</td>\n",
       "      <td>93356.000000</td>\n",
       "      <td>55534.000000</td>\n",
       "      <td>1.000000</td>\n",
       "      <td>1.000000</td>\n",
       "      <td>1.000000</td>\n",
       "      <td>0.985507</td>\n",
       "    </tr>\n",
       "  </tbody>\n",
       "</table>\n",
       "</div>"
      ],
      "text/plain": [
       "               Län       Kommun     Befolkning  Antal minst 1 dos  \\\n",
       "count  2900.000000  2900.000000    2900.000000        2900.000000   \n",
       "mean     13.227586  1382.089655    3135.444828        2693.233103   \n",
       "std       7.180466   714.442489    8015.433872        6762.997211   \n",
       "min       1.000000   114.000000      40.000000          31.000000   \n",
       "25%       7.000000   764.000000     608.000000         486.500000   \n",
       "50%      14.000000  1439.500000    1367.500000        1184.500000   \n",
       "75%      19.000000  1981.000000    3007.500000        2603.000000   \n",
       "max      25.000000  2584.000000  178611.000000      146396.000000   \n",
       "\n",
       "       Antal minst 2 doser  Antal 3 doser  Antal 4 doser  Andel minst 1 dos  \\\n",
       "count          2900.000000    2320.000000     870.000000        2900.000000   \n",
       "mean           2630.201724    2384.159483    1557.318391           0.857080   \n",
       "std            6542.139951    5245.058003    3013.031626           0.125466   \n",
       "min              30.000000      41.000000      40.000000           0.334446   \n",
       "25%             469.750000     520.500000     294.500000           0.807322   \n",
       "50%            1154.000000    1114.000000     759.000000           0.893450   \n",
       "75%            2537.750000    2440.250000    1650.000000           0.954395   \n",
       "max          140077.000000   93356.000000   55534.000000           1.000000   \n",
       "\n",
       "       Andel minst 2 doser  Andel 3 doser  Andel 4 doser  \n",
       "count          2900.000000    2320.000000     870.000000  \n",
       "mean              0.839366       0.735081       0.850132  \n",
       "std               0.139245       0.220354       0.056377  \n",
       "min               0.278083       0.179839       0.626261  \n",
       "25%               0.775852       0.546598       0.816791  \n",
       "50%               0.879834       0.815425       0.857143  \n",
       "75%               0.950997       0.931945       0.891028  \n",
       "max               1.000000       1.000000       0.985507  "
      ]
     },
     "execution_count": 985,
     "metadata": {},
     "output_type": "execute_result"
    }
   ],
   "source": [
    "df_vaccin_data.describe()  #exploartion"
   ]
  },
  {
   "cell_type": "markdown",
   "metadata": {},
   "source": [
    "_________________\n",
    "________________"
   ]
  },
  {
   "cell_type": "markdown",
   "metadata": {},
   "source": [
    "## A)\n",
    "Hur många län finns representerade i datasetet?"
   ]
  },
  {
   "cell_type": "code",
   "execution_count": 986,
   "metadata": {},
   "outputs": [
    {
     "name": "stdout",
     "output_type": "stream",
     "text": [
      " Det är: 21 län\n"
     ]
    }
   ],
   "source": [
    "#https://pandas.pydata.org/docs/reference/api/pandas.DataFrame.drop_duplicates.html\n",
    "\n",
    "## Max från 2 timmar senare, hade funkat att använda unique()  22-11-02\n",
    "# kanse typ:  df_vaccin_data['län_namn'].unique()\n",
    "\n",
    "counties = df_vaccin_data.drop_duplicates(subset=['Län_namn'])\n",
    "\n",
    "print(f\" Det är: {counties['Län_namn'].count()} län\")"
   ]
  },
  {
   "cell_type": "markdown",
   "metadata": {},
   "source": [
    "_____________"
   ]
  },
  {
   "cell_type": "markdown",
   "metadata": {},
   "source": [
    "## B)\n",
    "Hur många kommuner finns representerade i datasetet?\n"
   ]
  },
  {
   "cell_type": "code",
   "execution_count": 987,
   "metadata": {},
   "outputs": [
    {
     "name": "stdout",
     "output_type": "stream",
     "text": [
      " Det är: 290 kommuner\n"
     ]
    }
   ],
   "source": [
    "municipality = df_vaccin_data.drop_duplicates(subset='Kommun_namn')\n",
    "\n",
    "print(f\" Det är: {municipality['Kommun_namn'].count()} kommuner\")"
   ]
  },
  {
   "cell_type": "markdown",
   "metadata": {},
   "source": [
    "_______________________"
   ]
  },
  {
   "cell_type": "markdown",
   "metadata": {},
   "source": [
    "## C) \n",
    "Hur stor är befolkningen som är representerad i datasetet?\n"
   ]
  },
  {
   "cell_type": "code",
   "execution_count": 988,
   "metadata": {},
   "outputs": [
    {
     "name": "stdout",
     "output_type": "stream",
     "text": [
      "Det är 9092790 människor reprenterade i datasetet \n"
     ]
    }
   ],
   "source": [
    "people_sum = df_vaccin_data['Befolkning'].sum()\n",
    "\n",
    "print(f\"Det är {people_sum} människor reprenterade i datasetet \")"
   ]
  },
  {
   "cell_type": "markdown",
   "metadata": {},
   "source": [
    "__________"
   ]
  },
  {
   "cell_type": "markdown",
   "metadata": {},
   "source": [
    "## D) \n",
    "Beräkna hur många barn under 18 år det finns i Sverige baserat på det här datasetet. \n",
    "\n",
    "\n",
    "Du får leta upp statistik på hur stor totala befolkningen är i Sverige"
   ]
  },
  {
   "cell_type": "code",
   "execution_count": null,
   "metadata": {},
   "outputs": [],
   "source": [
    "df_vaccin_data['Ålder'] #exploartion"
   ]
  },
  {
   "cell_type": "markdown",
   "metadata": {},
   "source": [
    "## svar ⬇"
   ]
  },
  {
   "cell_type": "code",
   "execution_count": 990,
   "metadata": {},
   "outputs": [
    {
     "name": "stdout",
     "output_type": "stream",
     "text": [
      "Det är: 745370 i detta data-setet, som är under 18\n"
     ]
    }
   ],
   "source": [
    "#SVAR\n",
    "\n",
    "age_condition = ['12-15', '16-17'] ## keyword for search\n",
    "\n",
    "## creates new dataframe with infomartion of old dataframe\n",
    "df_age_condition = df_vaccin_data[df_vaccin_data['Ålder'].isin(age_condition)] ## every row with ['12-15, '16-17'] \n",
    "\n",
    "\n",
    "\n",
    "print(f\"Det är: {df_age_condition['Befolkning'].sum()} i detta data-setet, som är under 18\")"
   ]
  },
  {
   "cell_type": "code",
   "execution_count": 991,
   "metadata": {},
   "outputs": [
    {
     "data": {
      "text/plain": [
       "2320    1203\n",
       "2321    1014\n",
       "2322    1376\n",
       "2323    1338\n",
       "2324    2110\n",
       "        ... \n",
       "2895    3427\n",
       "2896    1838\n",
       "2897    1156\n",
       "2898     452\n",
       "2899     954\n",
       "Name: Befolkning, Length: 580, dtype: int64"
      ]
     },
     "execution_count": 991,
     "metadata": {},
     "output_type": "execute_result"
    }
   ],
   "source": [
    "df_age_condition['Befolkning'] "
   ]
  },
  {
   "cell_type": "markdown",
   "metadata": {},
   "source": [
    "___________"
   ]
  },
  {
   "cell_type": "markdown",
   "metadata": {},
   "source": [
    "## E) \n",
    "Rita ett diagram som visar på åldersfördelningen av Sveriges befolkning."
   ]
  },
  {
   "cell_type": "code",
   "execution_count": 992,
   "metadata": {},
   "outputs": [
    {
     "data": {
      "application/vnd.plotly.v1+json": {
       "config": {
        "plotlyServerURL": "https://plot.ly"
       },
       "data": [
        {
         "alignmentgroup": "True",
         "bingroup": "x",
         "histfunc": "sum",
         "hovertemplate": "Ålder=%{x}<br>sum of Befolkning=%{y}<extra></extra>",
         "legendgroup": "",
         "marker": {
          "color": "#636efa",
          "pattern": {
           "shape": ""
          }
         },
         "name": "",
         "offsetgroup": "",
         "orientation": "v",
         "showlegend": false,
         "type": "histogram",
         "x": [
          "90 eller äldre",
          "90 eller äldre",
          "90 eller äldre",
          "90 eller äldre",
          "90 eller äldre",
          "90 eller äldre",
          "90 eller äldre",
          "90 eller äldre",
          "90 eller äldre",
          "90 eller äldre",
          "90 eller äldre",
          "90 eller äldre",
          "90 eller äldre",
          "90 eller äldre",
          "90 eller äldre",
          "90 eller äldre",
          "90 eller äldre",
          "90 eller äldre",
          "90 eller äldre",
          "90 eller äldre",
          "90 eller äldre",
          "90 eller äldre",
          "90 eller äldre",
          "90 eller äldre",
          "90 eller äldre",
          "90 eller äldre",
          "90 eller äldre",
          "90 eller äldre",
          "90 eller äldre",
          "90 eller äldre",
          "90 eller äldre",
          "90 eller äldre",
          "90 eller äldre",
          "90 eller äldre",
          "90 eller äldre",
          "90 eller äldre",
          "90 eller äldre",
          "90 eller äldre",
          "90 eller äldre",
          "90 eller äldre",
          "90 eller äldre",
          "90 eller äldre",
          "90 eller äldre",
          "90 eller äldre",
          "90 eller äldre",
          "90 eller äldre",
          "90 eller äldre",
          "90 eller äldre",
          "90 eller äldre",
          "90 eller äldre",
          "90 eller äldre",
          "90 eller äldre",
          "90 eller äldre",
          "90 eller äldre",
          "90 eller äldre",
          "90 eller äldre",
          "90 eller äldre",
          "90 eller äldre",
          "90 eller äldre",
          "90 eller äldre",
          "90 eller äldre",
          "90 eller äldre",
          "90 eller äldre",
          "90 eller äldre",
          "90 eller äldre",
          "90 eller äldre",
          "90 eller äldre",
          "90 eller äldre",
          "90 eller äldre",
          "90 eller äldre",
          "90 eller äldre",
          "90 eller äldre",
          "90 eller äldre",
          "90 eller äldre",
          "90 eller äldre",
          "90 eller äldre",
          "90 eller äldre",
          "90 eller äldre",
          "90 eller äldre",
          "90 eller äldre",
          "90 eller äldre",
          "90 eller äldre",
          "90 eller äldre",
          "90 eller äldre",
          "90 eller äldre",
          "90 eller äldre",
          "90 eller äldre",
          "90 eller äldre",
          "90 eller äldre",
          "90 eller äldre",
          "90 eller äldre",
          "90 eller äldre",
          "90 eller äldre",
          "90 eller äldre",
          "90 eller äldre",
          "90 eller äldre",
          "90 eller äldre",
          "90 eller äldre",
          "90 eller äldre",
          "90 eller äldre",
          "90 eller äldre",
          "90 eller äldre",
          "90 eller äldre",
          "90 eller äldre",
          "90 eller äldre",
          "90 eller äldre",
          "90 eller äldre",
          "90 eller äldre",
          "90 eller äldre",
          "90 eller äldre",
          "90 eller äldre",
          "90 eller äldre",
          "90 eller äldre",
          "90 eller äldre",
          "90 eller äldre",
          "90 eller äldre",
          "90 eller äldre",
          "90 eller äldre",
          "90 eller äldre",
          "90 eller äldre",
          "90 eller äldre",
          "90 eller äldre",
          "90 eller äldre",
          "90 eller äldre",
          "90 eller äldre",
          "90 eller äldre",
          "90 eller äldre",
          "90 eller äldre",
          "90 eller äldre",
          "90 eller äldre",
          "90 eller äldre",
          "90 eller äldre",
          "90 eller äldre",
          "90 eller äldre",
          "90 eller äldre",
          "90 eller äldre",
          "90 eller äldre",
          "90 eller äldre",
          "90 eller äldre",
          "90 eller äldre",
          "90 eller äldre",
          "90 eller äldre",
          "90 eller äldre",
          "90 eller äldre",
          "90 eller äldre",
          "90 eller äldre",
          "90 eller äldre",
          "90 eller äldre",
          "90 eller äldre",
          "90 eller äldre",
          "90 eller äldre",
          "90 eller äldre",
          "90 eller äldre",
          "90 eller äldre",
          "90 eller äldre",
          "90 eller äldre",
          "90 eller äldre",
          "90 eller äldre",
          "90 eller äldre",
          "90 eller äldre",
          "90 eller äldre",
          "90 eller äldre",
          "90 eller äldre",
          "90 eller äldre",
          "90 eller äldre",
          "90 eller äldre",
          "90 eller äldre",
          "90 eller äldre",
          "90 eller äldre",
          "90 eller äldre",
          "90 eller äldre",
          "90 eller äldre",
          "90 eller äldre",
          "90 eller äldre",
          "90 eller äldre",
          "90 eller äldre",
          "90 eller äldre",
          "90 eller äldre",
          "90 eller äldre",
          "90 eller äldre",
          "90 eller äldre",
          "90 eller äldre",
          "90 eller äldre",
          "90 eller äldre",
          "90 eller äldre",
          "90 eller äldre",
          "90 eller äldre",
          "90 eller äldre",
          "90 eller äldre",
          "90 eller äldre",
          "90 eller äldre",
          "90 eller äldre",
          "90 eller äldre",
          "90 eller äldre",
          "90 eller äldre",
          "90 eller äldre",
          "90 eller äldre",
          "90 eller äldre",
          "90 eller äldre",
          "90 eller äldre",
          "90 eller äldre",
          "90 eller äldre",
          "90 eller äldre",
          "90 eller äldre",
          "90 eller äldre",
          "90 eller äldre",
          "90 eller äldre",
          "90 eller äldre",
          "90 eller äldre",
          "90 eller äldre",
          "90 eller äldre",
          "90 eller äldre",
          "90 eller äldre",
          "90 eller äldre",
          "90 eller äldre",
          "90 eller äldre",
          "90 eller äldre",
          "90 eller äldre",
          "90 eller äldre",
          "90 eller äldre",
          "90 eller äldre",
          "90 eller äldre",
          "90 eller äldre",
          "90 eller äldre",
          "90 eller äldre",
          "90 eller äldre",
          "90 eller äldre",
          "90 eller äldre",
          "90 eller äldre",
          "90 eller äldre",
          "90 eller äldre",
          "90 eller äldre",
          "90 eller äldre",
          "90 eller äldre",
          "90 eller äldre",
          "90 eller äldre",
          "90 eller äldre",
          "90 eller äldre",
          "90 eller äldre",
          "90 eller äldre",
          "90 eller äldre",
          "90 eller äldre",
          "90 eller äldre",
          "90 eller äldre",
          "90 eller äldre",
          "90 eller äldre",
          "90 eller äldre",
          "90 eller äldre",
          "90 eller äldre",
          "90 eller äldre",
          "90 eller äldre",
          "90 eller äldre",
          "90 eller äldre",
          "90 eller äldre",
          "90 eller äldre",
          "90 eller äldre",
          "90 eller äldre",
          "90 eller äldre",
          "90 eller äldre",
          "90 eller äldre",
          "90 eller äldre",
          "90 eller äldre",
          "90 eller äldre",
          "90 eller äldre",
          "90 eller äldre",
          "90 eller äldre",
          "90 eller äldre",
          "90 eller äldre",
          "90 eller äldre",
          "90 eller äldre",
          "90 eller äldre",
          "90 eller äldre",
          "90 eller äldre",
          "90 eller äldre",
          "90 eller äldre",
          "90 eller äldre",
          "90 eller äldre",
          "90 eller äldre",
          "90 eller äldre",
          "90 eller äldre",
          "90 eller äldre",
          "90 eller äldre",
          "90 eller äldre",
          "90 eller äldre",
          "90 eller äldre",
          "90 eller äldre",
          "90 eller äldre",
          "90 eller äldre",
          "90 eller äldre",
          "90 eller äldre",
          "80-89",
          "80-89",
          "80-89",
          "80-89",
          "80-89",
          "80-89",
          "80-89",
          "80-89",
          "80-89",
          "80-89",
          "80-89",
          "80-89",
          "80-89",
          "80-89",
          "80-89",
          "80-89",
          "80-89",
          "80-89",
          "80-89",
          "80-89",
          "80-89",
          "80-89",
          "80-89",
          "80-89",
          "80-89",
          "80-89",
          "80-89",
          "80-89",
          "80-89",
          "80-89",
          "80-89",
          "80-89",
          "80-89",
          "80-89",
          "80-89",
          "80-89",
          "80-89",
          "80-89",
          "80-89",
          "80-89",
          "80-89",
          "80-89",
          "80-89",
          "80-89",
          "80-89",
          "80-89",
          "80-89",
          "80-89",
          "80-89",
          "80-89",
          "80-89",
          "80-89",
          "80-89",
          "80-89",
          "80-89",
          "80-89",
          "80-89",
          "80-89",
          "80-89",
          "80-89",
          "80-89",
          "80-89",
          "80-89",
          "80-89",
          "80-89",
          "80-89",
          "80-89",
          "80-89",
          "80-89",
          "80-89",
          "80-89",
          "80-89",
          "80-89",
          "80-89",
          "80-89",
          "80-89",
          "80-89",
          "80-89",
          "80-89",
          "80-89",
          "80-89",
          "80-89",
          "80-89",
          "80-89",
          "80-89",
          "80-89",
          "80-89",
          "80-89",
          "80-89",
          "80-89",
          "80-89",
          "80-89",
          "80-89",
          "80-89",
          "80-89",
          "80-89",
          "80-89",
          "80-89",
          "80-89",
          "80-89",
          "80-89",
          "80-89",
          "80-89",
          "80-89",
          "80-89",
          "80-89",
          "80-89",
          "80-89",
          "80-89",
          "80-89",
          "80-89",
          "80-89",
          "80-89",
          "80-89",
          "80-89",
          "80-89",
          "80-89",
          "80-89",
          "80-89",
          "80-89",
          "80-89",
          "80-89",
          "80-89",
          "80-89",
          "80-89",
          "80-89",
          "80-89",
          "80-89",
          "80-89",
          "80-89",
          "80-89",
          "80-89",
          "80-89",
          "80-89",
          "80-89",
          "80-89",
          "80-89",
          "80-89",
          "80-89",
          "80-89",
          "80-89",
          "80-89",
          "80-89",
          "80-89",
          "80-89",
          "80-89",
          "80-89",
          "80-89",
          "80-89",
          "80-89",
          "80-89",
          "80-89",
          "80-89",
          "80-89",
          "80-89",
          "80-89",
          "80-89",
          "80-89",
          "80-89",
          "80-89",
          "80-89",
          "80-89",
          "80-89",
          "80-89",
          "80-89",
          "80-89",
          "80-89",
          "80-89",
          "80-89",
          "80-89",
          "80-89",
          "80-89",
          "80-89",
          "80-89",
          "80-89",
          "80-89",
          "80-89",
          "80-89",
          "80-89",
          "80-89",
          "80-89",
          "80-89",
          "80-89",
          "80-89",
          "80-89",
          "80-89",
          "80-89",
          "80-89",
          "80-89",
          "80-89",
          "80-89",
          "80-89",
          "80-89",
          "80-89",
          "80-89",
          "80-89",
          "80-89",
          "80-89",
          "80-89",
          "80-89",
          "80-89",
          "80-89",
          "80-89",
          "80-89",
          "80-89",
          "80-89",
          "80-89",
          "80-89",
          "80-89",
          "80-89",
          "80-89",
          "80-89",
          "80-89",
          "80-89",
          "80-89",
          "80-89",
          "80-89",
          "80-89",
          "80-89",
          "80-89",
          "80-89",
          "80-89",
          "80-89",
          "80-89",
          "80-89",
          "80-89",
          "80-89",
          "80-89",
          "80-89",
          "80-89",
          "80-89",
          "80-89",
          "80-89",
          "80-89",
          "80-89",
          "80-89",
          "80-89",
          "80-89",
          "80-89",
          "80-89",
          "80-89",
          "80-89",
          "80-89",
          "80-89",
          "80-89",
          "80-89",
          "80-89",
          "80-89",
          "80-89",
          "80-89",
          "80-89",
          "80-89",
          "80-89",
          "80-89",
          "80-89",
          "80-89",
          "80-89",
          "80-89",
          "80-89",
          "80-89",
          "80-89",
          "80-89",
          "80-89",
          "80-89",
          "80-89",
          "80-89",
          "80-89",
          "80-89",
          "80-89",
          "80-89",
          "80-89",
          "80-89",
          "80-89",
          "80-89",
          "80-89",
          "80-89",
          "80-89",
          "80-89",
          "80-89",
          "80-89",
          "80-89",
          "80-89",
          "80-89",
          "80-89",
          "80-89",
          "80-89",
          "80-89",
          "80-89",
          "80-89",
          "80-89",
          "70-79",
          "70-79",
          "70-79",
          "70-79",
          "70-79",
          "70-79",
          "70-79",
          "70-79",
          "70-79",
          "70-79",
          "70-79",
          "70-79",
          "70-79",
          "70-79",
          "70-79",
          "70-79",
          "70-79",
          "70-79",
          "70-79",
          "70-79",
          "70-79",
          "70-79",
          "70-79",
          "70-79",
          "70-79",
          "70-79",
          "70-79",
          "70-79",
          "70-79",
          "70-79",
          "70-79",
          "70-79",
          "70-79",
          "70-79",
          "70-79",
          "70-79",
          "70-79",
          "70-79",
          "70-79",
          "70-79",
          "70-79",
          "70-79",
          "70-79",
          "70-79",
          "70-79",
          "70-79",
          "70-79",
          "70-79",
          "70-79",
          "70-79",
          "70-79",
          "70-79",
          "70-79",
          "70-79",
          "70-79",
          "70-79",
          "70-79",
          "70-79",
          "70-79",
          "70-79",
          "70-79",
          "70-79",
          "70-79",
          "70-79",
          "70-79",
          "70-79",
          "70-79",
          "70-79",
          "70-79",
          "70-79",
          "70-79",
          "70-79",
          "70-79",
          "70-79",
          "70-79",
          "70-79",
          "70-79",
          "70-79",
          "70-79",
          "70-79",
          "70-79",
          "70-79",
          "70-79",
          "70-79",
          "70-79",
          "70-79",
          "70-79",
          "70-79",
          "70-79",
          "70-79",
          "70-79",
          "70-79",
          "70-79",
          "70-79",
          "70-79",
          "70-79",
          "70-79",
          "70-79",
          "70-79",
          "70-79",
          "70-79",
          "70-79",
          "70-79",
          "70-79",
          "70-79",
          "70-79",
          "70-79",
          "70-79",
          "70-79",
          "70-79",
          "70-79",
          "70-79",
          "70-79",
          "70-79",
          "70-79",
          "70-79",
          "70-79",
          "70-79",
          "70-79",
          "70-79",
          "70-79",
          "70-79",
          "70-79",
          "70-79",
          "70-79",
          "70-79",
          "70-79",
          "70-79",
          "70-79",
          "70-79",
          "70-79",
          "70-79",
          "70-79",
          "70-79",
          "70-79",
          "70-79",
          "70-79",
          "70-79",
          "70-79",
          "70-79",
          "70-79",
          "70-79",
          "70-79",
          "70-79",
          "70-79",
          "70-79",
          "70-79",
          "70-79",
          "70-79",
          "70-79",
          "70-79",
          "70-79",
          "70-79",
          "70-79",
          "70-79",
          "70-79",
          "70-79",
          "70-79",
          "70-79",
          "70-79",
          "70-79",
          "70-79",
          "70-79",
          "70-79",
          "70-79",
          "70-79",
          "70-79",
          "70-79",
          "70-79",
          "70-79",
          "70-79",
          "70-79",
          "70-79",
          "70-79",
          "70-79",
          "70-79",
          "70-79",
          "70-79",
          "70-79",
          "70-79",
          "70-79",
          "70-79",
          "70-79",
          "70-79",
          "70-79",
          "70-79",
          "70-79",
          "70-79",
          "70-79",
          "70-79",
          "70-79",
          "70-79",
          "70-79",
          "70-79",
          "70-79",
          "70-79",
          "70-79",
          "70-79",
          "70-79",
          "70-79",
          "70-79",
          "70-79",
          "70-79",
          "70-79",
          "70-79",
          "70-79",
          "70-79",
          "70-79",
          "70-79",
          "70-79",
          "70-79",
          "70-79",
          "70-79",
          "70-79",
          "70-79",
          "70-79",
          "70-79",
          "70-79",
          "70-79",
          "70-79",
          "70-79",
          "70-79",
          "70-79",
          "70-79",
          "70-79",
          "70-79",
          "70-79",
          "70-79",
          "70-79",
          "70-79",
          "70-79",
          "70-79",
          "70-79",
          "70-79",
          "70-79",
          "70-79",
          "70-79",
          "70-79",
          "70-79",
          "70-79",
          "70-79",
          "70-79",
          "70-79",
          "70-79",
          "70-79",
          "70-79",
          "70-79",
          "70-79",
          "70-79",
          "70-79",
          "70-79",
          "70-79",
          "70-79",
          "70-79",
          "70-79",
          "70-79",
          "70-79",
          "70-79",
          "70-79",
          "70-79",
          "70-79",
          "70-79",
          "70-79",
          "70-79",
          "70-79",
          "70-79",
          "70-79",
          "70-79",
          "70-79",
          "70-79",
          "70-79",
          "70-79",
          "70-79",
          "70-79",
          "70-79",
          "70-79",
          "70-79",
          "70-79",
          "70-79",
          "70-79",
          "70-79",
          "70-79",
          "70-79",
          "70-79",
          "70-79",
          "70-79",
          "70-79",
          "70-79",
          "70-79",
          "70-79",
          "60-69",
          "60-69",
          "60-69",
          "60-69",
          "60-69",
          "60-69",
          "60-69",
          "60-69",
          "60-69",
          "60-69",
          "60-69",
          "60-69",
          "60-69",
          "60-69",
          "60-69",
          "60-69",
          "60-69",
          "60-69",
          "60-69",
          "60-69",
          "60-69",
          "60-69",
          "60-69",
          "60-69",
          "60-69",
          "60-69",
          "60-69",
          "60-69",
          "60-69",
          "60-69",
          "60-69",
          "60-69",
          "60-69",
          "60-69",
          "60-69",
          "60-69",
          "60-69",
          "60-69",
          "60-69",
          "60-69",
          "60-69",
          "60-69",
          "60-69",
          "60-69",
          "60-69",
          "60-69",
          "60-69",
          "60-69",
          "60-69",
          "60-69",
          "60-69",
          "60-69",
          "60-69",
          "60-69",
          "60-69",
          "60-69",
          "60-69",
          "60-69",
          "60-69",
          "60-69",
          "60-69",
          "60-69",
          "60-69",
          "60-69",
          "60-69",
          "60-69",
          "60-69",
          "60-69",
          "60-69",
          "60-69",
          "60-69",
          "60-69",
          "60-69",
          "60-69",
          "60-69",
          "60-69",
          "60-69",
          "60-69",
          "60-69",
          "60-69",
          "60-69",
          "60-69",
          "60-69",
          "60-69",
          "60-69",
          "60-69",
          "60-69",
          "60-69",
          "60-69",
          "60-69",
          "60-69",
          "60-69",
          "60-69",
          "60-69",
          "60-69",
          "60-69",
          "60-69",
          "60-69",
          "60-69",
          "60-69",
          "60-69",
          "60-69",
          "60-69",
          "60-69",
          "60-69",
          "60-69",
          "60-69",
          "60-69",
          "60-69",
          "60-69",
          "60-69",
          "60-69",
          "60-69",
          "60-69",
          "60-69",
          "60-69",
          "60-69",
          "60-69",
          "60-69",
          "60-69",
          "60-69",
          "60-69",
          "60-69",
          "60-69",
          "60-69",
          "60-69",
          "60-69",
          "60-69",
          "60-69",
          "60-69",
          "60-69",
          "60-69",
          "60-69",
          "60-69",
          "60-69",
          "60-69",
          "60-69",
          "60-69",
          "60-69",
          "60-69",
          "60-69",
          "60-69",
          "60-69",
          "60-69",
          "60-69",
          "60-69",
          "60-69",
          "60-69",
          "60-69",
          "60-69",
          "60-69",
          "60-69",
          "60-69",
          "60-69",
          "60-69",
          "60-69",
          "60-69",
          "60-69",
          "60-69",
          "60-69",
          "60-69",
          "60-69",
          "60-69",
          "60-69",
          "60-69",
          "60-69",
          "60-69",
          "60-69",
          "60-69",
          "60-69",
          "60-69",
          "60-69",
          "60-69",
          "60-69",
          "60-69",
          "60-69",
          "60-69",
          "60-69",
          "60-69",
          "60-69",
          "60-69",
          "60-69",
          "60-69",
          "60-69",
          "60-69",
          "60-69",
          "60-69",
          "60-69",
          "60-69",
          "60-69",
          "60-69",
          "60-69",
          "60-69",
          "60-69",
          "60-69",
          "60-69",
          "60-69",
          "60-69",
          "60-69",
          "60-69",
          "60-69",
          "60-69",
          "60-69",
          "60-69",
          "60-69",
          "60-69",
          "60-69",
          "60-69",
          "60-69",
          "60-69",
          "60-69",
          "60-69",
          "60-69",
          "60-69",
          "60-69",
          "60-69",
          "60-69",
          "60-69",
          "60-69",
          "60-69",
          "60-69",
          "60-69",
          "60-69",
          "60-69",
          "60-69",
          "60-69",
          "60-69",
          "60-69",
          "60-69",
          "60-69",
          "60-69",
          "60-69",
          "60-69",
          "60-69",
          "60-69",
          "60-69",
          "60-69",
          "60-69",
          "60-69",
          "60-69",
          "60-69",
          "60-69",
          "60-69",
          "60-69",
          "60-69",
          "60-69",
          "60-69",
          "60-69",
          "60-69",
          "60-69",
          "60-69",
          "60-69",
          "60-69",
          "60-69",
          "60-69",
          "60-69",
          "60-69",
          "60-69",
          "60-69",
          "60-69",
          "60-69",
          "60-69",
          "60-69",
          "60-69",
          "60-69",
          "60-69",
          "60-69",
          "60-69",
          "60-69",
          "60-69",
          "60-69",
          "60-69",
          "60-69",
          "60-69",
          "60-69",
          "60-69",
          "60-69",
          "60-69",
          "60-69",
          "60-69",
          "60-69",
          "60-69",
          "60-69",
          "60-69",
          "60-69",
          "60-69",
          "60-69",
          "60-69",
          "60-69",
          "60-69",
          "50-59",
          "50-59",
          "50-59",
          "50-59",
          "50-59",
          "50-59",
          "50-59",
          "50-59",
          "50-59",
          "50-59",
          "50-59",
          "50-59",
          "50-59",
          "50-59",
          "50-59",
          "50-59",
          "50-59",
          "50-59",
          "50-59",
          "50-59",
          "50-59",
          "50-59",
          "50-59",
          "50-59",
          "50-59",
          "50-59",
          "50-59",
          "50-59",
          "50-59",
          "50-59",
          "50-59",
          "50-59",
          "50-59",
          "50-59",
          "50-59",
          "50-59",
          "50-59",
          "50-59",
          "50-59",
          "50-59",
          "50-59",
          "50-59",
          "50-59",
          "50-59",
          "50-59",
          "50-59",
          "50-59",
          "50-59",
          "50-59",
          "50-59",
          "50-59",
          "50-59",
          "50-59",
          "50-59",
          "50-59",
          "50-59",
          "50-59",
          "50-59",
          "50-59",
          "50-59",
          "50-59",
          "50-59",
          "50-59",
          "50-59",
          "50-59",
          "50-59",
          "50-59",
          "50-59",
          "50-59",
          "50-59",
          "50-59",
          "50-59",
          "50-59",
          "50-59",
          "50-59",
          "50-59",
          "50-59",
          "50-59",
          "50-59",
          "50-59",
          "50-59",
          "50-59",
          "50-59",
          "50-59",
          "50-59",
          "50-59",
          "50-59",
          "50-59",
          "50-59",
          "50-59",
          "50-59",
          "50-59",
          "50-59",
          "50-59",
          "50-59",
          "50-59",
          "50-59",
          "50-59",
          "50-59",
          "50-59",
          "50-59",
          "50-59",
          "50-59",
          "50-59",
          "50-59",
          "50-59",
          "50-59",
          "50-59",
          "50-59",
          "50-59",
          "50-59",
          "50-59",
          "50-59",
          "50-59",
          "50-59",
          "50-59",
          "50-59",
          "50-59",
          "50-59",
          "50-59",
          "50-59",
          "50-59",
          "50-59",
          "50-59",
          "50-59",
          "50-59",
          "50-59",
          "50-59",
          "50-59",
          "50-59",
          "50-59",
          "50-59",
          "50-59",
          "50-59",
          "50-59",
          "50-59",
          "50-59",
          "50-59",
          "50-59",
          "50-59",
          "50-59",
          "50-59",
          "50-59",
          "50-59",
          "50-59",
          "50-59",
          "50-59",
          "50-59",
          "50-59",
          "50-59",
          "50-59",
          "50-59",
          "50-59",
          "50-59",
          "50-59",
          "50-59",
          "50-59",
          "50-59",
          "50-59",
          "50-59",
          "50-59",
          "50-59",
          "50-59",
          "50-59",
          "50-59",
          "50-59",
          "50-59",
          "50-59",
          "50-59",
          "50-59",
          "50-59",
          "50-59",
          "50-59",
          "50-59",
          "50-59",
          "50-59",
          "50-59",
          "50-59",
          "50-59",
          "50-59",
          "50-59",
          "50-59",
          "50-59",
          "50-59",
          "50-59",
          "50-59",
          "50-59",
          "50-59",
          "50-59",
          "50-59",
          "50-59",
          "50-59",
          "50-59",
          "50-59",
          "50-59",
          "50-59",
          "50-59",
          "50-59",
          "50-59",
          "50-59",
          "50-59",
          "50-59",
          "50-59",
          "50-59",
          "50-59",
          "50-59",
          "50-59",
          "50-59",
          "50-59",
          "50-59",
          "50-59",
          "50-59",
          "50-59",
          "50-59",
          "50-59",
          "50-59",
          "50-59",
          "50-59",
          "50-59",
          "50-59",
          "50-59",
          "50-59",
          "50-59",
          "50-59",
          "50-59",
          "50-59",
          "50-59",
          "50-59",
          "50-59",
          "50-59",
          "50-59",
          "50-59",
          "50-59",
          "50-59",
          "50-59",
          "50-59",
          "50-59",
          "50-59",
          "50-59",
          "50-59",
          "50-59",
          "50-59",
          "50-59",
          "50-59",
          "50-59",
          "50-59",
          "50-59",
          "50-59",
          "50-59",
          "50-59",
          "50-59",
          "50-59",
          "50-59",
          "50-59",
          "50-59",
          "50-59",
          "50-59",
          "50-59",
          "50-59",
          "50-59",
          "50-59",
          "50-59",
          "50-59",
          "50-59",
          "50-59",
          "50-59",
          "50-59",
          "50-59",
          "50-59",
          "50-59",
          "50-59",
          "50-59",
          "50-59",
          "50-59",
          "50-59",
          "50-59",
          "50-59",
          "50-59",
          "50-59",
          "50-59",
          "50-59",
          "50-59",
          "50-59",
          "50-59",
          "50-59",
          "50-59",
          "50-59",
          "50-59",
          "50-59",
          "50-59",
          "40-49",
          "40-49",
          "40-49",
          "40-49",
          "40-49",
          "40-49",
          "40-49",
          "40-49",
          "40-49",
          "40-49",
          "40-49",
          "40-49",
          "40-49",
          "40-49",
          "40-49",
          "40-49",
          "40-49",
          "40-49",
          "40-49",
          "40-49",
          "40-49",
          "40-49",
          "40-49",
          "40-49",
          "40-49",
          "40-49",
          "40-49",
          "40-49",
          "40-49",
          "40-49",
          "40-49",
          "40-49",
          "40-49",
          "40-49",
          "40-49",
          "40-49",
          "40-49",
          "40-49",
          "40-49",
          "40-49",
          "40-49",
          "40-49",
          "40-49",
          "40-49",
          "40-49",
          "40-49",
          "40-49",
          "40-49",
          "40-49",
          "40-49",
          "40-49",
          "40-49",
          "40-49",
          "40-49",
          "40-49",
          "40-49",
          "40-49",
          "40-49",
          "40-49",
          "40-49",
          "40-49",
          "40-49",
          "40-49",
          "40-49",
          "40-49",
          "40-49",
          "40-49",
          "40-49",
          "40-49",
          "40-49",
          "40-49",
          "40-49",
          "40-49",
          "40-49",
          "40-49",
          "40-49",
          "40-49",
          "40-49",
          "40-49",
          "40-49",
          "40-49",
          "40-49",
          "40-49",
          "40-49",
          "40-49",
          "40-49",
          "40-49",
          "40-49",
          "40-49",
          "40-49",
          "40-49",
          "40-49",
          "40-49",
          "40-49",
          "40-49",
          "40-49",
          "40-49",
          "40-49",
          "40-49",
          "40-49",
          "40-49",
          "40-49",
          "40-49",
          "40-49",
          "40-49",
          "40-49",
          "40-49",
          "40-49",
          "40-49",
          "40-49",
          "40-49",
          "40-49",
          "40-49",
          "40-49",
          "40-49",
          "40-49",
          "40-49",
          "40-49",
          "40-49",
          "40-49",
          "40-49",
          "40-49",
          "40-49",
          "40-49",
          "40-49",
          "40-49",
          "40-49",
          "40-49",
          "40-49",
          "40-49",
          "40-49",
          "40-49",
          "40-49",
          "40-49",
          "40-49",
          "40-49",
          "40-49",
          "40-49",
          "40-49",
          "40-49",
          "40-49",
          "40-49",
          "40-49",
          "40-49",
          "40-49",
          "40-49",
          "40-49",
          "40-49",
          "40-49",
          "40-49",
          "40-49",
          "40-49",
          "40-49",
          "40-49",
          "40-49",
          "40-49",
          "40-49",
          "40-49",
          "40-49",
          "40-49",
          "40-49",
          "40-49",
          "40-49",
          "40-49",
          "40-49",
          "40-49",
          "40-49",
          "40-49",
          "40-49",
          "40-49",
          "40-49",
          "40-49",
          "40-49",
          "40-49",
          "40-49",
          "40-49",
          "40-49",
          "40-49",
          "40-49",
          "40-49",
          "40-49",
          "40-49",
          "40-49",
          "40-49",
          "40-49",
          "40-49",
          "40-49",
          "40-49",
          "40-49",
          "40-49",
          "40-49",
          "40-49",
          "40-49",
          "40-49",
          "40-49",
          "40-49",
          "40-49",
          "40-49",
          "40-49",
          "40-49",
          "40-49",
          "40-49",
          "40-49",
          "40-49",
          "40-49",
          "40-49",
          "40-49",
          "40-49",
          "40-49",
          "40-49",
          "40-49",
          "40-49",
          "40-49",
          "40-49",
          "40-49",
          "40-49",
          "40-49",
          "40-49",
          "40-49",
          "40-49",
          "40-49",
          "40-49",
          "40-49",
          "40-49",
          "40-49",
          "40-49",
          "40-49",
          "40-49",
          "40-49",
          "40-49",
          "40-49",
          "40-49",
          "40-49",
          "40-49",
          "40-49",
          "40-49",
          "40-49",
          "40-49",
          "40-49",
          "40-49",
          "40-49",
          "40-49",
          "40-49",
          "40-49",
          "40-49",
          "40-49",
          "40-49",
          "40-49",
          "40-49",
          "40-49",
          "40-49",
          "40-49",
          "40-49",
          "40-49",
          "40-49",
          "40-49",
          "40-49",
          "40-49",
          "40-49",
          "40-49",
          "40-49",
          "40-49",
          "40-49",
          "40-49",
          "40-49",
          "40-49",
          "40-49",
          "40-49",
          "40-49",
          "40-49",
          "40-49",
          "40-49",
          "40-49",
          "40-49",
          "40-49",
          "40-49",
          "40-49",
          "40-49",
          "40-49",
          "40-49",
          "40-49",
          "40-49",
          "40-49",
          "40-49",
          "40-49",
          "40-49",
          "40-49",
          "40-49",
          "40-49",
          "40-49",
          "30-39",
          "30-39",
          "30-39",
          "30-39",
          "30-39",
          "30-39",
          "30-39",
          "30-39",
          "30-39",
          "30-39",
          "30-39",
          "30-39",
          "30-39",
          "30-39",
          "30-39",
          "30-39",
          "30-39",
          "30-39",
          "30-39",
          "30-39",
          "30-39",
          "30-39",
          "30-39",
          "30-39",
          "30-39",
          "30-39",
          "30-39",
          "30-39",
          "30-39",
          "30-39",
          "30-39",
          "30-39",
          "30-39",
          "30-39",
          "30-39",
          "30-39",
          "30-39",
          "30-39",
          "30-39",
          "30-39",
          "30-39",
          "30-39",
          "30-39",
          "30-39",
          "30-39",
          "30-39",
          "30-39",
          "30-39",
          "30-39",
          "30-39",
          "30-39",
          "30-39",
          "30-39",
          "30-39",
          "30-39",
          "30-39",
          "30-39",
          "30-39",
          "30-39",
          "30-39",
          "30-39",
          "30-39",
          "30-39",
          "30-39",
          "30-39",
          "30-39",
          "30-39",
          "30-39",
          "30-39",
          "30-39",
          "30-39",
          "30-39",
          "30-39",
          "30-39",
          "30-39",
          "30-39",
          "30-39",
          "30-39",
          "30-39",
          "30-39",
          "30-39",
          "30-39",
          "30-39",
          "30-39",
          "30-39",
          "30-39",
          "30-39",
          "30-39",
          "30-39",
          "30-39",
          "30-39",
          "30-39",
          "30-39",
          "30-39",
          "30-39",
          "30-39",
          "30-39",
          "30-39",
          "30-39",
          "30-39",
          "30-39",
          "30-39",
          "30-39",
          "30-39",
          "30-39",
          "30-39",
          "30-39",
          "30-39",
          "30-39",
          "30-39",
          "30-39",
          "30-39",
          "30-39",
          "30-39",
          "30-39",
          "30-39",
          "30-39",
          "30-39",
          "30-39",
          "30-39",
          "30-39",
          "30-39",
          "30-39",
          "30-39",
          "30-39",
          "30-39",
          "30-39",
          "30-39",
          "30-39",
          "30-39",
          "30-39",
          "30-39",
          "30-39",
          "30-39",
          "30-39",
          "30-39",
          "30-39",
          "30-39",
          "30-39",
          "30-39",
          "30-39",
          "30-39",
          "30-39",
          "30-39",
          "30-39",
          "30-39",
          "30-39",
          "30-39",
          "30-39",
          "30-39",
          "30-39",
          "30-39",
          "30-39",
          "30-39",
          "30-39",
          "30-39",
          "30-39",
          "30-39",
          "30-39",
          "30-39",
          "30-39",
          "30-39",
          "30-39",
          "30-39",
          "30-39",
          "30-39",
          "30-39",
          "30-39",
          "30-39",
          "30-39",
          "30-39",
          "30-39",
          "30-39",
          "30-39",
          "30-39",
          "30-39",
          "30-39",
          "30-39",
          "30-39",
          "30-39",
          "30-39",
          "30-39",
          "30-39",
          "30-39",
          "30-39",
          "30-39",
          "30-39",
          "30-39",
          "30-39",
          "30-39",
          "30-39",
          "30-39",
          "30-39",
          "30-39",
          "30-39",
          "30-39",
          "30-39",
          "30-39",
          "30-39",
          "30-39",
          "30-39",
          "30-39",
          "30-39",
          "30-39",
          "30-39",
          "30-39",
          "30-39",
          "30-39",
          "30-39",
          "30-39",
          "30-39",
          "30-39",
          "30-39",
          "30-39",
          "30-39",
          "30-39",
          "30-39",
          "30-39",
          "30-39",
          "30-39",
          "30-39",
          "30-39",
          "30-39",
          "30-39",
          "30-39",
          "30-39",
          "30-39",
          "30-39",
          "30-39",
          "30-39",
          "30-39",
          "30-39",
          "30-39",
          "30-39",
          "30-39",
          "30-39",
          "30-39",
          "30-39",
          "30-39",
          "30-39",
          "30-39",
          "30-39",
          "30-39",
          "30-39",
          "30-39",
          "30-39",
          "30-39",
          "30-39",
          "30-39",
          "30-39",
          "30-39",
          "30-39",
          "30-39",
          "30-39",
          "30-39",
          "30-39",
          "30-39",
          "30-39",
          "30-39",
          "30-39",
          "30-39",
          "30-39",
          "30-39",
          "30-39",
          "30-39",
          "30-39",
          "30-39",
          "30-39",
          "30-39",
          "30-39",
          "30-39",
          "30-39",
          "30-39",
          "30-39",
          "30-39",
          "30-39",
          "30-39",
          "30-39",
          "30-39",
          "30-39",
          "30-39",
          "30-39",
          "30-39",
          "30-39",
          "30-39",
          "30-39",
          "30-39",
          "30-39",
          "30-39",
          "30-39",
          "18-29",
          "18-29",
          "18-29",
          "18-29",
          "18-29",
          "18-29",
          "18-29",
          "18-29",
          "18-29",
          "18-29",
          "18-29",
          "18-29",
          "18-29",
          "18-29",
          "18-29",
          "18-29",
          "18-29",
          "18-29",
          "18-29",
          "18-29",
          "18-29",
          "18-29",
          "18-29",
          "18-29",
          "18-29",
          "18-29",
          "18-29",
          "18-29",
          "18-29",
          "18-29",
          "18-29",
          "18-29",
          "18-29",
          "18-29",
          "18-29",
          "18-29",
          "18-29",
          "18-29",
          "18-29",
          "18-29",
          "18-29",
          "18-29",
          "18-29",
          "18-29",
          "18-29",
          "18-29",
          "18-29",
          "18-29",
          "18-29",
          "18-29",
          "18-29",
          "18-29",
          "18-29",
          "18-29",
          "18-29",
          "18-29",
          "18-29",
          "18-29",
          "18-29",
          "18-29",
          "18-29",
          "18-29",
          "18-29",
          "18-29",
          "18-29",
          "18-29",
          "18-29",
          "18-29",
          "18-29",
          "18-29",
          "18-29",
          "18-29",
          "18-29",
          "18-29",
          "18-29",
          "18-29",
          "18-29",
          "18-29",
          "18-29",
          "18-29",
          "18-29",
          "18-29",
          "18-29",
          "18-29",
          "18-29",
          "18-29",
          "18-29",
          "18-29",
          "18-29",
          "18-29",
          "18-29",
          "18-29",
          "18-29",
          "18-29",
          "18-29",
          "18-29",
          "18-29",
          "18-29",
          "18-29",
          "18-29",
          "18-29",
          "18-29",
          "18-29",
          "18-29",
          "18-29",
          "18-29",
          "18-29",
          "18-29",
          "18-29",
          "18-29",
          "18-29",
          "18-29",
          "18-29",
          "18-29",
          "18-29",
          "18-29",
          "18-29",
          "18-29",
          "18-29",
          "18-29",
          "18-29",
          "18-29",
          "18-29",
          "18-29",
          "18-29",
          "18-29",
          "18-29",
          "18-29",
          "18-29",
          "18-29",
          "18-29",
          "18-29",
          "18-29",
          "18-29",
          "18-29",
          "18-29",
          "18-29",
          "18-29",
          "18-29",
          "18-29",
          "18-29",
          "18-29",
          "18-29",
          "18-29",
          "18-29",
          "18-29",
          "18-29",
          "18-29",
          "18-29",
          "18-29",
          "18-29",
          "18-29",
          "18-29",
          "18-29",
          "18-29",
          "18-29",
          "18-29",
          "18-29",
          "18-29",
          "18-29",
          "18-29",
          "18-29",
          "18-29",
          "18-29",
          "18-29",
          "18-29",
          "18-29",
          "18-29",
          "18-29",
          "18-29",
          "18-29",
          "18-29",
          "18-29",
          "18-29",
          "18-29",
          "18-29",
          "18-29",
          "18-29",
          "18-29",
          "18-29",
          "18-29",
          "18-29",
          "18-29",
          "18-29",
          "18-29",
          "18-29",
          "18-29",
          "18-29",
          "18-29",
          "18-29",
          "18-29",
          "18-29",
          "18-29",
          "18-29",
          "18-29",
          "18-29",
          "18-29",
          "18-29",
          "18-29",
          "18-29",
          "18-29",
          "18-29",
          "18-29",
          "18-29",
          "18-29",
          "18-29",
          "18-29",
          "18-29",
          "18-29",
          "18-29",
          "18-29",
          "18-29",
          "18-29",
          "18-29",
          "18-29",
          "18-29",
          "18-29",
          "18-29",
          "18-29",
          "18-29",
          "18-29",
          "18-29",
          "18-29",
          "18-29",
          "18-29",
          "18-29",
          "18-29",
          "18-29",
          "18-29",
          "18-29",
          "18-29",
          "18-29",
          "18-29",
          "18-29",
          "18-29",
          "18-29",
          "18-29",
          "18-29",
          "18-29",
          "18-29",
          "18-29",
          "18-29",
          "18-29",
          "18-29",
          "18-29",
          "18-29",
          "18-29",
          "18-29",
          "18-29",
          "18-29",
          "18-29",
          "18-29",
          "18-29",
          "18-29",
          "18-29",
          "18-29",
          "18-29",
          "18-29",
          "18-29",
          "18-29",
          "18-29",
          "18-29",
          "18-29",
          "18-29",
          "18-29",
          "18-29",
          "18-29",
          "18-29",
          "18-29",
          "18-29",
          "18-29",
          "18-29",
          "18-29",
          "18-29",
          "18-29",
          "18-29",
          "18-29",
          "18-29",
          "18-29",
          "18-29",
          "18-29",
          "18-29",
          "18-29",
          "18-29",
          "18-29",
          "18-29",
          "18-29",
          "18-29",
          "18-29",
          "18-29",
          "16-17",
          "16-17",
          "16-17",
          "16-17",
          "16-17",
          "16-17",
          "16-17",
          "16-17",
          "16-17",
          "16-17",
          "16-17",
          "16-17",
          "16-17",
          "16-17",
          "16-17",
          "16-17",
          "16-17",
          "16-17",
          "16-17",
          "16-17",
          "16-17",
          "16-17",
          "16-17",
          "16-17",
          "16-17",
          "16-17",
          "16-17",
          "16-17",
          "16-17",
          "16-17",
          "16-17",
          "16-17",
          "16-17",
          "16-17",
          "16-17",
          "16-17",
          "16-17",
          "16-17",
          "16-17",
          "16-17",
          "16-17",
          "16-17",
          "16-17",
          "16-17",
          "16-17",
          "16-17",
          "16-17",
          "16-17",
          "16-17",
          "16-17",
          "16-17",
          "16-17",
          "16-17",
          "16-17",
          "16-17",
          "16-17",
          "16-17",
          "16-17",
          "16-17",
          "16-17",
          "16-17",
          "16-17",
          "16-17",
          "16-17",
          "16-17",
          "16-17",
          "16-17",
          "16-17",
          "16-17",
          "16-17",
          "16-17",
          "16-17",
          "16-17",
          "16-17",
          "16-17",
          "16-17",
          "16-17",
          "16-17",
          "16-17",
          "16-17",
          "16-17",
          "16-17",
          "16-17",
          "16-17",
          "16-17",
          "16-17",
          "16-17",
          "16-17",
          "16-17",
          "16-17",
          "16-17",
          "16-17",
          "16-17",
          "16-17",
          "16-17",
          "16-17",
          "16-17",
          "16-17",
          "16-17",
          "16-17",
          "16-17",
          "16-17",
          "16-17",
          "16-17",
          "16-17",
          "16-17",
          "16-17",
          "16-17",
          "16-17",
          "16-17",
          "16-17",
          "16-17",
          "16-17",
          "16-17",
          "16-17",
          "16-17",
          "16-17",
          "16-17",
          "16-17",
          "16-17",
          "16-17",
          "16-17",
          "16-17",
          "16-17",
          "16-17",
          "16-17",
          "16-17",
          "16-17",
          "16-17",
          "16-17",
          "16-17",
          "16-17",
          "16-17",
          "16-17",
          "16-17",
          "16-17",
          "16-17",
          "16-17",
          "16-17",
          "16-17",
          "16-17",
          "16-17",
          "16-17",
          "16-17",
          "16-17",
          "16-17",
          "16-17",
          "16-17",
          "16-17",
          "16-17",
          "16-17",
          "16-17",
          "16-17",
          "16-17",
          "16-17",
          "16-17",
          "16-17",
          "16-17",
          "16-17",
          "16-17",
          "16-17",
          "16-17",
          "16-17",
          "16-17",
          "16-17",
          "16-17",
          "16-17",
          "16-17",
          "16-17",
          "16-17",
          "16-17",
          "16-17",
          "16-17",
          "16-17",
          "16-17",
          "16-17",
          "16-17",
          "16-17",
          "16-17",
          "16-17",
          "16-17",
          "16-17",
          "16-17",
          "16-17",
          "16-17",
          "16-17",
          "16-17",
          "16-17",
          "16-17",
          "16-17",
          "16-17",
          "16-17",
          "16-17",
          "16-17",
          "16-17",
          "16-17",
          "16-17",
          "16-17",
          "16-17",
          "16-17",
          "16-17",
          "16-17",
          "16-17",
          "16-17",
          "16-17",
          "16-17",
          "16-17",
          "16-17",
          "16-17",
          "16-17",
          "16-17",
          "16-17",
          "16-17",
          "16-17",
          "16-17",
          "16-17",
          "16-17",
          "16-17",
          "16-17",
          "16-17",
          "16-17",
          "16-17",
          "16-17",
          "16-17",
          "16-17",
          "16-17",
          "16-17",
          "16-17",
          "16-17",
          "16-17",
          "16-17",
          "16-17",
          "16-17",
          "16-17",
          "16-17",
          "16-17",
          "16-17",
          "16-17",
          "16-17",
          "16-17",
          "16-17",
          "16-17",
          "16-17",
          "16-17",
          "16-17",
          "16-17",
          "16-17",
          "16-17",
          "16-17",
          "16-17",
          "16-17",
          "16-17",
          "16-17",
          "16-17",
          "16-17",
          "16-17",
          "16-17",
          "16-17",
          "16-17",
          "16-17",
          "16-17",
          "16-17",
          "16-17",
          "16-17",
          "16-17",
          "16-17",
          "16-17",
          "16-17",
          "16-17",
          "16-17",
          "16-17",
          "16-17",
          "16-17",
          "16-17",
          "16-17",
          "16-17",
          "16-17",
          "16-17",
          "16-17",
          "16-17",
          "16-17",
          "16-17",
          "16-17",
          "16-17",
          "16-17",
          "16-17",
          "16-17",
          "16-17",
          "16-17",
          "16-17",
          "12-15",
          "12-15",
          "12-15",
          "12-15",
          "12-15",
          "12-15",
          "12-15",
          "12-15",
          "12-15",
          "12-15",
          "12-15",
          "12-15",
          "12-15",
          "12-15",
          "12-15",
          "12-15",
          "12-15",
          "12-15",
          "12-15",
          "12-15",
          "12-15",
          "12-15",
          "12-15",
          "12-15",
          "12-15",
          "12-15",
          "12-15",
          "12-15",
          "12-15",
          "12-15",
          "12-15",
          "12-15",
          "12-15",
          "12-15",
          "12-15",
          "12-15",
          "12-15",
          "12-15",
          "12-15",
          "12-15",
          "12-15",
          "12-15",
          "12-15",
          "12-15",
          "12-15",
          "12-15",
          "12-15",
          "12-15",
          "12-15",
          "12-15",
          "12-15",
          "12-15",
          "12-15",
          "12-15",
          "12-15",
          "12-15",
          "12-15",
          "12-15",
          "12-15",
          "12-15",
          "12-15",
          "12-15",
          "12-15",
          "12-15",
          "12-15",
          "12-15",
          "12-15",
          "12-15",
          "12-15",
          "12-15",
          "12-15",
          "12-15",
          "12-15",
          "12-15",
          "12-15",
          "12-15",
          "12-15",
          "12-15",
          "12-15",
          "12-15",
          "12-15",
          "12-15",
          "12-15",
          "12-15",
          "12-15",
          "12-15",
          "12-15",
          "12-15",
          "12-15",
          "12-15",
          "12-15",
          "12-15",
          "12-15",
          "12-15",
          "12-15",
          "12-15",
          "12-15",
          "12-15",
          "12-15",
          "12-15",
          "12-15",
          "12-15",
          "12-15",
          "12-15",
          "12-15",
          "12-15",
          "12-15",
          "12-15",
          "12-15",
          "12-15",
          "12-15",
          "12-15",
          "12-15",
          "12-15",
          "12-15",
          "12-15",
          "12-15",
          "12-15",
          "12-15",
          "12-15",
          "12-15",
          "12-15",
          "12-15",
          "12-15",
          "12-15",
          "12-15",
          "12-15",
          "12-15",
          "12-15",
          "12-15",
          "12-15",
          "12-15",
          "12-15",
          "12-15",
          "12-15",
          "12-15",
          "12-15",
          "12-15",
          "12-15",
          "12-15",
          "12-15",
          "12-15",
          "12-15",
          "12-15",
          "12-15",
          "12-15",
          "12-15",
          "12-15",
          "12-15",
          "12-15",
          "12-15",
          "12-15",
          "12-15",
          "12-15",
          "12-15",
          "12-15",
          "12-15",
          "12-15",
          "12-15",
          "12-15",
          "12-15",
          "12-15",
          "12-15",
          "12-15",
          "12-15",
          "12-15",
          "12-15",
          "12-15",
          "12-15",
          "12-15",
          "12-15",
          "12-15",
          "12-15",
          "12-15",
          "12-15",
          "12-15",
          "12-15",
          "12-15",
          "12-15",
          "12-15",
          "12-15",
          "12-15",
          "12-15",
          "12-15",
          "12-15",
          "12-15",
          "12-15",
          "12-15",
          "12-15",
          "12-15",
          "12-15",
          "12-15",
          "12-15",
          "12-15",
          "12-15",
          "12-15",
          "12-15",
          "12-15",
          "12-15",
          "12-15",
          "12-15",
          "12-15",
          "12-15",
          "12-15",
          "12-15",
          "12-15",
          "12-15",
          "12-15",
          "12-15",
          "12-15",
          "12-15",
          "12-15",
          "12-15",
          "12-15",
          "12-15",
          "12-15",
          "12-15",
          "12-15",
          "12-15",
          "12-15",
          "12-15",
          "12-15",
          "12-15",
          "12-15",
          "12-15",
          "12-15",
          "12-15",
          "12-15",
          "12-15",
          "12-15",
          "12-15",
          "12-15",
          "12-15",
          "12-15",
          "12-15",
          "12-15",
          "12-15",
          "12-15",
          "12-15",
          "12-15",
          "12-15",
          "12-15",
          "12-15",
          "12-15",
          "12-15",
          "12-15",
          "12-15",
          "12-15",
          "12-15",
          "12-15",
          "12-15",
          "12-15",
          "12-15",
          "12-15",
          "12-15",
          "12-15",
          "12-15",
          "12-15",
          "12-15",
          "12-15",
          "12-15",
          "12-15",
          "12-15",
          "12-15",
          "12-15",
          "12-15",
          "12-15",
          "12-15",
          "12-15",
          "12-15",
          "12-15",
          "12-15",
          "12-15",
          "12-15",
          "12-15",
          "12-15",
          "12-15",
          "12-15",
          "12-15",
          "12-15",
          "12-15",
          "12-15",
          "12-15",
          "12-15",
          "12-15",
          "12-15",
          "12-15",
          "12-15",
          "12-15",
          "12-15"
         ],
         "xaxis": "x",
         "y": [
          337,
          242,
          371,
          312,
          727,
          219,
          737,
          527,
          144,
          531,
          444,
          183,
          53,
          819,
          521,
          641,
          8562,
          776,
          988,
          324,
          794,
          725,
          103,
          900,
          299,
          278,
          136,
          102,
          107,
          176,
          308,
          2160,
          523,
          303,
          104,
          108,
          760,
          182,
          208,
          476,
          1162,
          378,
          132,
          89,
          56,
          148,
          78,
          152,
          290,
          128,
          1769,
          1441,
          164,
          604,
          133,
          345,
          73,
          124,
          91,
          91,
          391,
          153,
          1668,
          433,
          417,
          184,
          432,
          288,
          306,
          158,
          119,
          243,
          317,
          238,
          158,
          1005,
          428,
          69,
          101,
          160,
          223,
          184,
          157,
          842,
          317,
          342,
          618,
          235,
          180,
          795,
          226,
          790,
          459,
          447,
          241,
          129,
          237,
          176,
          391,
          180,
          151,
          119,
          269,
          303,
          190,
          152,
          208,
          191,
          202,
          173,
          128,
          224,
          104,
          221,
          115,
          285,
          3152,
          1156,
          468,
          1582,
          386,
          343,
          464,
          499,
          1133,
          349,
          667,
          796,
          158,
          1271,
          343,
          676,
          890,
          867,
          329,
          414,
          173,
          284,
          211,
          211,
          167,
          156,
          205,
          67,
          96,
          204,
          401,
          126,
          86,
          92,
          85,
          98,
          87,
          177,
          191,
          161,
          133,
          445,
          118,
          118,
          194,
          153,
          164,
          128,
          5160,
          629,
          582,
          256,
          745,
          175,
          471,
          650,
          511,
          1311,
          370,
          239,
          359,
          527,
          230,
          650,
          118,
          200,
          471,
          159,
          136,
          180,
          62,
          143,
          74,
          124,
          139,
          137,
          208,
          1132,
          359,
          180,
          196,
          469,
          259,
          82,
          94,
          166,
          140,
          98,
          72,
          1585,
          219,
          153,
          408,
          122,
          342,
          60,
          127,
          107,
          207,
          83,
          1772,
          306,
          191,
          369,
          201,
          90,
          148,
          112,
          258,
          216,
          116,
          109,
          121,
          268,
          706,
          538,
          139,
          205,
          330,
          413,
          95,
          125,
          181,
          106,
          279,
          1061,
          477,
          355,
          394,
          460,
          128,
          161,
          309,
          1093,
          275,
          308,
          692,
          76,
          91,
          133,
          190,
          92,
          113,
          163,
          696,
          105,
          58,
          98,
          91,
          55,
          42,
          109,
          43,
          61,
          117,
          90,
          54,
          1066,
          145,
          876,
          85,
          57,
          72,
          69,
          237,
          78,
          84,
          245,
          133,
          800,
          433,
          370,
          108,
          219,
          1934,
          1412,
          2065,
          1671,
          3392,
          1239,
          3487,
          2909,
          857,
          3315,
          2198,
          986,
          477,
          3775,
          1823,
          2926,
          31155,
          3932,
          4088,
          1301,
          2828,
          2506,
          536,
          4063,
          1879,
          1530,
          898,
          557,
          516,
          845,
          1219,
          8801,
          2279,
          1402,
          524,
          581,
          3447,
          844,
          1093,
          1868,
          5054,
          1926,
          759,
          325,
          261,
          666,
          319,
          770,
          1306,
          534,
          7320,
          6516,
          830,
          2450,
          629,
          1488,
          367,
          413,
          359,
          527,
          1516,
          685,
          6749,
          1565,
          1859,
          655,
          1648,
          1058,
          1233,
          550,
          450,
          865,
          1024,
          840,
          632,
          4335,
          1701,
          354,
          449,
          956,
          936,
          864,
          659,
          3390,
          1358,
          1720,
          2624,
          1000,
          985,
          3789,
          968,
          3628,
          1859,
          2115,
          1149,
          553,
          1371,
          817,
          2231,
          785,
          560,
          630,
          1417,
          1531,
          921,
          708,
          1023,
          810,
          812,
          837,
          766,
          874,
          383,
          899,
          667,
          1188,
          12135,
          5067,
          2178,
          6557,
          1830,
          1540,
          2029,
          2427,
          4620,
          1563,
          2532,
          3098,
          574,
          5342,
          1511,
          2764,
          3621,
          4367,
          1473,
          1581,
          784,
          1420,
          1001,
          1084,
          632,
          635,
          813,
          340,
          369,
          1350,
          1980,
          561,
          457,
          337,
          330,
          487,
          365,
          658,
          652,
          581,
          612,
          1856,
          611,
          538,
          929,
          779,
          729,
          518,
          19954,
          2606,
          2487,
          1019,
          3066,
          700,
          2315,
          2758,
          2243,
          5421,
          1396,
          858,
          1677,
          2369,
          1015,
          2732,
          592,
          799,
          1881,
          711,
          482,
          811,
          225,
          773,
          290,
          686,
          557,
          595,
          818,
          4763,
          1519,
          685,
          879,
          1650,
          1085,
          434,
          381,
          826,
          628,
          521,
          358,
          6599,
          1063,
          764,
          1968,
          726,
          1349,
          287,
          590,
          477,
          1031,
          342,
          7545,
          1318,
          823,
          1549,
          935,
          464,
          667,
          596,
          1090,
          889,
          460,
          515,
          697,
          1367,
          3160,
          2572,
          663,
          932,
          1417,
          1563,
          310,
          570,
          777,
          547,
          1200,
          5147,
          2362,
          1612,
          1652,
          2178,
          623,
          971,
          1594,
          5389,
          1159,
          1352,
          3293,
          381,
          371,
          681,
          814,
          459,
          487,
          705,
          3260,
          492,
          177,
          350,
          392,
          267,
          196,
          405,
          200,
          183,
          491,
          416,
          206,
          5070,
          753,
          4248,
          459,
          195,
          338,
          291,
          1164,
          351,
          539,
          1155,
          500,
          4078,
          2263,
          1645,
          624,
          1280,
          3987,
          2651,
          4601,
          4324,
          6383,
          2514,
          7642,
          6714,
          1452,
          7213,
          3974,
          2460,
          986,
          6743,
          3021,
          5646,
          73370,
          7532,
          8970,
          3380,
          6272,
          4835,
          1491,
          9059,
          3432,
          3311,
          2135,
          1165,
          1472,
          1684,
          2491,
          19982,
          4790,
          3195,
          1253,
          1448,
          6765,
          1663,
          2366,
          3934,
          10572,
          4448,
          1961,
          794,
          592,
          1297,
          744,
          1495,
          2678,
          1314,
          13586,
          13653,
          1902,
          5036,
          1245,
          2969,
          745,
          1027,
          975,
          1177,
          2894,
          1415,
          12944,
          3313,
          3500,
          1342,
          3175,
          2149,
          2204,
          1109,
          1072,
          1604,
          2187,
          1721,
          1246,
          8768,
          3249,
          736,
          1035,
          2316,
          1806,
          1705,
          1205,
          6922,
          2365,
          3237,
          5305,
          1908,
          2024,
          7900,
          1614,
          7302,
          3495,
          3842,
          2265,
          1311,
          2289,
          1590,
          4348,
          1659,
          1201,
          1503,
          3205,
          2456,
          2028,
          1721,
          2228,
          1768,
          1780,
          1705,
          1570,
          1608,
          768,
          1989,
          1419,
          2410,
          24925,
          10745,
          4819,
          13575,
          3826,
          3088,
          4446,
          4832,
          9093,
          3364,
          5154,
          5809,
          1133,
          10329,
          3390,
          5555,
          8033,
          8404,
          3136,
          3191,
          1718,
          2644,
          2379,
          2381,
          1673,
          1268,
          1931,
          671,
          833,
          2866,
          3701,
          1265,
          1040,
          745,
          769,
          1118,
          839,
          1483,
          1417,
          1286,
          1441,
          3923,
          1395,
          1174,
          1820,
          1750,
          1310,
          1232,
          44288,
          5254,
          4597,
          2165,
          5688,
          1525,
          4357,
          5439,
          4717,
          10403,
          2864,
          1544,
          3121,
          4626,
          2086,
          5288,
          1267,
          1438,
          3397,
          1502,
          1011,
          1638,
          614,
          1643,
          460,
          1373,
          1209,
          1226,
          1609,
          9403,
          3280,
          1452,
          1617,
          3292,
          2021,
          874,
          807,
          1855,
          1394,
          940,
          701,
          14289,
          2218,
          1696,
          3622,
          1511,
          3037,
          686,
          1294,
          1063,
          1895,
          812,
          14704,
          2885,
          1525,
          3059,
          1845,
          912,
          1359,
          1356,
          2381,
          1889,
          926,
          979,
          1628,
          2860,
          6737,
          5164,
          1495,
          2032,
          2873,
          3219,
          938,
          1233,
          1636,
          1359,
          2662,
          10475,
          4596,
          3566,
          3463,
          5026,
          1219,
          2158,
          3383,
          10717,
          2649,
          2591,
          6781,
          724,
          923,
          1722,
          1676,
          1018,
          1004,
          1476,
          6990,
          966,
          325,
          744,
          877,
          560,
          417,
          803,
          322,
          367,
          905,
          825,
          422,
          11298,
          1444,
          8421,
          784,
          359,
          681,
          524,
          2198,
          749,
          1012,
          1997,
          1018,
          7924,
          5181,
          3532,
          1478,
          2194,
          4258,
          3215,
          4511,
          4869,
          7441,
          2937,
          10026,
          8629,
          1333,
          8112,
          4500,
          2705,
          1040,
          6772,
          3131,
          6951,
          96337,
          10052,
          9963,
          4695,
          7206,
          4813,
          1411,
          8770,
          4468,
          3341,
          2075,
          1230,
          1542,
          1929,
          2573,
          21772,
          5205,
          3066,
          1193,
          1372,
          6633,
          1517,
          2195,
          4136,
          11347,
          4360,
          1723,
          647,
          574,
          1340,
          741,
          1413,
          2636,
          1089,
          15429,
          14990,
          1887,
          5328,
          1063,
          3024,
          933,
          1096,
          834,
          1213,
          3440,
          1591,
          13799,
          3603,
          4207,
          1328,
          3265,
          2213,
          2050,
          1089,
          987,
          1685,
          2354,
          1813,
          1180,
          9054,
          3393,
          862,
          989,
          2105,
          1998,
          1765,
          1269,
          7299,
          2443,
          3093,
          5027,
          1974,
          1845,
          8223,
          1656,
          7117,
          3363,
          3837,
          2300,
          1526,
          2151,
          1907,
          3909,
          1648,
          1339,
          1679,
          2837,
          2262,
          2068,
          1870,
          2562,
          1954,
          2020,
          1891,
          1471,
          1561,
          840,
          2032,
          1515,
          2234,
          31777,
          11343,
          5085,
          15654,
          3302,
          3547,
          4226,
          5320,
          9741,
          3128,
          5074,
          5974,
          1293,
          11086,
          3445,
          5626,
          8218,
          8904,
          3706,
          3884,
          1773,
          2845,
          2302,
          2390,
          1471,
          1354,
          1922,
          571,
          910,
          2876,
          3974,
          1362,
          1024,
          769,
          741,
          883,
          843,
          1451,
          1295,
          1259,
          1695,
          4233,
          1401,
          1200,
          2075,
          1811,
          1337,
          1322,
          55765,
          6566,
          5220,
          2139,
          6601,
          1559,
          4639,
          6109,
          4606,
          11541,
          3014,
          1615,
          3104,
          4823,
          2159,
          5909,
          1142,
          1588,
          3866,
          1435,
          1172,
          1671,
          606,
          1808,
          517,
          1243,
          1177,
          1238,
          1906,
          10126,
          3160,
          1378,
          1901,
          3245,
          2027,
          913,
          795,
          1887,
          1284,
          905,
          731,
          15153,
          2169,
          1654,
          3527,
          1344,
          2922,
          663,
          1188,
          1090,
          1859,
          778,
          15701,
          2825,
          1539,
          3127,
          1713,
          893,
          1339,
          1334,
          2191,
          1574,
          942,
          964,
          1590,
          2688,
          6786,
          5643,
          1525,
          2106,
          2934,
          3190,
          873,
          1342,
          1538,
          1295,
          2531,
          11209,
          4651,
          3496,
          3422,
          4881,
          1416,
          2090,
          3007,
          11001,
          2661,
          2740,
          6786,
          741,
          948,
          1781,
          1691,
          1333,
          1024,
          1446,
          6991,
          954,
          301,
          726,
          1009,
          576,
          450,
          870,
          365,
          398,
          967,
          972,
          401,
          12082,
          1555,
          9152,
          860,
          407,
          734,
          560,
          2253,
          737,
          956,
          2392,
          1033,
          8757,
          5169,
          3577,
          1488,
          2781,
          6332,
          4996,
          7185,
          7054,
          10163,
          4356,
          15106,
          12356,
          2415,
          12067,
          7377,
          3808,
          1658,
          10681,
          4877,
          10677,
          121354,
          13613,
          15097,
          6048,
          9066,
          6608,
          1915,
          8638,
          6741,
          4135,
          3362,
          1314,
          2476,
          1842,
          2802,
          26330,
          6312,
          2850,
          1211,
          1511,
          7161,
          1438,
          2108,
          4319,
          13885,
          5210,
          2045,
          713,
          482,
          1328,
          809,
          1594,
          2960,
          1033,
          19500,
          18066,
          1997,
          6011,
          1062,
          3602,
          852,
          1342,
          935,
          1480,
          4171,
          1917,
          17470,
          4039,
          4722,
          1475,
          3665,
          2252,
          2430,
          1273,
          1060,
          1702,
          2392,
          2252,
          1330,
          11160,
          3883,
          739,
          1046,
          2024,
          1902,
          1734,
          1279,
          8809,
          2697,
          3645,
          4864,
          2038,
          1399,
          8114,
          1915,
          8337,
          3858,
          4477,
          2407,
          1956,
          3453,
          2377,
          5739,
          1930,
          1390,
          2195,
          4537,
          3628,
          2893,
          2306,
          2813,
          2085,
          2382,
          1681,
          1760,
          1689,
          989,
          2432,
          2147,
          2105,
          39449,
          13977,
          6006,
          19668,
          3851,
          4658,
          4131,
          6398,
          11149,
          2516,
          5934,
          7038,
          1403,
          13034,
          3437,
          5951,
          8502,
          12680,
          5543,
          5193,
          1916,
          3947,
          2202,
          2121,
          1272,
          1368,
          1709,
          604,
          898,
          4123,
          6040,
          1581,
          1353,
          803,
          775,
          888,
          752,
          1641,
          1278,
          1185,
          1932,
          4786,
          1507,
          1286,
          2183,
          1854,
          1510,
          1204,
          69463,
          9180,
          6593,
          1939,
          7360,
          1679,
          5334,
          7656,
          5141,
          14298,
          3362,
          1705,
          3280,
          5405,
          2654,
          6978,
          1209,
          1763,
          4174,
          1548,
          1185,
          1550,
          603,
          2139,
          508,
          1560,
          1278,
          1402,
          1873,
          11840,
          3320,
          1325,
          1632,
          3424,
          2147,
          1013,
          835,
          2091,
          1356,
          915,
          653,
          18815,
          2862,
          1542,
          4137,
          1387,
          3077,
          602,
          1332,
          1190,
          2158,
          715,
          20524,
          2991,
          1753,
          3418,
          1881,
          953,
          1412,
          1332,
          2076,
          1391,
          1001,
          930,
          1535,
          2633,
          7208,
          6588,
          1416,
          2076,
          2907,
          3275,
          829,
          1331,
          1500,
          1319,
          2491,
          13418,
          5365,
          3499,
          3423,
          4917,
          1304,
          2580,
          3140,
          13410,
          2563,
          2427,
          7198,
          723,
          922,
          2033,
          1427,
          1514,
          905,
          1393,
          7834,
          923,
          280,
          646,
          796,
          525,
          355,
          762,
          339,
          312,
          1120,
          775,
          348,
          14638,
          1481,
          9308,
          751,
          386,
          666,
          386,
          2193,
          530,
          688,
          2295,
          1019,
          10434,
          5586,
          3618,
          1142,
          3079,
          6946,
          5277,
          6737,
          6427,
          11632,
          4419,
          17125,
          13871,
          2364,
          13557,
          6939,
          4375,
          1642,
          10607,
          4391,
          10882,
          135739,
          13588,
          15886,
          7469,
          11278,
          6717,
          1586,
          6877,
          7160,
          3538,
          3075,
          1090,
          3071,
          1494,
          2367,
          28677,
          5440,
          2287,
          938,
          1478,
          6668,
          1322,
          1697,
          3736,
          12851,
          4769,
          1814,
          587,
          388,
          1047,
          558,
          1283,
          2515,
          761,
          19916,
          17702,
          1766,
          5039,
          696,
          3501,
          767,
          1179,
          869,
          1752,
          3470,
          1791,
          17270,
          3505,
          4065,
          1300,
          3010,
          1917,
          2055,
          1083,
          991,
          1336,
          2435,
          2460,
          1146,
          11510,
          3334,
          608,
          729,
          1896,
          1414,
          1417,
          1000,
          8471,
          2109,
          3102,
          3802,
          1646,
          1040,
          6731,
          1345,
          8158,
          3414,
          3543,
          1984,
          1891,
          3957,
          2783,
          5151,
          1676,
          1193,
          2024,
          4788,
          3821,
          3546,
          2093,
          2259,
          1924,
          2215,
          1538,
          1486,
          1471,
          788,
          2095,
          2227,
          1748,
          47997,
          15567,
          5957,
          18944,
          3492,
          4436,
          3542,
          5785,
          10055,
          1747,
          5266,
          5981,
          1195,
          12268,
          2987,
          5247,
          7879,
          11412,
          6078,
          5621,
          1439,
          3540,
          1783,
          1609,
          972,
          1163,
          1359,
          531,
          686,
          4478,
          6359,
          1448,
          1271,
          632,
          623,
          749,
          467,
          1378,
          913,
          923,
          1726,
          4103,
          1144,
          1034,
          1884,
          1469,
          1218,
          987,
          76366,
          9847,
          5901,
          1448,
          6566,
          1680,
          4346,
          7014,
          5154,
          13883,
          2880,
          1281,
          2515,
          4666,
          2053,
          6419,
          1040,
          1340,
          3769,
          1407,
          883,
          1223,
          363,
          2359,
          351,
          1343,
          932,
          1085,
          1419,
          11047,
          2565,
          1013,
          1106,
          2848,
          1509,
          1063,
          551,
          1880,
          1040,
          593,
          481,
          19150,
          2864,
          1192,
          3275,
          1213,
          2607,
          447,
          1146,
          975,
          1805,
          587,
          19137,
          2529,
          1469,
          2817,
          1457,
          676,
          1128,
          1137,
          1714,
          1109,
          641,
          746,
          1144,
          2324,
          7262,
          5927,
          1264,
          1565,
          2468,
          2898,
          583,
          906,
          1190,
          952,
          1980,
          12372,
          4397,
          2601,
          2923,
          4188,
          936,
          2158,
          2752,
          12005,
          1793,
          1913,
          6608,
          514,
          605,
          2044,
          1127,
          1641,
          682,
          1049,
          7629,
          783,
          231,
          629,
          725,
          390,
          307,
          588,
          246,
          228,
          1032,
          638,
          291,
          16097,
          1255,
          8704,
          644,
          270,
          460,
          256,
          1610,
          354,
          475,
          1829,
          869,
          9112,
          4969,
          3117,
          978,
          2385,
          7332,
          4286,
          6157,
          5706,
          13196,
          3125,
          16793,
          13797,
          2214,
          15303,
          6153,
          4817,
          1500,
          8519,
          2995,
          10307,
          178611,
          15288,
          14392,
          11824,
          18716,
          5462,
          1031,
          7887,
          7749,
          3933,
          2884,
          1131,
          2919,
          1820,
          2690,
          37114,
          6529,
          2600,
          909,
          1390,
          7273,
          1452,
          1582,
          4305,
          14378,
          4685,
          1680,
          595,
          346,
          1159,
          636,
          1339,
          2667,
          783,
          23364,
          20382,
          1744,
          5235,
          791,
          3723,
          892,
          1143,
          933,
          1886,
          3594,
          2097,
          20248,
          4150,
          4333,
          1328,
          3291,
          2189,
          2263,
          1095,
          966,
          1310,
          2528,
          2477,
          1223,
          13427,
          3518,
          573,
          709,
          1712,
          1523,
          1546,
          976,
          10033,
          2546,
          3235,
          3964,
          1890,
          949,
          6977,
          1538,
          8393,
          3326,
          3818,
          1969,
          2032,
          3408,
          2840,
          3747,
          1827,
          1261,
          2052,
          4049,
          2143,
          3233,
          2133,
          2473,
          2028,
          2134,
          1631,
          1509,
          1559,
          1006,
          2233,
          2201,
          1554,
          63772,
          16929,
          6324,
          21240,
          2837,
          4708,
          3438,
          5930,
          11083,
          1732,
          5417,
          6613,
          1248,
          14475,
          3127,
          5757,
          8476,
          9458,
          4844,
          5558,
          1168,
          3491,
          1755,
          1471,
          853,
          1335,
          1406,
          545,
          751,
          4591,
          5371,
          1647,
          1231,
          659,
          663,
          786,
          476,
          1421,
          956,
          1054,
          2122,
          4320,
          1302,
          1112,
          1917,
          1488,
          1433,
          1020,
          104015,
          10898,
          6640,
          1444,
          7416,
          1775,
          4953,
          8009,
          5448,
          16024,
          3055,
          1294,
          3066,
          4928,
          2381,
          8362,
          1080,
          1602,
          4282,
          1536,
          1112,
          1221,
          394,
          2220,
          427,
          1499,
          1115,
          1191,
          1476,
          13008,
          2740,
          1114,
          1228,
          3016,
          1644,
          1347,
          579,
          2129,
          950,
          724,
          425,
          21701,
          3053,
          1199,
          3690,
          1233,
          2770,
          450,
          1238,
          1012,
          2136,
          651,
          22451,
          2806,
          1639,
          3203,
          1663,
          773,
          1179,
          1302,
          1742,
          1105,
          842,
          774,
          1190,
          2433,
          7906,
          7033,
          1426,
          1823,
          2787,
          3423,
          630,
          1103,
          1323,
          1052,
          2140,
          13928,
          4875,
          2755,
          3093,
          4419,
          965,
          2090,
          3009,
          12763,
          1861,
          2057,
          6769,
          593,
          625,
          1853,
          1254,
          1938,
          828,
          1160,
          8878,
          741,
          278,
          622,
          855,
          443,
          301,
          576,
          257,
          250,
          1244,
          737,
          270,
          20192,
          1575,
          9414,
          771,
          304,
          554,
          353,
          1692,
          342,
          542,
          2423,
          963,
          10549,
          5310,
          3464,
          876,
          3202,
          6692,
          4210,
          5995,
          5484,
          12501,
          2938,
          16400,
          14525,
          2174,
          14345,
          6300,
          4538,
          1380,
          9661,
          4366,
          10199,
          148698,
          15392,
          13490,
          8491,
          14281,
          5878,
          1305,
          7520,
          7284,
          3668,
          2830,
          1099,
          2532,
          1739,
          2631,
          46902,
          6269,
          2489,
          1144,
          1206,
          7260,
          1343,
          1849,
          4657,
          15448,
          4301,
          1586,
          576,
          337,
          1103,
          608,
          1284,
          2586,
          720,
          31146,
          21769,
          1424,
          5368,
          721,
          3746,
          766,
          1218,
          852,
          1337,
          3784,
          1806,
          24184,
          4217,
          4552,
          1532,
          3449,
          2243,
          2561,
          1145,
          975,
          1353,
          2465,
          2052,
          1300,
          16358,
          3471,
          585,
          759,
          1377,
          1550,
          1503,
          1076,
          11432,
          2393,
          3489,
          4056,
          1950,
          909,
          7395,
          1641,
          9694,
          3363,
          4062,
          2065,
          1748,
          2804,
          2681,
          3531,
          1791,
          1300,
          2113,
          3448,
          2257,
          2329,
          2006,
          2162,
          1818,
          1800,
          1605,
          1423,
          1572,
          929,
          2372,
          2099,
          1565,
          57279,
          28119,
          6031,
          21984,
          2796,
          4628,
          3632,
          5668,
          11988,
          1884,
          5152,
          6747,
          1234,
          15531,
          3004,
          5833,
          8107,
          9900,
          4446,
          4767,
          1422,
          3442,
          1574,
          1561,
          883,
          1248,
          1356,
          527,
          750,
          4060,
          4622,
          1520,
          1038,
          635,
          597,
          795,
          508,
          1371,
          1049,
          1092,
          1754,
          4314,
          1192,
          1204,
          2013,
          1416,
          1383,
          1097,
          102778,
          9991,
          6187,
          1444,
          7765,
          1560,
          5131,
          9178,
          5133,
          17454,
          3051,
          1447,
          3084,
          5310,
          2517,
          9311,
          1032,
          1600,
          4373,
          1269,
          942,
          1245,
          414,
          1463,
          405,
          1272,
          1011,
          1224,
          1625,
          16388,
          2838,
          1313,
          1190,
          3090,
          1802,
          851,
          576,
          1944,
          1080,
          815,
          457,
          27125,
          2774,
          1277,
          4058,
          1109,
          2869,
          465,
          1089,
          1032,
          2105,
          627,
          23221,
          2734,
          1574,
          3379,
          1793,
          823,
          1224,
          1054,
          1704,
          1220,
          858,
          790,
          1066,
          2370,
          7726,
          7686,
          1140,
          1772,
          2698,
          3114,
          597,
          1176,
          1310,
          1029,
          2103,
          15177,
          4848,
          2858,
          3174,
          4565,
          1032,
          2253,
          2991,
          13519,
          2002,
          1986,
          6533,
          506,
          645,
          1483,
          1245,
          1663,
          759,
          1169,
          9348,
          833,
          289,
          580,
          689,
          407,
          386,
          625,
          251,
          223,
          1133,
          850,
          327,
          24573,
          1535,
          9620,
          702,
          284,
          536,
          315,
          1762,
          423,
          659,
          2038,
          1022,
          12599,
          5510,
          3802,
          990,
          3167,
          1203,
          1014,
          1376,
          1338,
          2110,
          912,
          3137,
          2484,
          565,
          2349,
          1453,
          772,
          358,
          2138,
          1195,
          2227,
          19501,
          2539,
          3014,
          928,
          1212,
          1399,
          386,
          1298,
          1280,
          640,
          649,
          223,
          595,
          275,
          461,
          5149,
          1139,
          485,
          226,
          255,
          1440,
          266,
          374,
          810,
          2729,
          1061,
          330,
          125,
          81,
          236,
          110,
          265,
          480,
          162,
          3776,
          3458,
          335,
          1017,
          138,
          711,
          151,
          263,
          207,
          376,
          767,
          349,
          3271,
          795,
          826,
          299,
          627,
          416,
          467,
          208,
          229,
          281,
          522,
          424,
          221,
          2307,
          672,
          132,
          167,
          371,
          301,
          300,
          211,
          1526,
          441,
          662,
          750,
          327,
          196,
          1290,
          294,
          1664,
          732,
          729,
          411,
          348,
          727,
          466,
          1074,
          369,
          245,
          404,
          997,
          791,
          608,
          400,
          390,
          366,
          400,
          301,
          337,
          310,
          205,
          412,
          493,
          315,
          7182,
          2819,
          1024,
          3523,
          728,
          894,
          680,
          1113,
          2130,
          355,
          1020,
          1215,
          300,
          2398,
          613,
          1028,
          1522,
          2550,
          1123,
          991,
          354,
          787,
          368,
          322,
          137,
          253,
          256,
          114,
          150,
          863,
          1312,
          314,
          260,
          126,
          105,
          151,
          93,
          284,
          195,
          168,
          291,
          858,
          230,
          199,
          348,
          292,
          262,
          205,
          11922,
          1703,
          1163,
          289,
          1297,
          271,
          963,
          1467,
          1071,
          2694,
          569,
          281,
          525,
          929,
          460,
          1223,
          184,
          272,
          852,
          314,
          154,
          217,
          96,
          444,
          71,
          267,
          184,
          207,
          270,
          2014,
          515,
          214,
          221,
          542,
          370,
          187,
          108,
          391,
          201,
          143,
          88,
          3542,
          524,
          272,
          687,
          254,
          505,
          102,
          249,
          198,
          387,
          127,
          3747,
          481,
          331,
          615,
          299,
          144,
          215,
          236,
          334,
          225,
          143,
          160,
          237,
          496,
          1427,
          1305,
          241,
          330,
          490,
          561,
          112,
          211,
          264,
          206,
          446,
          2351,
          945,
          550,
          613,
          898,
          200,
          422,
          561,
          2436,
          367,
          394,
          1272,
          97,
          142,
          450,
          220,
          263,
          166,
          188,
          1447,
          163,
          52,
          101,
          156,
          87,
          60,
          103,
          40,
          53,
          221,
          148,
          58,
          2765,
          286,
          1678,
          108,
          50,
          78,
          55,
          340,
          77,
          118,
          335,
          160,
          1716,
          942,
          573,
          225,
          519,
          2422,
          2109,
          2655,
          2556,
          4286,
          1994,
          6542,
          5286,
          1094,
          4975,
          2937,
          1679,
          719,
          4403,
          2192,
          4536,
          42332,
          5092,
          6322,
          2146,
          2834,
          2790,
          716,
          2669,
          2756,
          1401,
          1290,
          492,
          1254,
          676,
          988,
          10934,
          2328,
          935,
          391,
          607,
          2826,
          548,
          745,
          1660,
          5464,
          2020,
          743,
          217,
          152,
          458,
          228,
          479,
          971,
          304,
          7805,
          7268,
          739,
          2134,
          266,
          1373,
          326,
          454,
          395,
          797,
          1565,
          788,
          6979,
          1512,
          1717,
          634,
          1407,
          814,
          888,
          454,
          493,
          527,
          1078,
          989,
          501,
          4689,
          1324,
          267,
          309,
          792,
          685,
          570,
          432,
          3347,
          956,
          1231,
          1612,
          682,
          395,
          2710,
          564,
          3218,
          1483,
          1484,
          768,
          747,
          1667,
          1029,
          2108,
          796,
          501,
          857,
          1943,
          1701,
          1423,
          810,
          882,
          729,
          902,
          662,
          666,
          644,
          431,
          818,
          960,
          674,
          15977,
          6035,
          2293,
          7307,
          1442,
          1868,
          1397,
          2236,
          4323,
          740,
          2145,
          2470,
          551,
          5034,
          1199,
          2194,
          3206,
          5123,
          2641,
          2305,
          680,
          1500,
          762,
          636,
          326,
          471,
          566,
          215,
          306,
          1765,
          2711,
          626,
          536,
          271,
          296,
          277,
          198,
          574,
          399,
          431,
          667,
          1871,
          529,
          428,
          760,
          668,
          525,
          415,
          25395,
          3679,
          2500,
          617,
          2844,
          621,
          1966,
          2958,
          2172,
          5623,
          1193,
          605,
          1037,
          1962,
          877,
          2553,
          420,
          560,
          1633,
          540,
          346,
          428,
          162,
          1012,
          169,
          588,
          402,
          459,
          572,
          4153,
          1045,
          454,
          444,
          1100,
          675,
          491,
          254,
          815,
          398,
          299,
          163,
          7733,
          1263,
          475,
          1422,
          538,
          1138,
          172,
          501,
          455,
          824,
          262,
          7520,
          1116,
          662,
          1220,
          590,
          331,
          434,
          542,
          705,
          445,
          285,
          321,
          489,
          935,
          2902,
          2647,
          507,
          748,
          1028,
          1163,
          241,
          426,
          514,
          449,
          850,
          4877,
          1742,
          1124,
          1200,
          1778,
          378,
          829,
          1228,
          4820,
          738,
          809,
          2700,
          235,
          245,
          961,
          449,
          621,
          309,
          364,
          3052,
          308,
          99,
          282,
          325,
          194,
          143,
          266,
          94,
          110,
          442,
          294,
          109,
          5852,
          591,
          3366,
          249,
          96,
          161,
          98,
          638,
          159,
          221,
          664,
          328,
          3427,
          1838,
          1156,
          452,
          954
         ],
         "yaxis": "y"
        }
       ],
       "layout": {
        "barmode": "relative",
        "legend": {
         "tracegroupgap": 0
        },
        "template": {
         "data": {
          "bar": [
           {
            "error_x": {
             "color": "#2a3f5f"
            },
            "error_y": {
             "color": "#2a3f5f"
            },
            "marker": {
             "line": {
              "color": "#E5ECF6",
              "width": 0.5
             },
             "pattern": {
              "fillmode": "overlay",
              "size": 10,
              "solidity": 0.2
             }
            },
            "type": "bar"
           }
          ],
          "barpolar": [
           {
            "marker": {
             "line": {
              "color": "#E5ECF6",
              "width": 0.5
             },
             "pattern": {
              "fillmode": "overlay",
              "size": 10,
              "solidity": 0.2
             }
            },
            "type": "barpolar"
           }
          ],
          "carpet": [
           {
            "aaxis": {
             "endlinecolor": "#2a3f5f",
             "gridcolor": "white",
             "linecolor": "white",
             "minorgridcolor": "white",
             "startlinecolor": "#2a3f5f"
            },
            "baxis": {
             "endlinecolor": "#2a3f5f",
             "gridcolor": "white",
             "linecolor": "white",
             "minorgridcolor": "white",
             "startlinecolor": "#2a3f5f"
            },
            "type": "carpet"
           }
          ],
          "choropleth": [
           {
            "colorbar": {
             "outlinewidth": 0,
             "ticks": ""
            },
            "type": "choropleth"
           }
          ],
          "contour": [
           {
            "colorbar": {
             "outlinewidth": 0,
             "ticks": ""
            },
            "colorscale": [
             [
              0,
              "#0d0887"
             ],
             [
              0.1111111111111111,
              "#46039f"
             ],
             [
              0.2222222222222222,
              "#7201a8"
             ],
             [
              0.3333333333333333,
              "#9c179e"
             ],
             [
              0.4444444444444444,
              "#bd3786"
             ],
             [
              0.5555555555555556,
              "#d8576b"
             ],
             [
              0.6666666666666666,
              "#ed7953"
             ],
             [
              0.7777777777777778,
              "#fb9f3a"
             ],
             [
              0.8888888888888888,
              "#fdca26"
             ],
             [
              1,
              "#f0f921"
             ]
            ],
            "type": "contour"
           }
          ],
          "contourcarpet": [
           {
            "colorbar": {
             "outlinewidth": 0,
             "ticks": ""
            },
            "type": "contourcarpet"
           }
          ],
          "heatmap": [
           {
            "colorbar": {
             "outlinewidth": 0,
             "ticks": ""
            },
            "colorscale": [
             [
              0,
              "#0d0887"
             ],
             [
              0.1111111111111111,
              "#46039f"
             ],
             [
              0.2222222222222222,
              "#7201a8"
             ],
             [
              0.3333333333333333,
              "#9c179e"
             ],
             [
              0.4444444444444444,
              "#bd3786"
             ],
             [
              0.5555555555555556,
              "#d8576b"
             ],
             [
              0.6666666666666666,
              "#ed7953"
             ],
             [
              0.7777777777777778,
              "#fb9f3a"
             ],
             [
              0.8888888888888888,
              "#fdca26"
             ],
             [
              1,
              "#f0f921"
             ]
            ],
            "type": "heatmap"
           }
          ],
          "heatmapgl": [
           {
            "colorbar": {
             "outlinewidth": 0,
             "ticks": ""
            },
            "colorscale": [
             [
              0,
              "#0d0887"
             ],
             [
              0.1111111111111111,
              "#46039f"
             ],
             [
              0.2222222222222222,
              "#7201a8"
             ],
             [
              0.3333333333333333,
              "#9c179e"
             ],
             [
              0.4444444444444444,
              "#bd3786"
             ],
             [
              0.5555555555555556,
              "#d8576b"
             ],
             [
              0.6666666666666666,
              "#ed7953"
             ],
             [
              0.7777777777777778,
              "#fb9f3a"
             ],
             [
              0.8888888888888888,
              "#fdca26"
             ],
             [
              1,
              "#f0f921"
             ]
            ],
            "type": "heatmapgl"
           }
          ],
          "histogram": [
           {
            "marker": {
             "pattern": {
              "fillmode": "overlay",
              "size": 10,
              "solidity": 0.2
             }
            },
            "type": "histogram"
           }
          ],
          "histogram2d": [
           {
            "colorbar": {
             "outlinewidth": 0,
             "ticks": ""
            },
            "colorscale": [
             [
              0,
              "#0d0887"
             ],
             [
              0.1111111111111111,
              "#46039f"
             ],
             [
              0.2222222222222222,
              "#7201a8"
             ],
             [
              0.3333333333333333,
              "#9c179e"
             ],
             [
              0.4444444444444444,
              "#bd3786"
             ],
             [
              0.5555555555555556,
              "#d8576b"
             ],
             [
              0.6666666666666666,
              "#ed7953"
             ],
             [
              0.7777777777777778,
              "#fb9f3a"
             ],
             [
              0.8888888888888888,
              "#fdca26"
             ],
             [
              1,
              "#f0f921"
             ]
            ],
            "type": "histogram2d"
           }
          ],
          "histogram2dcontour": [
           {
            "colorbar": {
             "outlinewidth": 0,
             "ticks": ""
            },
            "colorscale": [
             [
              0,
              "#0d0887"
             ],
             [
              0.1111111111111111,
              "#46039f"
             ],
             [
              0.2222222222222222,
              "#7201a8"
             ],
             [
              0.3333333333333333,
              "#9c179e"
             ],
             [
              0.4444444444444444,
              "#bd3786"
             ],
             [
              0.5555555555555556,
              "#d8576b"
             ],
             [
              0.6666666666666666,
              "#ed7953"
             ],
             [
              0.7777777777777778,
              "#fb9f3a"
             ],
             [
              0.8888888888888888,
              "#fdca26"
             ],
             [
              1,
              "#f0f921"
             ]
            ],
            "type": "histogram2dcontour"
           }
          ],
          "mesh3d": [
           {
            "colorbar": {
             "outlinewidth": 0,
             "ticks": ""
            },
            "type": "mesh3d"
           }
          ],
          "parcoords": [
           {
            "line": {
             "colorbar": {
              "outlinewidth": 0,
              "ticks": ""
             }
            },
            "type": "parcoords"
           }
          ],
          "pie": [
           {
            "automargin": true,
            "type": "pie"
           }
          ],
          "scatter": [
           {
            "fillpattern": {
             "fillmode": "overlay",
             "size": 10,
             "solidity": 0.2
            },
            "type": "scatter"
           }
          ],
          "scatter3d": [
           {
            "line": {
             "colorbar": {
              "outlinewidth": 0,
              "ticks": ""
             }
            },
            "marker": {
             "colorbar": {
              "outlinewidth": 0,
              "ticks": ""
             }
            },
            "type": "scatter3d"
           }
          ],
          "scattercarpet": [
           {
            "marker": {
             "colorbar": {
              "outlinewidth": 0,
              "ticks": ""
             }
            },
            "type": "scattercarpet"
           }
          ],
          "scattergeo": [
           {
            "marker": {
             "colorbar": {
              "outlinewidth": 0,
              "ticks": ""
             }
            },
            "type": "scattergeo"
           }
          ],
          "scattergl": [
           {
            "marker": {
             "colorbar": {
              "outlinewidth": 0,
              "ticks": ""
             }
            },
            "type": "scattergl"
           }
          ],
          "scattermapbox": [
           {
            "marker": {
             "colorbar": {
              "outlinewidth": 0,
              "ticks": ""
             }
            },
            "type": "scattermapbox"
           }
          ],
          "scatterpolar": [
           {
            "marker": {
             "colorbar": {
              "outlinewidth": 0,
              "ticks": ""
             }
            },
            "type": "scatterpolar"
           }
          ],
          "scatterpolargl": [
           {
            "marker": {
             "colorbar": {
              "outlinewidth": 0,
              "ticks": ""
             }
            },
            "type": "scatterpolargl"
           }
          ],
          "scatterternary": [
           {
            "marker": {
             "colorbar": {
              "outlinewidth": 0,
              "ticks": ""
             }
            },
            "type": "scatterternary"
           }
          ],
          "surface": [
           {
            "colorbar": {
             "outlinewidth": 0,
             "ticks": ""
            },
            "colorscale": [
             [
              0,
              "#0d0887"
             ],
             [
              0.1111111111111111,
              "#46039f"
             ],
             [
              0.2222222222222222,
              "#7201a8"
             ],
             [
              0.3333333333333333,
              "#9c179e"
             ],
             [
              0.4444444444444444,
              "#bd3786"
             ],
             [
              0.5555555555555556,
              "#d8576b"
             ],
             [
              0.6666666666666666,
              "#ed7953"
             ],
             [
              0.7777777777777778,
              "#fb9f3a"
             ],
             [
              0.8888888888888888,
              "#fdca26"
             ],
             [
              1,
              "#f0f921"
             ]
            ],
            "type": "surface"
           }
          ],
          "table": [
           {
            "cells": {
             "fill": {
              "color": "#EBF0F8"
             },
             "line": {
              "color": "white"
             }
            },
            "header": {
             "fill": {
              "color": "#C8D4E3"
             },
             "line": {
              "color": "white"
             }
            },
            "type": "table"
           }
          ]
         },
         "layout": {
          "annotationdefaults": {
           "arrowcolor": "#2a3f5f",
           "arrowhead": 0,
           "arrowwidth": 1
          },
          "autotypenumbers": "strict",
          "coloraxis": {
           "colorbar": {
            "outlinewidth": 0,
            "ticks": ""
           }
          },
          "colorscale": {
           "diverging": [
            [
             0,
             "#8e0152"
            ],
            [
             0.1,
             "#c51b7d"
            ],
            [
             0.2,
             "#de77ae"
            ],
            [
             0.3,
             "#f1b6da"
            ],
            [
             0.4,
             "#fde0ef"
            ],
            [
             0.5,
             "#f7f7f7"
            ],
            [
             0.6,
             "#e6f5d0"
            ],
            [
             0.7,
             "#b8e186"
            ],
            [
             0.8,
             "#7fbc41"
            ],
            [
             0.9,
             "#4d9221"
            ],
            [
             1,
             "#276419"
            ]
           ],
           "sequential": [
            [
             0,
             "#0d0887"
            ],
            [
             0.1111111111111111,
             "#46039f"
            ],
            [
             0.2222222222222222,
             "#7201a8"
            ],
            [
             0.3333333333333333,
             "#9c179e"
            ],
            [
             0.4444444444444444,
             "#bd3786"
            ],
            [
             0.5555555555555556,
             "#d8576b"
            ],
            [
             0.6666666666666666,
             "#ed7953"
            ],
            [
             0.7777777777777778,
             "#fb9f3a"
            ],
            [
             0.8888888888888888,
             "#fdca26"
            ],
            [
             1,
             "#f0f921"
            ]
           ],
           "sequentialminus": [
            [
             0,
             "#0d0887"
            ],
            [
             0.1111111111111111,
             "#46039f"
            ],
            [
             0.2222222222222222,
             "#7201a8"
            ],
            [
             0.3333333333333333,
             "#9c179e"
            ],
            [
             0.4444444444444444,
             "#bd3786"
            ],
            [
             0.5555555555555556,
             "#d8576b"
            ],
            [
             0.6666666666666666,
             "#ed7953"
            ],
            [
             0.7777777777777778,
             "#fb9f3a"
            ],
            [
             0.8888888888888888,
             "#fdca26"
            ],
            [
             1,
             "#f0f921"
            ]
           ]
          },
          "colorway": [
           "#636efa",
           "#EF553B",
           "#00cc96",
           "#ab63fa",
           "#FFA15A",
           "#19d3f3",
           "#FF6692",
           "#B6E880",
           "#FF97FF",
           "#FECB52"
          ],
          "font": {
           "color": "#2a3f5f"
          },
          "geo": {
           "bgcolor": "white",
           "lakecolor": "white",
           "landcolor": "#E5ECF6",
           "showlakes": true,
           "showland": true,
           "subunitcolor": "white"
          },
          "hoverlabel": {
           "align": "left"
          },
          "hovermode": "closest",
          "mapbox": {
           "style": "light"
          },
          "paper_bgcolor": "white",
          "plot_bgcolor": "#E5ECF6",
          "polar": {
           "angularaxis": {
            "gridcolor": "white",
            "linecolor": "white",
            "ticks": ""
           },
           "bgcolor": "#E5ECF6",
           "radialaxis": {
            "gridcolor": "white",
            "linecolor": "white",
            "ticks": ""
           }
          },
          "scene": {
           "xaxis": {
            "backgroundcolor": "#E5ECF6",
            "gridcolor": "white",
            "gridwidth": 2,
            "linecolor": "white",
            "showbackground": true,
            "ticks": "",
            "zerolinecolor": "white"
           },
           "yaxis": {
            "backgroundcolor": "#E5ECF6",
            "gridcolor": "white",
            "gridwidth": 2,
            "linecolor": "white",
            "showbackground": true,
            "ticks": "",
            "zerolinecolor": "white"
           },
           "zaxis": {
            "backgroundcolor": "#E5ECF6",
            "gridcolor": "white",
            "gridwidth": 2,
            "linecolor": "white",
            "showbackground": true,
            "ticks": "",
            "zerolinecolor": "white"
           }
          },
          "shapedefaults": {
           "line": {
            "color": "#2a3f5f"
           }
          },
          "ternary": {
           "aaxis": {
            "gridcolor": "white",
            "linecolor": "white",
            "ticks": ""
           },
           "baxis": {
            "gridcolor": "white",
            "linecolor": "white",
            "ticks": ""
           },
           "bgcolor": "#E5ECF6",
           "caxis": {
            "gridcolor": "white",
            "linecolor": "white",
            "ticks": ""
           }
          },
          "title": {
           "x": 0.05
          },
          "xaxis": {
           "automargin": true,
           "gridcolor": "white",
           "linecolor": "white",
           "ticks": "",
           "title": {
            "standoff": 15
           },
           "zerolinecolor": "white",
           "zerolinewidth": 2
          },
          "yaxis": {
           "automargin": true,
           "gridcolor": "white",
           "linecolor": "white",
           "ticks": "",
           "title": {
            "standoff": 15
           },
           "zerolinecolor": "white",
           "zerolinewidth": 2
          }
         }
        },
        "title": {
         "text": "Befolknings fördelning"
        },
        "xaxis": {
         "anchor": "y",
         "domain": [
          0,
          1
         ],
         "title": {
          "text": "Ålder"
         }
        },
        "yaxis": {
         "anchor": "x",
         "domain": [
          0,
          1
         ],
         "title": {
          "text": "sum of Befolkning"
         }
        }
       }
      }
     },
     "metadata": {},
     "output_type": "display_data"
    }
   ],
   "source": [
    "\n",
    "\n",
    "fig = px.histogram(  ## histogram instead of barplot to mash all the data into graph instead of lines\n",
    "    df_vaccin_data,\n",
    "    x='Ålder',\n",
    "    y='Befolkning',\n",
    "    title=\"Befolknings fördelning\",\n",
    ")\n",
    "fig.write_html(\"Visualiseringar/folk_fordelning.html\")\n",
    "fig.show()"
   ]
  },
  {
   "cell_type": "markdown",
   "metadata": {},
   "source": [
    "_____________________\n"
   ]
  },
  {
   "cell_type": "markdown",
   "metadata": {},
   "source": [
    "## F) \n",
    "Rita stapeldiagram för andel med minst 1 dos per län, andel två doser per län och andel tre doser per län"
   ]
  },
  {
   "cell_type": "code",
   "execution_count": 993,
   "metadata": {},
   "outputs": [
    {
     "data": {
      "application/vnd.plotly.v1+json": {
       "config": {
        "plotlyServerURL": "https://plot.ly"
       },
       "data": [
        {
         "alignmentgroup": "True",
         "hovertemplate": "Dos=wide_variable_0<br>Sveriges län=%{x}<br>Befolkning=%{y}<extra></extra>",
         "legendgroup": "wide_variable_0",
         "marker": {
          "color": "#636efa",
          "pattern": {
           "shape": ""
          }
         },
         "name": "Dos 1",
         "offsetgroup": "wide_variable_0",
         "orientation": "v",
         "showlegend": true,
         "textposition": "auto",
         "type": "bar",
         "x": [
          "Stockholms län",
          "Uppsala län",
          "Södermanlands län",
          "Östergötlands län",
          "Jönköpings län",
          "Kronobergs län",
          "Kalmar län",
          "Gotlands län",
          "Blekinge län",
          "Skåne län",
          "Hallands län",
          "Västra Götalands län",
          "Värmlands län",
          "Örebro län",
          "Västmanlands län",
          "Dalarnas län",
          "Gävleborgs län",
          "Västernorrlands län",
          "Jämtlands län",
          "Västerbottens län",
          "Norrbottens län"
         ],
         "xaxis": "x",
         "y": [
          0.8792265677148005,
          0.8783893682435783,
          0.9046992062903345,
          0.8738105433438006,
          0.8764809935636181,
          0.8859425639959098,
          0.8664114319925635,
          0.8808283701554233,
          0.8497917414517131,
          0.9015208970067984,
          0.8293456960924145,
          0.8311989997713299,
          0.8683160292970841,
          0.8953790344650895,
          0.9072424430358337,
          0.9178227408557453,
          0.8912965373722104,
          0.86101883526357,
          0.8550770229084498,
          0.8759191728194969,
          0.8833647796433475
         ],
         "yaxis": "y"
        },
        {
         "alignmentgroup": "True",
         "hovertemplate": "Dos=wide_variable_1<br>Sveriges län=%{x}<br>Befolkning=%{y}<extra></extra>",
         "legendgroup": "wide_variable_1",
         "marker": {
          "color": "#EF553B",
          "pattern": {
           "shape": ""
          }
         },
         "name": "Dos 2",
         "offsetgroup": "wide_variable_1",
         "orientation": "v",
         "showlegend": true,
         "textposition": "auto",
         "type": "bar",
         "x": [
          "Stockholms län",
          "Uppsala län",
          "Södermanlands län",
          "Östergötlands län",
          "Jönköpings län",
          "Kronobergs län",
          "Kalmar län",
          "Gotlands län",
          "Blekinge län",
          "Skåne län",
          "Hallands län",
          "Västra Götalands län",
          "Värmlands län",
          "Örebro län",
          "Västmanlands län",
          "Dalarnas län",
          "Gävleborgs län",
          "Västernorrlands län",
          "Jämtlands län",
          "Västerbottens län",
          "Norrbottens län"
         ],
         "xaxis": "x",
         "y": [
          0.8665011089020793,
          0.864857681245661,
          0.8888435575995846,
          0.8535025533669554,
          0.8635811718070912,
          0.871115617255065,
          0.851620425076019,
          0.8697148498590627,
          0.8347093781872674,
          0.8897361023437891,
          0.8109225404449375,
          0.8010761337667403,
          0.8461100322634902,
          0.875747500567722,
          0.8967557205795887,
          0.9033613796096893,
          0.8762020744971234,
          0.8400197832090014,
          0.8336006391647686,
          0.8623529323488804,
          0.8709428753918553
         ],
         "yaxis": "y"
        },
        {
         "alignmentgroup": "True",
         "hovertemplate": "Dos=wide_variable_2<br>Sveriges län=%{x}<br>Befolkning=%{y}<extra></extra>",
         "legendgroup": "wide_variable_2",
         "marker": {
          "color": "#00cc96",
          "pattern": {
           "shape": ""
          }
         },
         "name": "Dos 3",
         "offsetgroup": "wide_variable_2",
         "orientation": "v",
         "showlegend": true,
         "textposition": "auto",
         "type": "bar",
         "x": [
          "Stockholms län",
          "Uppsala län",
          "Södermanlands län",
          "Östergötlands län",
          "Jönköpings län",
          "Kronobergs län",
          "Kalmar län",
          "Gotlands län",
          "Blekinge län",
          "Skåne län",
          "Hallands län",
          "Västra Götalands län",
          "Värmlands län",
          "Örebro län",
          "Västmanlands län",
          "Dalarnas län",
          "Gävleborgs län",
          "Västernorrlands län",
          "Jämtlands län",
          "Västerbottens län",
          "Norrbottens län"
         ],
         "xaxis": "x",
         "y": [
          0.6621760319248962,
          0.6517742735297034,
          0.693995252577702,
          0.6329336758968503,
          0.6493778389585441,
          0.6354702854468881,
          0.6285957366356288,
          0.6790457781078875,
          0.5911294963618855,
          0.67799127153166,
          0.5639469090496088,
          0.5694619951774007,
          0.6133809385464609,
          0.6572269548559151,
          0.6923653116618474,
          0.6769002186941787,
          0.66306452591255,
          0.6127807773152537,
          0.580925222592158,
          0.6429782700042019,
          0.6590681614064454
         ],
         "yaxis": "y"
        }
       ],
       "layout": {
        "barmode": "relative",
        "legend": {
         "title": {
          "text": "Dos"
         },
         "tracegroupgap": 0
        },
        "template": {
         "data": {
          "bar": [
           {
            "error_x": {
             "color": "#2a3f5f"
            },
            "error_y": {
             "color": "#2a3f5f"
            },
            "marker": {
             "line": {
              "color": "#E5ECF6",
              "width": 0.5
             },
             "pattern": {
              "fillmode": "overlay",
              "size": 10,
              "solidity": 0.2
             }
            },
            "type": "bar"
           }
          ],
          "barpolar": [
           {
            "marker": {
             "line": {
              "color": "#E5ECF6",
              "width": 0.5
             },
             "pattern": {
              "fillmode": "overlay",
              "size": 10,
              "solidity": 0.2
             }
            },
            "type": "barpolar"
           }
          ],
          "carpet": [
           {
            "aaxis": {
             "endlinecolor": "#2a3f5f",
             "gridcolor": "white",
             "linecolor": "white",
             "minorgridcolor": "white",
             "startlinecolor": "#2a3f5f"
            },
            "baxis": {
             "endlinecolor": "#2a3f5f",
             "gridcolor": "white",
             "linecolor": "white",
             "minorgridcolor": "white",
             "startlinecolor": "#2a3f5f"
            },
            "type": "carpet"
           }
          ],
          "choropleth": [
           {
            "colorbar": {
             "outlinewidth": 0,
             "ticks": ""
            },
            "type": "choropleth"
           }
          ],
          "contour": [
           {
            "colorbar": {
             "outlinewidth": 0,
             "ticks": ""
            },
            "colorscale": [
             [
              0,
              "#0d0887"
             ],
             [
              0.1111111111111111,
              "#46039f"
             ],
             [
              0.2222222222222222,
              "#7201a8"
             ],
             [
              0.3333333333333333,
              "#9c179e"
             ],
             [
              0.4444444444444444,
              "#bd3786"
             ],
             [
              0.5555555555555556,
              "#d8576b"
             ],
             [
              0.6666666666666666,
              "#ed7953"
             ],
             [
              0.7777777777777778,
              "#fb9f3a"
             ],
             [
              0.8888888888888888,
              "#fdca26"
             ],
             [
              1,
              "#f0f921"
             ]
            ],
            "type": "contour"
           }
          ],
          "contourcarpet": [
           {
            "colorbar": {
             "outlinewidth": 0,
             "ticks": ""
            },
            "type": "contourcarpet"
           }
          ],
          "heatmap": [
           {
            "colorbar": {
             "outlinewidth": 0,
             "ticks": ""
            },
            "colorscale": [
             [
              0,
              "#0d0887"
             ],
             [
              0.1111111111111111,
              "#46039f"
             ],
             [
              0.2222222222222222,
              "#7201a8"
             ],
             [
              0.3333333333333333,
              "#9c179e"
             ],
             [
              0.4444444444444444,
              "#bd3786"
             ],
             [
              0.5555555555555556,
              "#d8576b"
             ],
             [
              0.6666666666666666,
              "#ed7953"
             ],
             [
              0.7777777777777778,
              "#fb9f3a"
             ],
             [
              0.8888888888888888,
              "#fdca26"
             ],
             [
              1,
              "#f0f921"
             ]
            ],
            "type": "heatmap"
           }
          ],
          "heatmapgl": [
           {
            "colorbar": {
             "outlinewidth": 0,
             "ticks": ""
            },
            "colorscale": [
             [
              0,
              "#0d0887"
             ],
             [
              0.1111111111111111,
              "#46039f"
             ],
             [
              0.2222222222222222,
              "#7201a8"
             ],
             [
              0.3333333333333333,
              "#9c179e"
             ],
             [
              0.4444444444444444,
              "#bd3786"
             ],
             [
              0.5555555555555556,
              "#d8576b"
             ],
             [
              0.6666666666666666,
              "#ed7953"
             ],
             [
              0.7777777777777778,
              "#fb9f3a"
             ],
             [
              0.8888888888888888,
              "#fdca26"
             ],
             [
              1,
              "#f0f921"
             ]
            ],
            "type": "heatmapgl"
           }
          ],
          "histogram": [
           {
            "marker": {
             "pattern": {
              "fillmode": "overlay",
              "size": 10,
              "solidity": 0.2
             }
            },
            "type": "histogram"
           }
          ],
          "histogram2d": [
           {
            "colorbar": {
             "outlinewidth": 0,
             "ticks": ""
            },
            "colorscale": [
             [
              0,
              "#0d0887"
             ],
             [
              0.1111111111111111,
              "#46039f"
             ],
             [
              0.2222222222222222,
              "#7201a8"
             ],
             [
              0.3333333333333333,
              "#9c179e"
             ],
             [
              0.4444444444444444,
              "#bd3786"
             ],
             [
              0.5555555555555556,
              "#d8576b"
             ],
             [
              0.6666666666666666,
              "#ed7953"
             ],
             [
              0.7777777777777778,
              "#fb9f3a"
             ],
             [
              0.8888888888888888,
              "#fdca26"
             ],
             [
              1,
              "#f0f921"
             ]
            ],
            "type": "histogram2d"
           }
          ],
          "histogram2dcontour": [
           {
            "colorbar": {
             "outlinewidth": 0,
             "ticks": ""
            },
            "colorscale": [
             [
              0,
              "#0d0887"
             ],
             [
              0.1111111111111111,
              "#46039f"
             ],
             [
              0.2222222222222222,
              "#7201a8"
             ],
             [
              0.3333333333333333,
              "#9c179e"
             ],
             [
              0.4444444444444444,
              "#bd3786"
             ],
             [
              0.5555555555555556,
              "#d8576b"
             ],
             [
              0.6666666666666666,
              "#ed7953"
             ],
             [
              0.7777777777777778,
              "#fb9f3a"
             ],
             [
              0.8888888888888888,
              "#fdca26"
             ],
             [
              1,
              "#f0f921"
             ]
            ],
            "type": "histogram2dcontour"
           }
          ],
          "mesh3d": [
           {
            "colorbar": {
             "outlinewidth": 0,
             "ticks": ""
            },
            "type": "mesh3d"
           }
          ],
          "parcoords": [
           {
            "line": {
             "colorbar": {
              "outlinewidth": 0,
              "ticks": ""
             }
            },
            "type": "parcoords"
           }
          ],
          "pie": [
           {
            "automargin": true,
            "type": "pie"
           }
          ],
          "scatter": [
           {
            "fillpattern": {
             "fillmode": "overlay",
             "size": 10,
             "solidity": 0.2
            },
            "type": "scatter"
           }
          ],
          "scatter3d": [
           {
            "line": {
             "colorbar": {
              "outlinewidth": 0,
              "ticks": ""
             }
            },
            "marker": {
             "colorbar": {
              "outlinewidth": 0,
              "ticks": ""
             }
            },
            "type": "scatter3d"
           }
          ],
          "scattercarpet": [
           {
            "marker": {
             "colorbar": {
              "outlinewidth": 0,
              "ticks": ""
             }
            },
            "type": "scattercarpet"
           }
          ],
          "scattergeo": [
           {
            "marker": {
             "colorbar": {
              "outlinewidth": 0,
              "ticks": ""
             }
            },
            "type": "scattergeo"
           }
          ],
          "scattergl": [
           {
            "marker": {
             "colorbar": {
              "outlinewidth": 0,
              "ticks": ""
             }
            },
            "type": "scattergl"
           }
          ],
          "scattermapbox": [
           {
            "marker": {
             "colorbar": {
              "outlinewidth": 0,
              "ticks": ""
             }
            },
            "type": "scattermapbox"
           }
          ],
          "scatterpolar": [
           {
            "marker": {
             "colorbar": {
              "outlinewidth": 0,
              "ticks": ""
             }
            },
            "type": "scatterpolar"
           }
          ],
          "scatterpolargl": [
           {
            "marker": {
             "colorbar": {
              "outlinewidth": 0,
              "ticks": ""
             }
            },
            "type": "scatterpolargl"
           }
          ],
          "scatterternary": [
           {
            "marker": {
             "colorbar": {
              "outlinewidth": 0,
              "ticks": ""
             }
            },
            "type": "scatterternary"
           }
          ],
          "surface": [
           {
            "colorbar": {
             "outlinewidth": 0,
             "ticks": ""
            },
            "colorscale": [
             [
              0,
              "#0d0887"
             ],
             [
              0.1111111111111111,
              "#46039f"
             ],
             [
              0.2222222222222222,
              "#7201a8"
             ],
             [
              0.3333333333333333,
              "#9c179e"
             ],
             [
              0.4444444444444444,
              "#bd3786"
             ],
             [
              0.5555555555555556,
              "#d8576b"
             ],
             [
              0.6666666666666666,
              "#ed7953"
             ],
             [
              0.7777777777777778,
              "#fb9f3a"
             ],
             [
              0.8888888888888888,
              "#fdca26"
             ],
             [
              1,
              "#f0f921"
             ]
            ],
            "type": "surface"
           }
          ],
          "table": [
           {
            "cells": {
             "fill": {
              "color": "#EBF0F8"
             },
             "line": {
              "color": "white"
             }
            },
            "header": {
             "fill": {
              "color": "#C8D4E3"
             },
             "line": {
              "color": "white"
             }
            },
            "type": "table"
           }
          ]
         },
         "layout": {
          "annotationdefaults": {
           "arrowcolor": "#2a3f5f",
           "arrowhead": 0,
           "arrowwidth": 1
          },
          "autotypenumbers": "strict",
          "coloraxis": {
           "colorbar": {
            "outlinewidth": 0,
            "ticks": ""
           }
          },
          "colorscale": {
           "diverging": [
            [
             0,
             "#8e0152"
            ],
            [
             0.1,
             "#c51b7d"
            ],
            [
             0.2,
             "#de77ae"
            ],
            [
             0.3,
             "#f1b6da"
            ],
            [
             0.4,
             "#fde0ef"
            ],
            [
             0.5,
             "#f7f7f7"
            ],
            [
             0.6,
             "#e6f5d0"
            ],
            [
             0.7,
             "#b8e186"
            ],
            [
             0.8,
             "#7fbc41"
            ],
            [
             0.9,
             "#4d9221"
            ],
            [
             1,
             "#276419"
            ]
           ],
           "sequential": [
            [
             0,
             "#0d0887"
            ],
            [
             0.1111111111111111,
             "#46039f"
            ],
            [
             0.2222222222222222,
             "#7201a8"
            ],
            [
             0.3333333333333333,
             "#9c179e"
            ],
            [
             0.4444444444444444,
             "#bd3786"
            ],
            [
             0.5555555555555556,
             "#d8576b"
            ],
            [
             0.6666666666666666,
             "#ed7953"
            ],
            [
             0.7777777777777778,
             "#fb9f3a"
            ],
            [
             0.8888888888888888,
             "#fdca26"
            ],
            [
             1,
             "#f0f921"
            ]
           ],
           "sequentialminus": [
            [
             0,
             "#0d0887"
            ],
            [
             0.1111111111111111,
             "#46039f"
            ],
            [
             0.2222222222222222,
             "#7201a8"
            ],
            [
             0.3333333333333333,
             "#9c179e"
            ],
            [
             0.4444444444444444,
             "#bd3786"
            ],
            [
             0.5555555555555556,
             "#d8576b"
            ],
            [
             0.6666666666666666,
             "#ed7953"
            ],
            [
             0.7777777777777778,
             "#fb9f3a"
            ],
            [
             0.8888888888888888,
             "#fdca26"
            ],
            [
             1,
             "#f0f921"
            ]
           ]
          },
          "colorway": [
           "#636efa",
           "#EF553B",
           "#00cc96",
           "#ab63fa",
           "#FFA15A",
           "#19d3f3",
           "#FF6692",
           "#B6E880",
           "#FF97FF",
           "#FECB52"
          ],
          "font": {
           "color": "#2a3f5f"
          },
          "geo": {
           "bgcolor": "white",
           "lakecolor": "white",
           "landcolor": "#E5ECF6",
           "showlakes": true,
           "showland": true,
           "subunitcolor": "white"
          },
          "hoverlabel": {
           "align": "left"
          },
          "hovermode": "closest",
          "mapbox": {
           "style": "light"
          },
          "paper_bgcolor": "white",
          "plot_bgcolor": "#E5ECF6",
          "polar": {
           "angularaxis": {
            "gridcolor": "white",
            "linecolor": "white",
            "ticks": ""
           },
           "bgcolor": "#E5ECF6",
           "radialaxis": {
            "gridcolor": "white",
            "linecolor": "white",
            "ticks": ""
           }
          },
          "scene": {
           "xaxis": {
            "backgroundcolor": "#E5ECF6",
            "gridcolor": "white",
            "gridwidth": 2,
            "linecolor": "white",
            "showbackground": true,
            "ticks": "",
            "zerolinecolor": "white"
           },
           "yaxis": {
            "backgroundcolor": "#E5ECF6",
            "gridcolor": "white",
            "gridwidth": 2,
            "linecolor": "white",
            "showbackground": true,
            "ticks": "",
            "zerolinecolor": "white"
           },
           "zaxis": {
            "backgroundcolor": "#E5ECF6",
            "gridcolor": "white",
            "gridwidth": 2,
            "linecolor": "white",
            "showbackground": true,
            "ticks": "",
            "zerolinecolor": "white"
           }
          },
          "shapedefaults": {
           "line": {
            "color": "#2a3f5f"
           }
          },
          "ternary": {
           "aaxis": {
            "gridcolor": "white",
            "linecolor": "white",
            "ticks": ""
           },
           "baxis": {
            "gridcolor": "white",
            "linecolor": "white",
            "ticks": ""
           },
           "bgcolor": "#E5ECF6",
           "caxis": {
            "gridcolor": "white",
            "linecolor": "white",
            "ticks": ""
           }
          },
          "title": {
           "x": 0.05
          },
          "xaxis": {
           "automargin": true,
           "gridcolor": "white",
           "linecolor": "white",
           "ticks": "",
           "title": {
            "standoff": 15
           },
           "zerolinecolor": "white",
           "zerolinewidth": 2
          },
          "yaxis": {
           "automargin": true,
           "gridcolor": "white",
           "linecolor": "white",
           "ticks": "",
           "title": {
            "standoff": 15
           },
           "zerolinecolor": "white",
           "zerolinewidth": 2
          }
         }
        },
        "title": {
         "text": "vaccinerade per län"
        },
        "xaxis": {
         "anchor": "y",
         "domain": [
          0,
          1
         ],
         "title": {
          "text": "Sveriges län"
         }
        },
        "yaxis": {
         "anchor": "x",
         "domain": [
          0,
          1
         ],
         "title": {
          "text": "Befolkning"
         }
        }
       }
      }
     },
     "metadata": {},
     "output_type": "display_data"
    }
   ],
   "source": [
    "#  förklaring till kod = \n",
    "# dos_1 = df_vaccin_data.groupby(\"Län_namn\")[\"Antal minst 1 dos\"].sum(), grupperar ihop och summerar / df_vaccin_data.groupby(\"Län_namn\")[\"Befolkning\"].sum() delar och slår ihop och summerar\n",
    "\n",
    "dos_1 = df_vaccin_data.groupby(\"Län_namn\")[\"Antal minst 1 dos\"].sum() / df_vaccin_data.groupby(\"Län_namn\")[\"Befolkning\"].sum()\n",
    "dos_2 = df_vaccin_data.groupby(\"Län_namn\")[\"Antal minst 2 doser\"].sum() / df_vaccin_data.groupby(\"Län_namn\")[\"Befolkning\"].sum()\n",
    "dos_3 = df_vaccin_data.groupby(\"Län_namn\")[\"Antal 3 doser\"].sum() / df_vaccin_data.groupby(\"Län_namn\")[\"Befolkning\"].sum()\n",
    "# fick hjälp av daniel\n",
    "\n",
    "\n",
    "\n",
    "fig = px.bar(\n",
    "    y=[dos_1, dos_2, dos_3],\n",
    "    x= df_vaccin_data.Län_namn.unique(),\n",
    "    labels={\n",
    "        \"value\": \"Befolkning\",\n",
    "        \"variable\": \"Dos\",\n",
    "        \"x\": \"Sveriges län\",\n",
    "    },\n",
    "    title=\"vaccinerade per län\"\n",
    ")\n",
    "newnames = {\n",
    "    \"wide_variable_0\": \"Dos 1\",\n",
    "    \"wide_variable_1\": \"Dos 2\",\n",
    "    \"wide_variable_2\": \"Dos 3\",\n",
    "}\n",
    "fig.for_each_trace(lambda t: t.update(name=newnames[t.name]))    \n",
    "fig.write_html(\"Visualiseringar/Vaccinerade_per_countie.html\")\n",
    "fig.show()\n",
    "\n",
    "\n",
    "\n",
    "## daniel gav mig också denna länk för plotting\n",
    "# https://stackoverflow.com/questions/64371174/plotly-how-to-change-variable-label-names-for-the-legend-in-a-plotly-express-li"
   ]
  },
  {
   "cell_type": "markdown",
   "metadata": {},
   "source": [
    "_____________"
   ]
  },
  {
   "cell_type": "markdown",
   "metadata": {},
   "source": [
    "## F2) \n",
    "Tag Västra Götalands län och Stockholms län och rita diagram över andelen vaccinerade med minst 1 dos,\n",
    "två doser, tre doser och fyra doser.\n"
   ]
  },
  {
   "cell_type": "code",
   "execution_count": 994,
   "metadata": {},
   "outputs": [
    {
     "data": {
      "application/vnd.plotly.v1+json": {
       "config": {
        "plotlyServerURL": "https://plot.ly"
       },
       "data": [
        {
         "alignmentgroup": "True",
         "hovertemplate": "Antal doser=wide_variable_0<br>Stockholm, Göteborg=%{x}<br>Befolkning=%{y}<extra></extra>",
         "legendgroup": "wide_variable_0",
         "marker": {
          "color": "#636efa",
          "pattern": {
           "shape": ""
          }
         },
         "name": "Dos 1",
         "offsetgroup": "wide_variable_0",
         "orientation": "v",
         "showlegend": true,
         "textposition": "auto",
         "type": "bar",
         "x": [
          "Stockholms län",
          "Västra Götalands län"
         ],
         "xaxis": "x",
         "y": [
          0.8311989997713299,
          0.8550770229084498
         ],
         "yaxis": "y"
        },
        {
         "alignmentgroup": "True",
         "hovertemplate": "Antal doser=wide_variable_1<br>Stockholm, Göteborg=%{x}<br>Befolkning=%{y}<extra></extra>",
         "legendgroup": "wide_variable_1",
         "marker": {
          "color": "#EF553B",
          "pattern": {
           "shape": ""
          }
         },
         "name": "Dos 2",
         "offsetgroup": "wide_variable_1",
         "orientation": "v",
         "showlegend": true,
         "textposition": "auto",
         "type": "bar",
         "x": [
          "Stockholms län",
          "Västra Götalands län"
         ],
         "xaxis": "x",
         "y": [
          0.8010761337667403,
          0.8336006391647686
         ],
         "yaxis": "y"
        },
        {
         "alignmentgroup": "True",
         "hovertemplate": "Antal doser=wide_variable_2<br>Stockholm, Göteborg=%{x}<br>Befolkning=%{y}<extra></extra>",
         "legendgroup": "wide_variable_2",
         "marker": {
          "color": "#00cc96",
          "pattern": {
           "shape": ""
          }
         },
         "name": "Dos 3",
         "offsetgroup": "wide_variable_2",
         "orientation": "v",
         "showlegend": true,
         "textposition": "auto",
         "type": "bar",
         "x": [
          "Stockholms län",
          "Västra Götalands län"
         ],
         "xaxis": "x",
         "y": [
          0.5694619951774007,
          0.580925222592158
         ],
         "yaxis": "y"
        },
        {
         "alignmentgroup": "True",
         "hovertemplate": "Antal doser=wide_variable_3<br>Stockholm, Göteborg=%{x}<br>Befolkning=%{y}<extra></extra>",
         "legendgroup": "wide_variable_3",
         "marker": {
          "color": "#ab63fa",
          "pattern": {
           "shape": ""
          }
         },
         "name": "Dos 4",
         "offsetgroup": "wide_variable_3",
         "orientation": "v",
         "showlegend": true,
         "textposition": "auto",
         "type": "bar",
         "x": [
          "Stockholms län",
          "Västra Götalands län"
         ],
         "xaxis": "x",
         "y": [
          0.11266703298434493,
          0.14040762548840624
         ],
         "yaxis": "y"
        }
       ],
       "layout": {
        "barmode": "group",
        "legend": {
         "title": {
          "text": "Antal doser"
         },
         "tracegroupgap": 0
        },
        "template": {
         "data": {
          "bar": [
           {
            "error_x": {
             "color": "#2a3f5f"
            },
            "error_y": {
             "color": "#2a3f5f"
            },
            "marker": {
             "line": {
              "color": "#E5ECF6",
              "width": 0.5
             },
             "pattern": {
              "fillmode": "overlay",
              "size": 10,
              "solidity": 0.2
             }
            },
            "type": "bar"
           }
          ],
          "barpolar": [
           {
            "marker": {
             "line": {
              "color": "#E5ECF6",
              "width": 0.5
             },
             "pattern": {
              "fillmode": "overlay",
              "size": 10,
              "solidity": 0.2
             }
            },
            "type": "barpolar"
           }
          ],
          "carpet": [
           {
            "aaxis": {
             "endlinecolor": "#2a3f5f",
             "gridcolor": "white",
             "linecolor": "white",
             "minorgridcolor": "white",
             "startlinecolor": "#2a3f5f"
            },
            "baxis": {
             "endlinecolor": "#2a3f5f",
             "gridcolor": "white",
             "linecolor": "white",
             "minorgridcolor": "white",
             "startlinecolor": "#2a3f5f"
            },
            "type": "carpet"
           }
          ],
          "choropleth": [
           {
            "colorbar": {
             "outlinewidth": 0,
             "ticks": ""
            },
            "type": "choropleth"
           }
          ],
          "contour": [
           {
            "colorbar": {
             "outlinewidth": 0,
             "ticks": ""
            },
            "colorscale": [
             [
              0,
              "#0d0887"
             ],
             [
              0.1111111111111111,
              "#46039f"
             ],
             [
              0.2222222222222222,
              "#7201a8"
             ],
             [
              0.3333333333333333,
              "#9c179e"
             ],
             [
              0.4444444444444444,
              "#bd3786"
             ],
             [
              0.5555555555555556,
              "#d8576b"
             ],
             [
              0.6666666666666666,
              "#ed7953"
             ],
             [
              0.7777777777777778,
              "#fb9f3a"
             ],
             [
              0.8888888888888888,
              "#fdca26"
             ],
             [
              1,
              "#f0f921"
             ]
            ],
            "type": "contour"
           }
          ],
          "contourcarpet": [
           {
            "colorbar": {
             "outlinewidth": 0,
             "ticks": ""
            },
            "type": "contourcarpet"
           }
          ],
          "heatmap": [
           {
            "colorbar": {
             "outlinewidth": 0,
             "ticks": ""
            },
            "colorscale": [
             [
              0,
              "#0d0887"
             ],
             [
              0.1111111111111111,
              "#46039f"
             ],
             [
              0.2222222222222222,
              "#7201a8"
             ],
             [
              0.3333333333333333,
              "#9c179e"
             ],
             [
              0.4444444444444444,
              "#bd3786"
             ],
             [
              0.5555555555555556,
              "#d8576b"
             ],
             [
              0.6666666666666666,
              "#ed7953"
             ],
             [
              0.7777777777777778,
              "#fb9f3a"
             ],
             [
              0.8888888888888888,
              "#fdca26"
             ],
             [
              1,
              "#f0f921"
             ]
            ],
            "type": "heatmap"
           }
          ],
          "heatmapgl": [
           {
            "colorbar": {
             "outlinewidth": 0,
             "ticks": ""
            },
            "colorscale": [
             [
              0,
              "#0d0887"
             ],
             [
              0.1111111111111111,
              "#46039f"
             ],
             [
              0.2222222222222222,
              "#7201a8"
             ],
             [
              0.3333333333333333,
              "#9c179e"
             ],
             [
              0.4444444444444444,
              "#bd3786"
             ],
             [
              0.5555555555555556,
              "#d8576b"
             ],
             [
              0.6666666666666666,
              "#ed7953"
             ],
             [
              0.7777777777777778,
              "#fb9f3a"
             ],
             [
              0.8888888888888888,
              "#fdca26"
             ],
             [
              1,
              "#f0f921"
             ]
            ],
            "type": "heatmapgl"
           }
          ],
          "histogram": [
           {
            "marker": {
             "pattern": {
              "fillmode": "overlay",
              "size": 10,
              "solidity": 0.2
             }
            },
            "type": "histogram"
           }
          ],
          "histogram2d": [
           {
            "colorbar": {
             "outlinewidth": 0,
             "ticks": ""
            },
            "colorscale": [
             [
              0,
              "#0d0887"
             ],
             [
              0.1111111111111111,
              "#46039f"
             ],
             [
              0.2222222222222222,
              "#7201a8"
             ],
             [
              0.3333333333333333,
              "#9c179e"
             ],
             [
              0.4444444444444444,
              "#bd3786"
             ],
             [
              0.5555555555555556,
              "#d8576b"
             ],
             [
              0.6666666666666666,
              "#ed7953"
             ],
             [
              0.7777777777777778,
              "#fb9f3a"
             ],
             [
              0.8888888888888888,
              "#fdca26"
             ],
             [
              1,
              "#f0f921"
             ]
            ],
            "type": "histogram2d"
           }
          ],
          "histogram2dcontour": [
           {
            "colorbar": {
             "outlinewidth": 0,
             "ticks": ""
            },
            "colorscale": [
             [
              0,
              "#0d0887"
             ],
             [
              0.1111111111111111,
              "#46039f"
             ],
             [
              0.2222222222222222,
              "#7201a8"
             ],
             [
              0.3333333333333333,
              "#9c179e"
             ],
             [
              0.4444444444444444,
              "#bd3786"
             ],
             [
              0.5555555555555556,
              "#d8576b"
             ],
             [
              0.6666666666666666,
              "#ed7953"
             ],
             [
              0.7777777777777778,
              "#fb9f3a"
             ],
             [
              0.8888888888888888,
              "#fdca26"
             ],
             [
              1,
              "#f0f921"
             ]
            ],
            "type": "histogram2dcontour"
           }
          ],
          "mesh3d": [
           {
            "colorbar": {
             "outlinewidth": 0,
             "ticks": ""
            },
            "type": "mesh3d"
           }
          ],
          "parcoords": [
           {
            "line": {
             "colorbar": {
              "outlinewidth": 0,
              "ticks": ""
             }
            },
            "type": "parcoords"
           }
          ],
          "pie": [
           {
            "automargin": true,
            "type": "pie"
           }
          ],
          "scatter": [
           {
            "fillpattern": {
             "fillmode": "overlay",
             "size": 10,
             "solidity": 0.2
            },
            "type": "scatter"
           }
          ],
          "scatter3d": [
           {
            "line": {
             "colorbar": {
              "outlinewidth": 0,
              "ticks": ""
             }
            },
            "marker": {
             "colorbar": {
              "outlinewidth": 0,
              "ticks": ""
             }
            },
            "type": "scatter3d"
           }
          ],
          "scattercarpet": [
           {
            "marker": {
             "colorbar": {
              "outlinewidth": 0,
              "ticks": ""
             }
            },
            "type": "scattercarpet"
           }
          ],
          "scattergeo": [
           {
            "marker": {
             "colorbar": {
              "outlinewidth": 0,
              "ticks": ""
             }
            },
            "type": "scattergeo"
           }
          ],
          "scattergl": [
           {
            "marker": {
             "colorbar": {
              "outlinewidth": 0,
              "ticks": ""
             }
            },
            "type": "scattergl"
           }
          ],
          "scattermapbox": [
           {
            "marker": {
             "colorbar": {
              "outlinewidth": 0,
              "ticks": ""
             }
            },
            "type": "scattermapbox"
           }
          ],
          "scatterpolar": [
           {
            "marker": {
             "colorbar": {
              "outlinewidth": 0,
              "ticks": ""
             }
            },
            "type": "scatterpolar"
           }
          ],
          "scatterpolargl": [
           {
            "marker": {
             "colorbar": {
              "outlinewidth": 0,
              "ticks": ""
             }
            },
            "type": "scatterpolargl"
           }
          ],
          "scatterternary": [
           {
            "marker": {
             "colorbar": {
              "outlinewidth": 0,
              "ticks": ""
             }
            },
            "type": "scatterternary"
           }
          ],
          "surface": [
           {
            "colorbar": {
             "outlinewidth": 0,
             "ticks": ""
            },
            "colorscale": [
             [
              0,
              "#0d0887"
             ],
             [
              0.1111111111111111,
              "#46039f"
             ],
             [
              0.2222222222222222,
              "#7201a8"
             ],
             [
              0.3333333333333333,
              "#9c179e"
             ],
             [
              0.4444444444444444,
              "#bd3786"
             ],
             [
              0.5555555555555556,
              "#d8576b"
             ],
             [
              0.6666666666666666,
              "#ed7953"
             ],
             [
              0.7777777777777778,
              "#fb9f3a"
             ],
             [
              0.8888888888888888,
              "#fdca26"
             ],
             [
              1,
              "#f0f921"
             ]
            ],
            "type": "surface"
           }
          ],
          "table": [
           {
            "cells": {
             "fill": {
              "color": "#EBF0F8"
             },
             "line": {
              "color": "white"
             }
            },
            "header": {
             "fill": {
              "color": "#C8D4E3"
             },
             "line": {
              "color": "white"
             }
            },
            "type": "table"
           }
          ]
         },
         "layout": {
          "annotationdefaults": {
           "arrowcolor": "#2a3f5f",
           "arrowhead": 0,
           "arrowwidth": 1
          },
          "autotypenumbers": "strict",
          "coloraxis": {
           "colorbar": {
            "outlinewidth": 0,
            "ticks": ""
           }
          },
          "colorscale": {
           "diverging": [
            [
             0,
             "#8e0152"
            ],
            [
             0.1,
             "#c51b7d"
            ],
            [
             0.2,
             "#de77ae"
            ],
            [
             0.3,
             "#f1b6da"
            ],
            [
             0.4,
             "#fde0ef"
            ],
            [
             0.5,
             "#f7f7f7"
            ],
            [
             0.6,
             "#e6f5d0"
            ],
            [
             0.7,
             "#b8e186"
            ],
            [
             0.8,
             "#7fbc41"
            ],
            [
             0.9,
             "#4d9221"
            ],
            [
             1,
             "#276419"
            ]
           ],
           "sequential": [
            [
             0,
             "#0d0887"
            ],
            [
             0.1111111111111111,
             "#46039f"
            ],
            [
             0.2222222222222222,
             "#7201a8"
            ],
            [
             0.3333333333333333,
             "#9c179e"
            ],
            [
             0.4444444444444444,
             "#bd3786"
            ],
            [
             0.5555555555555556,
             "#d8576b"
            ],
            [
             0.6666666666666666,
             "#ed7953"
            ],
            [
             0.7777777777777778,
             "#fb9f3a"
            ],
            [
             0.8888888888888888,
             "#fdca26"
            ],
            [
             1,
             "#f0f921"
            ]
           ],
           "sequentialminus": [
            [
             0,
             "#0d0887"
            ],
            [
             0.1111111111111111,
             "#46039f"
            ],
            [
             0.2222222222222222,
             "#7201a8"
            ],
            [
             0.3333333333333333,
             "#9c179e"
            ],
            [
             0.4444444444444444,
             "#bd3786"
            ],
            [
             0.5555555555555556,
             "#d8576b"
            ],
            [
             0.6666666666666666,
             "#ed7953"
            ],
            [
             0.7777777777777778,
             "#fb9f3a"
            ],
            [
             0.8888888888888888,
             "#fdca26"
            ],
            [
             1,
             "#f0f921"
            ]
           ]
          },
          "colorway": [
           "#636efa",
           "#EF553B",
           "#00cc96",
           "#ab63fa",
           "#FFA15A",
           "#19d3f3",
           "#FF6692",
           "#B6E880",
           "#FF97FF",
           "#FECB52"
          ],
          "font": {
           "color": "#2a3f5f"
          },
          "geo": {
           "bgcolor": "white",
           "lakecolor": "white",
           "landcolor": "#E5ECF6",
           "showlakes": true,
           "showland": true,
           "subunitcolor": "white"
          },
          "hoverlabel": {
           "align": "left"
          },
          "hovermode": "closest",
          "mapbox": {
           "style": "light"
          },
          "paper_bgcolor": "white",
          "plot_bgcolor": "#E5ECF6",
          "polar": {
           "angularaxis": {
            "gridcolor": "white",
            "linecolor": "white",
            "ticks": ""
           },
           "bgcolor": "#E5ECF6",
           "radialaxis": {
            "gridcolor": "white",
            "linecolor": "white",
            "ticks": ""
           }
          },
          "scene": {
           "xaxis": {
            "backgroundcolor": "#E5ECF6",
            "gridcolor": "white",
            "gridwidth": 2,
            "linecolor": "white",
            "showbackground": true,
            "ticks": "",
            "zerolinecolor": "white"
           },
           "yaxis": {
            "backgroundcolor": "#E5ECF6",
            "gridcolor": "white",
            "gridwidth": 2,
            "linecolor": "white",
            "showbackground": true,
            "ticks": "",
            "zerolinecolor": "white"
           },
           "zaxis": {
            "backgroundcolor": "#E5ECF6",
            "gridcolor": "white",
            "gridwidth": 2,
            "linecolor": "white",
            "showbackground": true,
            "ticks": "",
            "zerolinecolor": "white"
           }
          },
          "shapedefaults": {
           "line": {
            "color": "#2a3f5f"
           }
          },
          "ternary": {
           "aaxis": {
            "gridcolor": "white",
            "linecolor": "white",
            "ticks": ""
           },
           "baxis": {
            "gridcolor": "white",
            "linecolor": "white",
            "ticks": ""
           },
           "bgcolor": "#E5ECF6",
           "caxis": {
            "gridcolor": "white",
            "linecolor": "white",
            "ticks": ""
           }
          },
          "title": {
           "x": 0.05
          },
          "xaxis": {
           "automargin": true,
           "gridcolor": "white",
           "linecolor": "white",
           "ticks": "",
           "title": {
            "standoff": 15
           },
           "zerolinecolor": "white",
           "zerolinewidth": 2
          },
          "yaxis": {
           "automargin": true,
           "gridcolor": "white",
           "linecolor": "white",
           "ticks": "",
           "title": {
            "standoff": 15
           },
           "zerolinecolor": "white",
           "zerolinewidth": 2
          }
         }
        },
        "title": {
         "text": "Antal vaccinerade Stockholm, Göteborg"
        },
        "xaxis": {
         "anchor": "y",
         "domain": [
          0,
          1
         ],
         "title": {
          "text": "Stockholm, Göteborg"
         }
        },
        "yaxis": {
         "anchor": "x",
         "domain": [
          0,
          1
         ],
         "title": {
          "text": "Befolkning"
         }
        }
       }
      }
     },
     "metadata": {},
     "output_type": "display_data"
    }
   ],
   "source": [
    "counties_conditon = ['Västra Götalands län', 'Stockholms län'] ## keyword for search\n",
    "\n",
    "df_counties = df_vaccin_data[df_vaccin_data['Län_namn'].isin(counties_conditon)] ## uses same start as, assignent = D\n",
    "grouped_by_province = df_counties.groupby(\"Län\")\n",
    "\n",
    "\n",
    "dos_andel_1 = grouped_by_province[\"Antal minst 1 dos\"].sum() / grouped_by_province[\"Befolkning\"].sum()\n",
    "dos_andel_2 = grouped_by_province[\"Antal minst 2 doser\"].sum() / grouped_by_province[\"Befolkning\"].sum()\n",
    "dos_andel_3 = grouped_by_province[\"Antal 3 doser\"].sum() / grouped_by_province[\"Befolkning\"].sum()\n",
    "dos_andel_4 = grouped_by_province[\"Antal 4 doser\"].sum() / grouped_by_province[\"Befolkning\"].sum()\n",
    "\n",
    "\n",
    "\n",
    "fig = px.bar(\n",
    "    y = [dos_andel_1, dos_andel_2, dos_andel_3, dos_andel_4],\n",
    "    x = df_counties.Län_namn.unique(),\n",
    "    barmode =\"group\",\n",
    "    labels={\n",
    "        \"value\": \"Befolkning\",\n",
    "        \"variable\": \"Antal doser\",\n",
    "        \"x\": \"Stockholm, Göteborg\",\n",
    "    },\n",
    "    title=\"Antal vaccinerade Stockholm, Göteborg\"\n",
    ")\n",
    "\n",
    "newnames = {\n",
    "    \"wide_variable_0\": \"Dos 1\",\n",
    "    \"wide_variable_1\": \"Dos 2\",\n",
    "    \"wide_variable_2\": \"Dos 3\",\n",
    "    \"wide_variable_3\": \"Dos 4\"\n",
    "}\n",
    "\n",
    "# same solution as above exercise\n",
    "fig.for_each_trace(lambda t: t.update(name=newnames[t.name]))\n",
    "fig.write_html(\"Visualiseringar/Antal_vaccinerade_stockholm_goteborg.html\")\n",
    "fig.show()\n",
    "\n"
   ]
  },
  {
   "cell_type": "markdown",
   "metadata": {},
   "source": [
    "_______"
   ]
  },
  {
   "cell_type": "markdown",
   "metadata": {},
   "source": [
    "_______"
   ]
  },
  {
   "cell_type": "markdown",
   "metadata": {},
   "source": [
    "## Uppgift 3 - KPIer & explorativ dataanalys\n",
    "\n",
    "\n",
    "Definiera 3-6 KPIer utöver de som använts i ovanstående uppgifter och gör explorativ dataanalys på flera\n",
    "sheets på båda Excel-filerna. Se till att dokumentera vad du undersöker med markdown kombinerad med\n",
    "kod i Jupyter notebook eller om du använder Pythonskript, skriv en markdown vid sidan om. Dokumentera\n",
    "också vad du kommer fram till och spara alla visualiseringar"
   ]
  },
  {
   "cell_type": "code",
   "execution_count": 1075,
   "metadata": {},
   "outputs": [],
   "source": [
    "## look at risk of dying in intensive care"
   ]
  },
  {
   "cell_type": "code",
   "execution_count": 995,
   "metadata": {},
   "outputs": [],
   "source": [
    "\n",
    "folkdeadtotal = pd.read_excel(\"../Data/Folkhalsomyndigheten_Covid19.xlsx\" , sheet_name = \"Totalt antal per åldersgrupp\")\n",
    "\n",
    "df_total_dead = pd.DataFrame(folkdeadtotal)"
   ]
  },
  {
   "cell_type": "code",
   "execution_count": 996,
   "metadata": {},
   "outputs": [
    {
     "name": "stdout",
     "output_type": "stream",
     "text": [
      "<class 'pandas.core.frame.DataFrame'>\n",
      "RangeIndex: 11 entries, 0 to 10\n",
      "Data columns (total 4 columns):\n",
      " #   Column                        Non-Null Count  Dtype \n",
      "---  ------                        --------------  ----- \n",
      " 0   Åldersgrupp                   11 non-null     object\n",
      " 1   Totalt_antal_fall             11 non-null     int64 \n",
      " 2   Totalt_antal_intensivvårdade  11 non-null     int64 \n",
      " 3   Totalt_antal_avlidna          11 non-null     int64 \n",
      "dtypes: int64(3), object(1)\n",
      "memory usage: 480.0+ bytes\n"
     ]
    }
   ],
   "source": [
    "df_total_dead.info()"
   ]
  },
  {
   "cell_type": "code",
   "execution_count": 997,
   "metadata": {},
   "outputs": [
    {
     "data": {
      "text/html": [
       "<div>\n",
       "<style scoped>\n",
       "    .dataframe tbody tr th:only-of-type {\n",
       "        vertical-align: middle;\n",
       "    }\n",
       "\n",
       "    .dataframe tbody tr th {\n",
       "        vertical-align: top;\n",
       "    }\n",
       "\n",
       "    .dataframe thead th {\n",
       "        text-align: right;\n",
       "    }\n",
       "</style>\n",
       "<table border=\"1\" class=\"dataframe\">\n",
       "  <thead>\n",
       "    <tr style=\"text-align: right;\">\n",
       "      <th></th>\n",
       "      <th>Åldersgrupp</th>\n",
       "      <th>Totalt_antal_fall</th>\n",
       "      <th>Totalt_antal_intensivvårdade</th>\n",
       "      <th>Totalt_antal_avlidna</th>\n",
       "    </tr>\n",
       "  </thead>\n",
       "  <tbody>\n",
       "    <tr>\n",
       "      <th>0</th>\n",
       "      <td>Ålder_0_9</td>\n",
       "      <td>138071</td>\n",
       "      <td>109</td>\n",
       "      <td>17</td>\n",
       "    </tr>\n",
       "    <tr>\n",
       "      <th>1</th>\n",
       "      <td>Ålder_10_19</td>\n",
       "      <td>355823</td>\n",
       "      <td>101</td>\n",
       "      <td>9</td>\n",
       "    </tr>\n",
       "    <tr>\n",
       "      <th>2</th>\n",
       "      <td>Ålder_20_29</td>\n",
       "      <td>418506</td>\n",
       "      <td>285</td>\n",
       "      <td>41</td>\n",
       "    </tr>\n",
       "    <tr>\n",
       "      <th>3</th>\n",
       "      <td>Ålder_30_39</td>\n",
       "      <td>493443</td>\n",
       "      <td>492</td>\n",
       "      <td>71</td>\n",
       "    </tr>\n",
       "    <tr>\n",
       "      <th>4</th>\n",
       "      <td>Ålder_40_49</td>\n",
       "      <td>474702</td>\n",
       "      <td>997</td>\n",
       "      <td>172</td>\n",
       "    </tr>\n",
       "    <tr>\n",
       "      <th>5</th>\n",
       "      <td>Ålder_50_59</td>\n",
       "      <td>378468</td>\n",
       "      <td>1932</td>\n",
       "      <td>523</td>\n",
       "    </tr>\n",
       "    <tr>\n",
       "      <th>6</th>\n",
       "      <td>Ålder_60_69</td>\n",
       "      <td>180079</td>\n",
       "      <td>2595</td>\n",
       "      <td>1422</td>\n",
       "    </tr>\n",
       "    <tr>\n",
       "      <th>7</th>\n",
       "      <td>Ålder_70_79</td>\n",
       "      <td>87096</td>\n",
       "      <td>2394</td>\n",
       "      <td>4654</td>\n",
       "    </tr>\n",
       "    <tr>\n",
       "      <th>8</th>\n",
       "      <td>Ålder_80_89</td>\n",
       "      <td>58170</td>\n",
       "      <td>612</td>\n",
       "      <td>8326</td>\n",
       "    </tr>\n",
       "    <tr>\n",
       "      <th>9</th>\n",
       "      <td>Ålder_90_plus</td>\n",
       "      <td>26677</td>\n",
       "      <td>21</td>\n",
       "      <td>5420</td>\n",
       "    </tr>\n",
       "    <tr>\n",
       "      <th>10</th>\n",
       "      <td>Uppgift saknas</td>\n",
       "      <td>545</td>\n",
       "      <td>6</td>\n",
       "      <td>4</td>\n",
       "    </tr>\n",
       "  </tbody>\n",
       "</table>\n",
       "</div>"
      ],
      "text/plain": [
       "       Åldersgrupp  Totalt_antal_fall  Totalt_antal_intensivvårdade  \\\n",
       "0        Ålder_0_9             138071                           109   \n",
       "1      Ålder_10_19             355823                           101   \n",
       "2      Ålder_20_29             418506                           285   \n",
       "3      Ålder_30_39             493443                           492   \n",
       "4      Ålder_40_49             474702                           997   \n",
       "5      Ålder_50_59             378468                          1932   \n",
       "6      Ålder_60_69             180079                          2595   \n",
       "7      Ålder_70_79              87096                          2394   \n",
       "8      Ålder_80_89              58170                           612   \n",
       "9    Ålder_90_plus              26677                            21   \n",
       "10  Uppgift saknas                545                             6   \n",
       "\n",
       "    Totalt_antal_avlidna  \n",
       "0                     17  \n",
       "1                      9  \n",
       "2                     41  \n",
       "3                     71  \n",
       "4                    172  \n",
       "5                    523  \n",
       "6                   1422  \n",
       "7                   4654  \n",
       "8                   8326  \n",
       "9                   5420  \n",
       "10                     4  "
      ]
     },
     "execution_count": 997,
     "metadata": {},
     "output_type": "execute_result"
    }
   ],
   "source": [
    "df_total_dead"
   ]
  },
  {
   "cell_type": "code",
   "execution_count": 998,
   "metadata": {},
   "outputs": [
    {
     "data": {
      "image/png": "[encoded data removed]",
      "text/plain": [
       "<Figure size 640x480 with 1 Axes>"
      ]
     },
     "metadata": {},
     "output_type": "display_data"
    },
    {
     "name": "stdout",
     "output_type": "stream",
     "text": [
      "Risk of dying in intensive care unit = 26%\n"
     ]
    }
   ],
   "source": [
    "import matplotlib.pyplot as plt\n",
    "\n",
    "folkdeadtotal = pd.read_excel(\"../Data/Folkhalsomyndigheten_Covid19.xlsx\" , sheet_name = \"Totalt antal per åldersgrupp\")\n",
    "df_total_dead = pd.DataFrame(folkdeadtotal)\n",
    "\n",
    "\n",
    "df_intensive_care = df_total_dead.drop(df_total_dead.index[[7,8,9]])\n",
    "## drops 70+ reason: the majority didn't get intesive care \n",
    "\n",
    "sum_intesive = df_intensive_care[\"Totalt_antal_intensivvårdade\"].sum() \n",
    "sum_dead = df_intensive_care[\"Totalt_antal_avlidna\"].sum()\n",
    "risk_of_death_intesive_unit = round((sum_dead)/(sum_dead+sum_intesive)*100)  #calculates the risk of dying in intensive care\n",
    "\n",
    "\n",
    "\n",
    "\n",
    "fig = plt.figure()\n",
    "ax = fig.add_axes([0,0,1,1])\n",
    "data_lables = ['Amount of cases', 'Intensive Care', 'Dead']\n",
    "data = [df_intensive_care[\"Totalt_antal_fall\"].sum(), sum_intesive,  sum_dead]\n",
    "ax.set_yscale('log')\n",
    "barplot = ax.bar(data_lables,data)\n",
    "plt.bar_label(barplot, [])\n",
    "plt.title(\"Total Covid data\")\n",
    "\n",
    "\n",
    "\n",
    "plt.show()\n",
    "print(f\"Risk of dying in intensive care unit = {risk_of_death_intesive_unit}%\")\n",
    "\n"
   ]
  },
  {
   "cell_type": "code",
   "execution_count": 999,
   "metadata": {},
   "outputs": [
    {
     "data": {
      "text/html": [
       "<div>\n",
       "<style scoped>\n",
       "    .dataframe tbody tr th:only-of-type {\n",
       "        vertical-align: middle;\n",
       "    }\n",
       "\n",
       "    .dataframe tbody tr th {\n",
       "        vertical-align: top;\n",
       "    }\n",
       "\n",
       "    .dataframe thead th {\n",
       "        text-align: right;\n",
       "    }\n",
       "</style>\n",
       "<table border=\"1\" class=\"dataframe\">\n",
       "  <thead>\n",
       "    <tr style=\"text-align: right;\">\n",
       "      <th></th>\n",
       "      <th>Åldersgrupp</th>\n",
       "      <th>Totalt_antal_fall</th>\n",
       "      <th>Totalt_antal_intensivvårdade</th>\n",
       "      <th>Totalt_antal_avlidna</th>\n",
       "    </tr>\n",
       "  </thead>\n",
       "  <tbody>\n",
       "    <tr>\n",
       "      <th>0</th>\n",
       "      <td>Ålder_0_9</td>\n",
       "      <td>138071</td>\n",
       "      <td>109</td>\n",
       "      <td>17</td>\n",
       "    </tr>\n",
       "    <tr>\n",
       "      <th>1</th>\n",
       "      <td>Ålder_10_19</td>\n",
       "      <td>355823</td>\n",
       "      <td>101</td>\n",
       "      <td>9</td>\n",
       "    </tr>\n",
       "    <tr>\n",
       "      <th>2</th>\n",
       "      <td>Ålder_20_29</td>\n",
       "      <td>418506</td>\n",
       "      <td>285</td>\n",
       "      <td>41</td>\n",
       "    </tr>\n",
       "    <tr>\n",
       "      <th>3</th>\n",
       "      <td>Ålder_30_39</td>\n",
       "      <td>493443</td>\n",
       "      <td>492</td>\n",
       "      <td>71</td>\n",
       "    </tr>\n",
       "    <tr>\n",
       "      <th>4</th>\n",
       "      <td>Ålder_40_49</td>\n",
       "      <td>474702</td>\n",
       "      <td>997</td>\n",
       "      <td>172</td>\n",
       "    </tr>\n",
       "    <tr>\n",
       "      <th>5</th>\n",
       "      <td>Ålder_50_59</td>\n",
       "      <td>378468</td>\n",
       "      <td>1932</td>\n",
       "      <td>523</td>\n",
       "    </tr>\n",
       "    <tr>\n",
       "      <th>6</th>\n",
       "      <td>Ålder_60_69</td>\n",
       "      <td>180079</td>\n",
       "      <td>2595</td>\n",
       "      <td>1422</td>\n",
       "    </tr>\n",
       "    <tr>\n",
       "      <th>10</th>\n",
       "      <td>Uppgift saknas</td>\n",
       "      <td>545</td>\n",
       "      <td>6</td>\n",
       "      <td>4</td>\n",
       "    </tr>\n",
       "  </tbody>\n",
       "</table>\n",
       "</div>"
      ],
      "text/plain": [
       "       Åldersgrupp  Totalt_antal_fall  Totalt_antal_intensivvårdade  \\\n",
       "0        Ålder_0_9             138071                           109   \n",
       "1      Ålder_10_19             355823                           101   \n",
       "2      Ålder_20_29             418506                           285   \n",
       "3      Ålder_30_39             493443                           492   \n",
       "4      Ålder_40_49             474702                           997   \n",
       "5      Ålder_50_59             378468                          1932   \n",
       "6      Ålder_60_69             180079                          2595   \n",
       "10  Uppgift saknas                545                             6   \n",
       "\n",
       "    Totalt_antal_avlidna  \n",
       "0                     17  \n",
       "1                      9  \n",
       "2                     41  \n",
       "3                     71  \n",
       "4                    172  \n",
       "5                    523  \n",
       "6                   1422  \n",
       "10                     4  "
      ]
     },
     "execution_count": 999,
     "metadata": {},
     "output_type": "execute_result"
    }
   ],
   "source": [
    "df_intensive_care"
   ]
  },
  {
   "cell_type": "code",
   "execution_count": 1000,
   "metadata": {},
   "outputs": [
    {
     "data": {
      "image/png": "[encoded data removed]",
      "text/plain": [
       "<Figure size 640x480 with 1 Axes>"
      ]
     },
     "metadata": {},
     "output_type": "display_data"
    },
    {
     "name": "stdout",
     "output_type": "stream",
     "text": [
      "(age group 50-70), Risk of dying in intensive care unit = 30%\n"
     ]
    }
   ],
   "source": [
    "age_condition                 = ['Ålder_50_59', 'Ålder_60_69'] ## keyword for search 50+\n",
    "df_middle_age                 = df_intensive_care[df_intensive_care['Åldersgrupp'].isin(age_condition)] # creates dataframe\n",
    "\n",
    "early_senior_death            = df_middle_age[\"Totalt_antal_avlidna\"].sum() \n",
    "early_senior_intensive_care   = df_middle_age[\"Totalt_antal_intensivvårdade\"].sum()\n",
    "\n",
    "early_senior_risk             = round((early_senior_death)/(early_senior_death+early_senior_intensive_care)*100) ##calculates  the risk of dying in intensive  care\n",
    "\n",
    "\n",
    "\n",
    "### PLOT\n",
    "fig = plt.figure()\n",
    "ax = fig.add_axes([0,0,1,1])\n",
    "data_lables = ['Amount of cases', 'Intensive Care', 'Dead']\n",
    "data = [df_middle_age[\"Totalt_antal_fall\"].sum(), early_senior_intensive_care,  early_senior_death]\n",
    "ax.set_yscale('log')\n",
    "barplot = ax.bar(data_lables,data)\n",
    "plt.bar_label(barplot, [])\n",
    "plt.title(\"Covid data in age group 50-70\")\n",
    "plt.show()\n",
    "\n",
    "\n",
    "\n",
    "print(f\"(age group 50-70), Risk of dying in intensive care unit = {early_senior_risk}%\")"
   ]
  },
  {
   "cell_type": "code",
   "execution_count": 1001,
   "metadata": {},
   "outputs": [
    {
     "data": {
      "image/png": "[encoded data removed]",
      "text/plain": [
       "<Figure size 640x480 with 1 Axes>"
      ]
     },
     "metadata": {},
     "output_type": "display_data"
    },
    {
     "name": "stdout",
     "output_type": "stream",
     "text": [
      " (age group 20-40), Risk of dying in intensive care unit = 13%\n"
     ]
    }
   ],
   "source": [
    "age_condition   = [\"Ålder_20_29\", \"Ålder_30_39\"] # creates condintion for is in \n",
    "df_adults       = df_intensive_care[df_intensive_care['Åldersgrupp'].isin(age_condition)] # creates dataframe with only rows which have ålder 20, 40\n",
    "\n",
    "adult_death     = df_adults[\"Totalt_antal_avlidna\"].sum() \n",
    "adult_intesnive = df_adults[\"Totalt_antal_intensivvårdade\"].sum()\n",
    "\n",
    "adult_risk      = round((adult_death)/(adult_death+adult_intesnive)*100) ##calculates  the risk of dying in intensive \n",
    "\n",
    "##PLOT\n",
    "fig = plt.figure() \n",
    "ax = fig.add_axes([0,0,1,1])\n",
    "data_lables = ['Amount of cases',\n",
    "               'Intensive Care', \n",
    "               'Dead']\n",
    "\n",
    "data =     [df_adults[\"Totalt_antal_fall\"].sum(),\n",
    "            adult_intesnive,  \n",
    "            adult_death]\n",
    "\n",
    "ax.set_yscale('log')\n",
    "barplot = ax.bar(data_lables,data)\n",
    "plt.bar_label(barplot)\n",
    "plt.title(\"Covid data in age group 20-40\")\n",
    "plt.show()\n",
    "\n",
    "\n",
    "print(f\" (age group 20-40), Risk of dying in intensive care unit = {adult_risk}%\")\n"
   ]
  },
  {
   "cell_type": "markdown",
   "metadata": {},
   "source": [
    "## Hypothesis & Conclusion\n",
    "\n",
    "\n",
    "Majority of people in the age range of 1 to 70  will not experience severe sickness. But age rapidly increases the risk of death and or severe sickness. seniors aka 70+ didn’t die in hospital beds nor got intensive care. \n",
    "\n",
    "Most people under the age range of seniors did get intensive care. Risk of dying averages  around 26% but if a patient is in the age range between 20 to 40  the risk of dying decreases   around 13%. \n",
    "\n",
    "* This kpi does and can be useful for:\n",
    "\n",
    "checks the fatality in the age range of 1 to 70 \n",
    "\n",
    "data will be affected by virus mutation especially  its fatality-rate which can be useful to decide restrictions/lockdowns\n",
    "\n",
    "\n",
    "inform the public and constitutions of covid-19 historical effects\n",
    "\n",
    "    Possible reasons seniors are not getting intensive care:\n",
    "* 1 most seniors died in elderly-care\n",
    "* 2 seniors died in their homes \n",
    "* 3 limited amount of hospital beds forced hospital to be selective, therefore choose to priorities  age groups that most likely would survive treatment \n"
   ]
  },
  {
   "cell_type": "code",
   "execution_count": 1002,
   "metadata": {},
   "outputs": [],
   "source": [
    "\n",
    "# kpi2 kolla förändring i dödlighet för att se om vården förbättras från 2020, 2021, till 2022 \n",
    "# kolla om vaccin minskar dödlighet\n",
    "# \n",
    "#"
   ]
  },
  {
   "cell_type": "code",
   "execution_count": 1003,
   "metadata": {},
   "outputs": [],
   "source": [
    "\n",
    "\n",
    "## CREATES DATAFRAMES\n",
    "veckodataregion = pd.read_excel(\"../Data/Folkhalsomyndigheten_Covid19.xlsx\" , sheet_name = \"Veckodata Region\")\n",
    "df_week_region = pd.DataFrame(veckodataregion)\n",
    "\n",
    "\n",
    "vaccinerade_kommun = pd.read_excel(\"../Data/Folkhalsomyndigheten_Covid19_Vaccine.xlsx\" , sheet_name = 'Vaccinationer tidsserie')\n",
    "df_time_vaccin = pd.DataFrame(vaccinerade_kommun)"
   ]
  },
  {
   "cell_type": "code",
   "execution_count": 1004,
   "metadata": {},
   "outputs": [],
   "source": [
    "df_time_vaccin.replace(\"| Sverige |\", \"Sverige\", inplace = True) ## renames colum  | Sverige | to Sverige\n",
    "\n",
    "\n",
    "week_condition   = [42,52] ## creates condition work weeks end of 2020 end of 2021 and latest date for 2022\n",
    "\n",
    "filter = df_time_vaccin[df_time_vaccin[\"Vecka\"].isin(week_condition)]   ## technaily creates a dataframe \n",
    "\n",
    "\n",
    "df_dates = filter.loc[filter[\"Region\"] == \"Sverige\"] ## creates another data frame with most of the relevant row\n",
    "\n",
    "df_dates = df_dates.drop([df_dates.index[1]]) # remove last irrelavnt row\n",
    "\n",
    "vacinated2020 = df_dates[\"Antal vaccinationer\"].values[0] #farm the values of relevant rows\n",
    "vacinated2021 = df_dates[\"Antal vaccinationer\"].values[1]\n",
    "vacinated2022 = df_dates[\"Antal vaccinationer\"].values[2]\n",
    "\n",
    "## most of 2020 people didnt have vaccines \n"
   ]
  },
  {
   "cell_type": "code",
   "execution_count": 1005,
   "metadata": {},
   "outputs": [
    {
     "data": {
      "text/html": [
       "<div>\n",
       "<style scoped>\n",
       "    .dataframe tbody tr th:only-of-type {\n",
       "        vertical-align: middle;\n",
       "    }\n",
       "\n",
       "    .dataframe tbody tr th {\n",
       "        vertical-align: top;\n",
       "    }\n",
       "\n",
       "    .dataframe thead th {\n",
       "        text-align: right;\n",
       "    }\n",
       "</style>\n",
       "<table border=\"1\" class=\"dataframe\">\n",
       "  <thead>\n",
       "    <tr style=\"text-align: right;\">\n",
       "      <th></th>\n",
       "      <th>Vecka</th>\n",
       "      <th>År</th>\n",
       "      <th>Region</th>\n",
       "      <th>Antal vaccinationer</th>\n",
       "    </tr>\n",
       "  </thead>\n",
       "  <tbody>\n",
       "    <tr>\n",
       "      <th>0</th>\n",
       "      <td>52</td>\n",
       "      <td>2020</td>\n",
       "      <td>Sverige</td>\n",
       "      <td>2478</td>\n",
       "    </tr>\n",
       "    <tr>\n",
       "      <th>1166</th>\n",
       "      <td>52</td>\n",
       "      <td>2021</td>\n",
       "      <td>Sverige</td>\n",
       "      <td>17767162</td>\n",
       "    </tr>\n",
       "    <tr>\n",
       "      <th>2090</th>\n",
       "      <td>42</td>\n",
       "      <td>2022</td>\n",
       "      <td>Sverige</td>\n",
       "      <td>24768511</td>\n",
       "    </tr>\n",
       "  </tbody>\n",
       "</table>\n",
       "</div>"
      ],
      "text/plain": [
       "      Vecka    År   Region  Antal vaccinationer\n",
       "0        52  2020  Sverige                 2478\n",
       "1166     52  2021  Sverige             17767162\n",
       "2090     42  2022  Sverige             24768511"
      ]
     },
     "execution_count": 1005,
     "metadata": {},
     "output_type": "execute_result"
    }
   ],
   "source": [
    "df_dates#double check "
   ]
  },
  {
   "cell_type": "code",
   "execution_count": 1006,
   "metadata": {},
   "outputs": [],
   "source": [
    "\n",
    "# creates the condition for isin function \n",
    "year2020_condition=[2020]\n",
    "year2021_condition=[2021]\n",
    "year2022_condition=[2022]"
   ]
  },
  {
   "cell_type": "code",
   "execution_count": 1007,
   "metadata": {},
   "outputs": [],
   "source": [
    "\n",
    "#creates three dataframes for each year \n",
    "df_2020 = df_week_region[df_week_region[\"år\"].isin(year2020_condition)]\n",
    "df_2021 = df_week_region[df_week_region[\"år\"].isin(year2021_condition)]\n",
    "df_2022 = df_week_region[df_week_region[\"år\"].isin(year2022_condition)] # better fix? loop?\n",
    "\n",
    "\n",
    "### creates varibales that is the sum of \"Antal_avlidna_vecka\" for each year\n",
    "dead2020 = df_2020[\"Antal_avlidna_vecka\"].sum()\n",
    "dead2021 = df_2021[\"Antal_avlidna_vecka\"].sum()\n",
    "dead2022 = df_2022[\"Antal_avlidna_vecka\"].sum() \n",
    "\n",
    "\n",
    "### creates varibales that is the sum of \"Antal_intensivvårdade_vecka\" for each year\n",
    "intensive2020 = df_2020[\"Antal_intensivvårdade_vecka\"].sum()\n",
    "intensive2021 = df_2021[\"Antal_intensivvårdade_vecka\"].sum() \n",
    "intensive2022 = df_2022[\"Antal_intensivvårdade_vecka\"].sum() "
   ]
  },
  {
   "cell_type": "code",
   "execution_count": 1008,
   "metadata": {},
   "outputs": [
    {
     "name": "stdout",
     "output_type": "stream",
     "text": [
      "10085\n",
      "5288\n",
      "5208\n"
     ]
    }
   ],
   "source": [
    "\n",
    "print(dead2020)\n",
    "print(dead2021)\n",
    "print(dead2022)"
   ]
  },
  {
   "cell_type": "code",
   "execution_count": 1079,
   "metadata": {},
   "outputs": [
    {
     "data": {
      "image/png": "[encoded data removed]",
      "text/plain": [
       "<Figure size 640x480 with 1 Axes>"
      ]
     },
     "metadata": {},
     "output_type": "display_data"
    },
    {
     "name": "stdout",
     "output_type": "stream",
     "text": [
      "2020, 2021 from week 52, 2022 from week 42\n"
     ]
    }
   ],
   "source": [
    "cases_2020 = df_veckodata_riket[\"Kum_antal_fall\"][47] # to get the row 49\n",
    "cases_2021 = df_veckodata_riket[\"Kum_antal_fall\"][99]#to get the row 101\n",
    "cases_2022 = df_veckodata_riket[\"Kum_antal_fall\"][len(df_veckodata_riket)-1] # to get last row\n",
    "\n",
    "### PLOT\n",
    "fig = plt.figure()  ## creates canvas\n",
    "ax = fig.add_axes([0,0,2,1]) ## ratio\n",
    "data_lables = [ 'cases_2020', ' Vacinations 2020', 'Dead 2020', #labels for each bar\n",
    "                'cases_2021', 'Vacinations 2021', 'Dead 2021', \n",
    "                'cases_2022', 'Vacinations 2022', 'Dead 2022']\n",
    "data    = [ cases_2020, vacinated2020, dead2020, # y data\n",
    "            cases_2021, vacinated2021, dead2021, \n",
    "            cases_2022, vacinated2022, dead2022]\n",
    "ax.set_yscale('log') #  makes it logarithmic\n",
    "\n",
    "#friend told me about it, the list represnt RGB values, the defualt green,blue and red is jarring and ugly\n",
    "color_green = [0.161, 0.505, 0.35]\n",
    "color_blue = [0.161, 0.35, 0.505] \n",
    "color_red = [0.48, 0.2, 0.2] \n",
    "\n",
    "barplot = ax.bar(data_lables, data, color=[ color_green, color_blue, color_red, # colours the bars\n",
    "                                            color_green, color_blue, color_red,\n",
    "                                            color_green, color_blue, color_red])\n",
    "plt.bar_label(barplot)\n",
    "plt.title(\"Sick, vacinated and dead in Sweden\")\n",
    "\n",
    "plt.show()\n",
    "\n",
    "print(\"2020, 2021 from week 52, 2022 from week\")"
   ]
  },
  {
   "cell_type": "markdown",
   "metadata": {},
   "source": [
    "## Hypothesis & Conclusion\n",
    "group-herd immunity isn’t a viable strategy, covid-19 seems to be too volatile and rapidly changing,  it seems to continuously re-sicken people who have had it in the past and recovered, with and without vaccines.\n",
    "\n",
    "the virus was at it most deadly the first year\n",
    "\n",
    "    some possible factors:\n",
    "\n",
    " * the people that was most vulnerable succumbed to the virus within its first year\n",
    "\n",
    "* 2020 had access to the vaccines at the end of the year , which means most people who died wasn’t vaccinated \n",
    "\n",
    "* The virus continuously evolves which might have made it less deadly \n",
    "\n",
    "Vaccines seem to have a profound effect on the survival chances \n",
    "\n",
    "could be possible that the restrictions of the general public had very little effect\n",
    "the restercion was most intense from mars 2020 too mars 2022, it seems that it  didn’t hamper the growth of covid-19\n",
    " \n",
    "soruce: https://www.folkhalsomyndigheten.se/smittskydd-beredskap/utbrott/aktuella-utbrott/covid-19/folkhalsomyndighetens-roll-under-arbetet-med-covid-19/nar-hande-vad-under-pandemin/\n"
   ]
  },
  {
   "cell_type": "code",
   "execution_count": null,
   "metadata": {},
   "outputs": [],
   "source": [
    "## kpi check regions with least cases and calculate death ratio"
   ]
  },
  {
   "cell_type": "code",
   "execution_count": 1012,
   "metadata": {},
   "outputs": [],
   "source": [
    "##creates dataframe \n",
    "total_for_each_region = pd.read_excel(\"../Data/Folkhalsomyndigheten_Covid19.xlsx\" , sheet_name = \"Totalt antal per region\")\n",
    "df_region_total = pd.DataFrame(total_for_each_region)\n"
   ]
  },
  {
   "cell_type": "code",
   "execution_count": 1013,
   "metadata": {},
   "outputs": [],
   "source": [
    "df_sorterd = df_region_total.sort_values(by=[\"Totalt_antal_avlidna\"]) #sort datafrae\n"
   ]
  },
  {
   "cell_type": "code",
   "execution_count": 1015,
   "metadata": {},
   "outputs": [],
   "source": [
    "\n",
    "df_cases_dead =  df_sorterd[['Region', 'Totalt_antal_fall', 'Totalt_antal_avlidna']].copy() # makes new dataframe with relevant data"
   ]
  },
  {
   "cell_type": "code",
   "execution_count": 1017,
   "metadata": {},
   "outputs": [],
   "source": [
    "data = df_cases_dead[\"Totalt_antal_avlidna\"].div(df_cases_dead[\"Totalt_antal_fall\"], axis=\"rows\")##for plot but choose not too"
   ]
  },
  {
   "cell_type": "code",
   "execution_count": 1044,
   "metadata": {},
   "outputs": [],
   "source": [
    "\n",
    "least_infected = df_cases_dead.nsmallest(5, [\"Totalt_antal_fall\"]) ## 5 least infected\n",
    "\n",
    "most_infected = df_cases_dead.nlargest(5, [\"Totalt_antal_fall\"]) ## 5 most infected"
   ]
  },
  {
   "cell_type": "code",
   "execution_count": 1068,
   "metadata": {},
   "outputs": [
    {
     "data": {
      "text/html": [
       "<div>\n",
       "<style scoped>\n",
       "    .dataframe tbody tr th:only-of-type {\n",
       "        vertical-align: middle;\n",
       "    }\n",
       "\n",
       "    .dataframe tbody tr th {\n",
       "        vertical-align: top;\n",
       "    }\n",
       "\n",
       "    .dataframe thead th {\n",
       "        text-align: right;\n",
       "    }\n",
       "</style>\n",
       "<table border=\"1\" class=\"dataframe\">\n",
       "  <thead>\n",
       "    <tr style=\"text-align: right;\">\n",
       "      <th></th>\n",
       "      <th>Region</th>\n",
       "      <th>Totalt_antal_fall</th>\n",
       "      <th>Totalt_antal_avlidna</th>\n",
       "      <th>Risk of dying in %</th>\n",
       "    </tr>\n",
       "  </thead>\n",
       "  <tbody>\n",
       "    <tr>\n",
       "      <th>11</th>\n",
       "      <td>Stockholm</td>\n",
       "      <td>606611</td>\n",
       "      <td>5626</td>\n",
       "      <td>0.918925</td>\n",
       "    </tr>\n",
       "    <tr>\n",
       "      <th>18</th>\n",
       "      <td>Västra Götaland</td>\n",
       "      <td>444278</td>\n",
       "      <td>3342</td>\n",
       "      <td>0.746615</td>\n",
       "    </tr>\n",
       "    <tr>\n",
       "      <th>10</th>\n",
       "      <td>Skåne</td>\n",
       "      <td>346727</td>\n",
       "      <td>2587</td>\n",
       "      <td>0.740594</td>\n",
       "    </tr>\n",
       "    <tr>\n",
       "      <th>19</th>\n",
       "      <td>Örebro</td>\n",
       "      <td>98929</td>\n",
       "      <td>525</td>\n",
       "      <td>0.527882</td>\n",
       "    </tr>\n",
       "    <tr>\n",
       "      <th>4</th>\n",
       "      <td>Halland</td>\n",
       "      <td>108822</td>\n",
       "      <td>518</td>\n",
       "      <td>0.473752</td>\n",
       "    </tr>\n",
       "  </tbody>\n",
       "</table>\n",
       "</div>"
      ],
      "text/plain": [
       "             Region  Totalt_antal_fall  Totalt_antal_avlidna  \\\n",
       "11        Stockholm             606611                  5626   \n",
       "18  Västra Götaland             444278                  3342   \n",
       "10            Skåne             346727                  2587   \n",
       "19           Örebro              98929                   525   \n",
       "4           Halland             108822                   518   \n",
       "\n",
       "    Risk of dying in %  \n",
       "11            0.918925  \n",
       "18            0.746615  \n",
       "10            0.740594  \n",
       "19            0.527882  \n",
       "4             0.473752  "
      ]
     },
     "execution_count": 1068,
     "metadata": {},
     "output_type": "execute_result"
    }
   ],
   "source": [
    "most_infected[\"Risk of dying in %\"] = ((most_infected[\"Totalt_antal_avlidna\"])/(most_infected[\"Totalt_antal_avlidna\"] + most_infected[\"Totalt_antal_fall\"])*100)\n",
    "\n",
    "most_infected.sort_values(\"Risk of dying in %\",  ascending=False, inplace=True)\n",
    "\n",
    "most_infected"
   ]
  },
  {
   "cell_type": "code",
   "execution_count": 1067,
   "metadata": {},
   "outputs": [
    {
     "data": {
      "text/html": [
       "<div>\n",
       "<style scoped>\n",
       "    .dataframe tbody tr th:only-of-type {\n",
       "        vertical-align: middle;\n",
       "    }\n",
       "\n",
       "    .dataframe tbody tr th {\n",
       "        vertical-align: top;\n",
       "    }\n",
       "\n",
       "    .dataframe thead th {\n",
       "        text-align: right;\n",
       "    }\n",
       "</style>\n",
       "<table border=\"1\" class=\"dataframe\">\n",
       "  <thead>\n",
       "    <tr style=\"text-align: right;\">\n",
       "      <th></th>\n",
       "      <th>Region</th>\n",
       "      <th>Totalt_antal_fall</th>\n",
       "      <th>Totalt_antal_avlidna</th>\n",
       "      <th>Risk of dying in %</th>\n",
       "    </tr>\n",
       "  </thead>\n",
       "  <tbody>\n",
       "    <tr>\n",
       "      <th>9</th>\n",
       "      <td>Norrbotten</td>\n",
       "      <td>50755</td>\n",
       "      <td>459</td>\n",
       "      <td>0.896239</td>\n",
       "    </tr>\n",
       "    <tr>\n",
       "      <th>8</th>\n",
       "      <td>Kronoberg</td>\n",
       "      <td>51460</td>\n",
       "      <td>410</td>\n",
       "      <td>0.790438</td>\n",
       "    </tr>\n",
       "    <tr>\n",
       "      <th>2</th>\n",
       "      <td>Gotland</td>\n",
       "      <td>11874</td>\n",
       "      <td>82</td>\n",
       "      <td>0.685848</td>\n",
       "    </tr>\n",
       "    <tr>\n",
       "      <th>0</th>\n",
       "      <td>Blekinge</td>\n",
       "      <td>30829</td>\n",
       "      <td>184</td>\n",
       "      <td>0.593300</td>\n",
       "    </tr>\n",
       "    <tr>\n",
       "      <th>5</th>\n",
       "      <td>Jämtland Härjedalen</td>\n",
       "      <td>34347</td>\n",
       "      <td>197</td>\n",
       "      <td>0.570287</td>\n",
       "    </tr>\n",
       "  </tbody>\n",
       "</table>\n",
       "</div>"
      ],
      "text/plain": [
       "                Region  Totalt_antal_fall  Totalt_antal_avlidna  \\\n",
       "9           Norrbotten              50755                   459   \n",
       "8            Kronoberg              51460                   410   \n",
       "2              Gotland              11874                    82   \n",
       "0             Blekinge              30829                   184   \n",
       "5  Jämtland Härjedalen              34347                   197   \n",
       "\n",
       "   Risk of dying in %  \n",
       "9            0.896239  \n",
       "8            0.790438  \n",
       "2            0.685848  \n",
       "0            0.593300  \n",
       "5            0.570287  "
      ]
     },
     "execution_count": 1067,
     "metadata": {},
     "output_type": "execute_result"
    }
   ],
   "source": [
    "least_infected[\"Risk of dying in %\"] = ((least_infected[\"Totalt_antal_avlidna\"])/(least_infected[\"Totalt_antal_avlidna\"] + least_infected[\"Totalt_antal_fall\"])*100)\n",
    "\n",
    "least_infected.sort_values(\"Risk of dying in %\",  ascending=False, inplace=True)\n",
    "\n",
    "least_infected"
   ]
  },
  {
   "cell_type": "code",
   "execution_count": 1074,
   "metadata": {},
   "outputs": [
    {
     "name": "stdout",
     "output_type": "stream",
     "text": [
      "0.7072223611747779\n",
      "0.6815537759876048\n"
     ]
    },
    {
     "data": {
      "text/plain": [
       "0.025668585187173076"
      ]
     },
     "execution_count": 1074,
     "metadata": {},
     "output_type": "execute_result"
    }
   ],
   "source": [
    "print(least_infected[\"Risk of dying in %\"].mean())\n",
    "print(most_infected[\"Risk of dying in %\"].mean())\n",
    "0.7072223611747779-0.6815537759876048"
   ]
  },
  {
   "cell_type": "code",
   "execution_count": 1072,
   "metadata": {},
   "outputs": [
    {
     "data": {
      "text/plain": [
       "0.025668585187173076"
      ]
     },
     "execution_count": 1072,
     "metadata": {},
     "output_type": "execute_result"
    }
   ],
   "source": [
    "0.7072223611747779-0.6815537759876048"
   ]
  },
  {
   "cell_type": "markdown",
   "metadata": {},
   "source": [
    "## Hypothesis & Conclusion\n",
    "\n",
    "    Hypothesis: \n",
    "  *  the biggest counties would have the highest death yield\n",
    "   \n",
    "  *  the least infected counties would have a higher death yield per capita \n",
    "\n",
    "Conclusion\n",
    "\n",
    "The virus death ratio seems to correlate in specific groups. Norrbotten had almost as high a “risk of dying” as Stockholm even if the infection rate was smaller. Some counties did better per capita, Halland had the 5th highest infection yield,  but per capita the lowest risk of dying.  \n",
    "The virus did not spread as much in Gotland as in the rest of the country.  \n",
    "\n",
    "The 5 biggest counties and 5 smallest counties in terms of infection rate had similar results, the death per capita differentiator was 0.256%.  \n"
   ]
  },
  {
   "cell_type": "code",
   "execution_count": null,
   "metadata": {},
   "outputs": [],
   "source": []
  }
 ],
 "metadata": {
  "kernelspec": {
   "display_name": "Python 3.9.13 ('Databehandling-Max-Liedman-7Jl1bF7R')",
   "language": "python",
   "name": "python3"
  },
  "language_info": {
   "codemirror_mode": {
    "name": "ipython",
    "version": 3
   },
   "file_extension": ".py",
   "mimetype": "text/x-python",
   "name": "python",
   "nbconvert_exporter": "python",
   "pygments_lexer": "ipython3",
   "version": "3.9.13"
  },
  "orig_nbformat": 4,
  "vscode": {
   "interpreter": {
    "hash": "6de4419a5dddb9886455a8609ea1b3eb28113ef39a6755243e4145f47265e7c2"
   }
  }
 },
 "nbformat": 4,
 "nbformat_minor": 2
}
