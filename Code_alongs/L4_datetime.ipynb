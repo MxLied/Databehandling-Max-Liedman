{
 "cells": [
  {
   "cell_type": "markdown",
   "metadata": {},
   "source": [
    "# Datetime"
   ]
  },
  {
   "cell_type": "code",
   "execution_count": 3,
   "metadata": {},
   "outputs": [
    {
     "name": "stdout",
     "output_type": "stream",
     "text": [
      "2022-11-07 09:26:05.145413\n"
     ]
    }
   ],
   "source": [
    "from datetime import datetime\n",
    "\n",
    "now =datetime.now()\n",
    "# format: yyyy-mm-dd-hh:mm:ss.ms\n",
    "print(now)"
   ]
  },
  {
   "cell_type": "code",
   "execution_count": 9,
   "metadata": {},
   "outputs": [
    {
     "name": "stdout",
     "output_type": "stream",
     "text": [
      "todays is 2022-11-07\n",
      "todays is Mon\n",
      "todays is 45\n",
      "todays is 1\n"
     ]
    }
   ],
   "source": [
    "print(f\"todays is {now.date()}\")\n",
    "# strftime: datetime -> str\n",
    "print(f\"todays is {now.strftime('%a')}\") ## uppercase sensetive \n",
    "print(f\"todays is {now.strftime('%W')}\")\n",
    "print(f\"todays is {now.strftime('%w')}\")"
   ]
  },
  {
   "cell_type": "code",
   "execution_count": 11,
   "metadata": {},
   "outputs": [
    {
     "name": "stdout",
     "output_type": "stream",
     "text": [
      "2024-05-25 00:00:00\n"
     ]
    }
   ],
   "source": [
    "gradiaton_date = \"25/5-2024\"\n",
    "# strptime: str -> datetime\n",
    "gradiaton_date = datetime.strptime(gradiaton_date, \"%d/%m-%Y\") # väldigt upper-case senstive \n",
    "print(gradiaton_date)\n",
    "gradiaton_date"
   ]
  },
  {
   "cell_type": "code",
   "execution_count": 15,
   "metadata": {},
   "outputs": [
    {
     "name": "stdout",
     "output_type": "stream",
     "text": [
      "564 days, 14:33:54.854587\n"
     ]
    },
    {
     "data": {
      "text/plain": [
       "datetime.timedelta(days=564, seconds=52434, microseconds=854587)"
      ]
     },
     "execution_count": 15,
     "metadata": {},
     "output_type": "execute_result"
    }
   ],
   "source": [
    "remaining_time = (gradiaton_date - now)\n",
    "\n",
    "print(remaining_time)\n",
    "remaining_time"
   ]
  },
  {
   "cell_type": "code",
   "execution_count": 16,
   "metadata": {},
   "outputs": [
    {
     "data": {
      "text/plain": [
       "'Week: 51,day:Sat'"
      ]
     },
     "execution_count": 16,
     "metadata": {},
     "output_type": "execute_result"
    }
   ],
   "source": [
    "christmas_str = \"2022-12-24\"\n",
    "\n",
    "christmas_date = datetime.strptime(christmas_str, \"%Y-%m-%d\") # omvandlar strings till date time objekt\n",
    "christmas_date.strftime(\"Week: %W,day:%a\")"
   ]
  }
 ],
 "metadata": {
  "kernelspec": {
   "display_name": "Python 3.9.13 ('Databehandling-Max-Liedman-7Jl1bF7R')",
   "language": "python",
   "name": "python3"
  },
  "language_info": {
   "codemirror_mode": {
    "name": "ipython",
    "version": 3
   },
   "file_extension": ".py",
   "mimetype": "text/x-python",
   "name": "python",
   "nbconvert_exporter": "python",
   "pygments_lexer": "ipython3",
   "version": "3.9.13"
  },
  "orig_nbformat": 4,
  "vscode": {
   "interpreter": {
    "hash": "6de4419a5dddb9886455a8609ea1b3eb28113ef39a6755243e4145f47265e7c2"
   }
  }
 },
 "nbformat": 4,
 "nbformat_minor": 2
}
